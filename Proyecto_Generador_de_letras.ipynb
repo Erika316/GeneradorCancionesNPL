{
  "cells": [
    {
      "cell_type": "markdown",
      "source": [
        "# **GENERADOR DE LETRAS DE CANCIONES EN ESPAÑOL E INGLÉS**\n",
        "## **PROYECTO FINAL DE MÉTODOS DE COMPUTACIÓN INTENSIVA**\n",
        "### **UNIVERSIDAD NACIONAL DE COLOMBIA**\n",
        "\n",
        "##### **PRESENTADO POR:**\n",
        "*Erika Johanna Martínez Salinas*\n",
        "\n",
        "*Andrea Catalina García Montoya*"
      ],
      "metadata": {
        "id": "n7YeoJ9tjQ8C"
      }
    },
    {
      "cell_type": "markdown",
      "metadata": {
        "id": "S5x22elIxK-A"
      },
      "source": [
        "# Generador de Letras de Canciones\n",
        "\n",
        "El objetivo de este proyecto es generar letras de canciones sintéticas, a partir de la inclusión de una o varias palabras sobre la temática con la que se desea la letra de la canción.\n",
        "\n",
        "Para ello, vamos a utilizar redes de memoria a largo y corto plazo (LSTM). Este tipo de redes neuronales recurrentes (RNN) son muy utilizadas en tareas de procesamiento de lenguaje natural. El modelo se entrena con un *conjunto de datos que contiene letras de canciones en español y en inglés* preparado por nosotras, el análisis exploratorio de los datos se puede encontrar en el notebook: `Análisis exploratorio datos.ipynb`, el generador de letras en español e inglés en el notebook: `Generador de letras.ipynb`\n",
        "y el conjunto de datos utilizado se encuentra en (https://github.com/Erika316/GeneradorCancionesNPL/blob/main/spotify_millsongdata.csv.zip)"
      ]
    },
    {
      "cell_type": "markdown",
      "metadata": {
        "id": "2NmN2lbYI2MP"
      },
      "source": [
        "## 1. Importación de librerías\n"
      ]
    },
    {
      "cell_type": "markdown",
      "metadata": {
        "id": "bj1q9Dqoz_wh"
      },
      "source": [
        "Lo primero que haremos es importar las librerías necesarias para el ejercicio, en clase vimos el uso de la librería Tensorflow, la cual será la que utilizarémos en este ejercicio."
      ]
    },
    {
      "cell_type": "code",
      "execution_count": null,
      "metadata": {
        "id": "8tgJY3CtJWge"
      },
      "outputs": [],
      "source": [
        "# Librerías\n",
        "\n",
        "# Paquetes\n",
        "import numpy as np\n",
        "import pandas as pd\n",
        "import tensorflow as tf\n",
        "import requests\n",
        "from io import StringIO\n",
        "# Paquetes visualización\n",
        "import matplotlib.pyplot as plt\n",
        "\n",
        "\n",
        "import os\n",
        "import json"
      ]
    },
    {
      "cell_type": "code",
      "source": [
        "pip install transformers -U"
      ],
      "metadata": {
        "colab": {
          "base_uri": "https://localhost:8080/"
        },
        "id": "dyPGrgRvM0tz",
        "outputId": "13b78444-5d55-4931-bdc7-521efa04b262"
      },
      "execution_count": null,
      "outputs": [
        {
          "output_type": "stream",
          "name": "stdout",
          "text": [
            "Collecting transformers\n",
            "  Downloading transformers-4.35.0-py3-none-any.whl (7.9 MB)\n",
            "\u001b[2K     \u001b[90m━━━━━━━━━━━━━━━━━━━━━━━━━━━━━━━━━━━━━━━━\u001b[0m \u001b[32m7.9/7.9 MB\u001b[0m \u001b[31m57.5 MB/s\u001b[0m eta \u001b[36m0:00:00\u001b[0m\n",
            "\u001b[?25hRequirement already satisfied: filelock in /usr/local/lib/python3.10/dist-packages (from transformers) (3.13.1)\n",
            "Collecting huggingface-hub<1.0,>=0.16.4 (from transformers)\n",
            "  Downloading huggingface_hub-0.19.0-py3-none-any.whl (311 kB)\n",
            "\u001b[2K     \u001b[90m━━━━━━━━━━━━━━━━━━━━━━━━━━━━━━━━━━━━━━━━\u001b[0m \u001b[32m311.2/311.2 kB\u001b[0m \u001b[31m39.2 MB/s\u001b[0m eta \u001b[36m0:00:00\u001b[0m\n",
            "\u001b[?25hRequirement already satisfied: numpy>=1.17 in /usr/local/lib/python3.10/dist-packages (from transformers) (1.23.5)\n",
            "Requirement already satisfied: packaging>=20.0 in /usr/local/lib/python3.10/dist-packages (from transformers) (23.2)\n",
            "Requirement already satisfied: pyyaml>=5.1 in /usr/local/lib/python3.10/dist-packages (from transformers) (6.0.1)\n",
            "Requirement already satisfied: regex!=2019.12.17 in /usr/local/lib/python3.10/dist-packages (from transformers) (2023.6.3)\n",
            "Requirement already satisfied: requests in /usr/local/lib/python3.10/dist-packages (from transformers) (2.31.0)\n",
            "Collecting tokenizers<0.15,>=0.14 (from transformers)\n",
            "  Downloading tokenizers-0.14.1-cp310-cp310-manylinux_2_17_x86_64.manylinux2014_x86_64.whl (3.8 MB)\n",
            "\u001b[2K     \u001b[90m━━━━━━━━━━━━━━━━━━━━━━━━━━━━━━━━━━━━━━━━\u001b[0m \u001b[32m3.8/3.8 MB\u001b[0m \u001b[31m105.1 MB/s\u001b[0m eta \u001b[36m0:00:00\u001b[0m\n",
            "\u001b[?25hCollecting safetensors>=0.3.1 (from transformers)\n",
            "  Downloading safetensors-0.4.0-cp310-cp310-manylinux_2_17_x86_64.manylinux2014_x86_64.whl (1.3 MB)\n",
            "\u001b[2K     \u001b[90m━━━━━━━━━━━━━━━━━━━━━━━━━━━━━━━━━━━━━━━━\u001b[0m \u001b[32m1.3/1.3 MB\u001b[0m \u001b[31m87.4 MB/s\u001b[0m eta \u001b[36m0:00:00\u001b[0m\n",
            "\u001b[?25hRequirement already satisfied: tqdm>=4.27 in /usr/local/lib/python3.10/dist-packages (from transformers) (4.66.1)\n",
            "Requirement already satisfied: fsspec>=2023.5.0 in /usr/local/lib/python3.10/dist-packages (from huggingface-hub<1.0,>=0.16.4->transformers) (2023.6.0)\n",
            "Requirement already satisfied: typing-extensions>=3.7.4.3 in /usr/local/lib/python3.10/dist-packages (from huggingface-hub<1.0,>=0.16.4->transformers) (4.5.0)\n",
            "Collecting huggingface-hub<1.0,>=0.16.4 (from transformers)\n",
            "  Downloading huggingface_hub-0.17.3-py3-none-any.whl (295 kB)\n",
            "\u001b[2K     \u001b[90m━━━━━━━━━━━━━━━━━━━━━━━━━━━━━━━━━━━━━━━━\u001b[0m \u001b[32m295.0/295.0 kB\u001b[0m \u001b[31m36.6 MB/s\u001b[0m eta \u001b[36m0:00:00\u001b[0m\n",
            "\u001b[?25hRequirement already satisfied: charset-normalizer<4,>=2 in /usr/local/lib/python3.10/dist-packages (from requests->transformers) (3.3.2)\n",
            "Requirement already satisfied: idna<4,>=2.5 in /usr/local/lib/python3.10/dist-packages (from requests->transformers) (3.4)\n",
            "Requirement already satisfied: urllib3<3,>=1.21.1 in /usr/local/lib/python3.10/dist-packages (from requests->transformers) (2.0.7)\n",
            "Requirement already satisfied: certifi>=2017.4.17 in /usr/local/lib/python3.10/dist-packages (from requests->transformers) (2023.7.22)\n",
            "Installing collected packages: safetensors, huggingface-hub, tokenizers, transformers\n",
            "Successfully installed huggingface-hub-0.17.3 safetensors-0.4.0 tokenizers-0.14.1 transformers-4.35.0\n"
          ]
        }
      ]
    },
    {
      "cell_type": "code",
      "source": [
        "pip install pyyaml==5.4.1"
      ],
      "metadata": {
        "colab": {
          "base_uri": "https://localhost:8080/"
        },
        "id": "JDGbvub5M7_j",
        "outputId": "868b7743-a521-4d8d-9b24-1d36edf4a4d3"
      },
      "execution_count": null,
      "outputs": [
        {
          "output_type": "stream",
          "name": "stdout",
          "text": [
            "Collecting pyyaml==5.4.1\n",
            "  Downloading PyYAML-5.4.1.tar.gz (175 kB)\n",
            "\u001b[?25l     \u001b[90m━━━━━━━━━━━━━━━━━━━━━━━━━━━━━━━━━━━━━━━━\u001b[0m \u001b[32m0.0/175.1 kB\u001b[0m \u001b[31m?\u001b[0m eta \u001b[36m-:--:--\u001b[0m\r\u001b[2K     \u001b[91m━━━━━━━━━━━━━━━━━━━━━━━━━\u001b[0m\u001b[91m╸\u001b[0m\u001b[90m━━━━━━━━━━━━━━\u001b[0m \u001b[32m112.6/175.1 kB\u001b[0m \u001b[31m3.1 MB/s\u001b[0m eta \u001b[36m0:00:01\u001b[0m\r\u001b[2K     \u001b[90m━━━━━━━━━━━━━━━━━━━━━━━━━━━━━━━━━━━━━━━━\u001b[0m \u001b[32m175.1/175.1 kB\u001b[0m \u001b[31m3.8 MB/s\u001b[0m eta \u001b[36m0:00:00\u001b[0m\n",
            "\u001b[?25h  Installing build dependencies ... \u001b[?25l\u001b[?25hdone\n",
            "  \u001b[1;31merror\u001b[0m: \u001b[1msubprocess-exited-with-error\u001b[0m\n",
            "  \n",
            "  \u001b[31m×\u001b[0m \u001b[32mGetting requirements to build wheel\u001b[0m did not run successfully.\n",
            "  \u001b[31m│\u001b[0m exit code: \u001b[1;36m1\u001b[0m\n",
            "  \u001b[31m╰─>\u001b[0m See above for output.\n",
            "  \n",
            "  \u001b[1;35mnote\u001b[0m: This error originates from a subprocess, and is likely not a problem with pip.\n",
            "  Getting requirements to build wheel ... \u001b[?25l\u001b[?25herror\n",
            "\u001b[1;31merror\u001b[0m: \u001b[1msubprocess-exited-with-error\u001b[0m\n",
            "\n",
            "\u001b[31m×\u001b[0m \u001b[32mGetting requirements to build wheel\u001b[0m did not run successfully.\n",
            "\u001b[31m│\u001b[0m exit code: \u001b[1;36m1\u001b[0m\n",
            "\u001b[31m╰─>\u001b[0m See above for output.\n",
            "\n",
            "\u001b[1;35mnote\u001b[0m: This error originates from a subprocess, and is likely not a problem with pip.\n"
          ]
        }
      ]
    },
    {
      "cell_type": "code",
      "source": [
        "pip install plotly_express"
      ],
      "metadata": {
        "colab": {
          "base_uri": "https://localhost:8080/"
        },
        "id": "OjnbMUiiNA3j",
        "outputId": "da06c2a1-cf1e-4466-bb1e-a1393eb2f4f3"
      },
      "execution_count": null,
      "outputs": [
        {
          "output_type": "stream",
          "name": "stdout",
          "text": [
            "Collecting plotly_express\n",
            "  Downloading plotly_express-0.4.1-py2.py3-none-any.whl (2.9 kB)\n",
            "Requirement already satisfied: pandas>=0.20.0 in /usr/local/lib/python3.10/dist-packages (from plotly_express) (1.5.3)\n",
            "Requirement already satisfied: plotly>=4.1.0 in /usr/local/lib/python3.10/dist-packages (from plotly_express) (5.15.0)\n",
            "Requirement already satisfied: statsmodels>=0.9.0 in /usr/local/lib/python3.10/dist-packages (from plotly_express) (0.14.0)\n",
            "Requirement already satisfied: scipy>=0.18 in /usr/local/lib/python3.10/dist-packages (from plotly_express) (1.11.3)\n",
            "Requirement already satisfied: patsy>=0.5 in /usr/local/lib/python3.10/dist-packages (from plotly_express) (0.5.3)\n",
            "Requirement already satisfied: numpy>=1.11 in /usr/local/lib/python3.10/dist-packages (from plotly_express) (1.23.5)\n",
            "Requirement already satisfied: python-dateutil>=2.8.1 in /usr/local/lib/python3.10/dist-packages (from pandas>=0.20.0->plotly_express) (2.8.2)\n",
            "Requirement already satisfied: pytz>=2020.1 in /usr/local/lib/python3.10/dist-packages (from pandas>=0.20.0->plotly_express) (2023.3.post1)\n",
            "Requirement already satisfied: six in /usr/local/lib/python3.10/dist-packages (from patsy>=0.5->plotly_express) (1.16.0)\n",
            "Requirement already satisfied: tenacity>=6.2.0 in /usr/local/lib/python3.10/dist-packages (from plotly>=4.1.0->plotly_express) (8.2.3)\n",
            "Requirement already satisfied: packaging in /usr/local/lib/python3.10/dist-packages (from plotly>=4.1.0->plotly_express) (23.2)\n",
            "Installing collected packages: plotly_express\n",
            "Successfully installed plotly_express-0.4.1\n"
          ]
        }
      ]
    },
    {
      "cell_type": "code",
      "source": [
        "pip install torch"
      ],
      "metadata": {
        "colab": {
          "base_uri": "https://localhost:8080/"
        },
        "id": "ZB4WFW5FNIv7",
        "outputId": "ddac857d-d38d-4e28-ed32-2d9be26d67a2"
      },
      "execution_count": null,
      "outputs": [
        {
          "output_type": "stream",
          "name": "stdout",
          "text": [
            "Requirement already satisfied: torch in /usr/local/lib/python3.10/dist-packages (2.1.0+cu118)\n",
            "Requirement already satisfied: filelock in /usr/local/lib/python3.10/dist-packages (from torch) (3.13.1)\n",
            "Requirement already satisfied: typing-extensions in /usr/local/lib/python3.10/dist-packages (from torch) (4.5.0)\n",
            "Requirement already satisfied: sympy in /usr/local/lib/python3.10/dist-packages (from torch) (1.12)\n",
            "Requirement already satisfied: networkx in /usr/local/lib/python3.10/dist-packages (from torch) (3.2.1)\n",
            "Requirement already satisfied: jinja2 in /usr/local/lib/python3.10/dist-packages (from torch) (3.1.2)\n",
            "Requirement already satisfied: fsspec in /usr/local/lib/python3.10/dist-packages (from torch) (2023.6.0)\n",
            "Requirement already satisfied: triton==2.1.0 in /usr/local/lib/python3.10/dist-packages (from torch) (2.1.0)\n",
            "Requirement already satisfied: MarkupSafe>=2.0 in /usr/local/lib/python3.10/dist-packages (from jinja2->torch) (2.1.3)\n",
            "Requirement already satisfied: mpmath>=0.19 in /usr/local/lib/python3.10/dist-packages (from sympy->torch) (1.3.0)\n"
          ]
        }
      ]
    },
    {
      "cell_type": "code",
      "source": [
        "# Paquetes básicos\n",
        "import pandas as pd\n",
        "import plotly.express as plx\n",
        "import numpy as np\n",
        "import plotly.graph_objects as go\n",
        "import os\n",
        "import time\n",
        "import datetime\n",
        "# Pytorch\n",
        "import torch\n",
        "from torch import nn\n",
        "import torch.nn.functional as F\n",
        "from torch.utils.data import Dataset, random_split, DataLoader, RandomSampler, SequentialSampler\n",
        "# Texto\n",
        "from transformers import GPT2LMHeadModel, GPT2Tokenizer\n",
        "from transformers import get_scheduler\n",
        "import random\n",
        "from transformers import GPT2Tokenizer, GPT2LMHeadModel, GPT2Config, AdamW, get_linear_schedule_with_warmup\n",
        "from tqdm import tqdm, trange\n",
        "from transformers import pipeline\n",
        "# Sklearn\n",
        "from sklearn.model_selection import train_test_split\n",
        "# Funciones y variables\n",
        "def format_time(elapsed): return str(datetime.timedelta(seconds=int(round((elapsed)))))"
      ],
      "metadata": {
        "id": "L6w5NIweNcRK"
      },
      "execution_count": null,
      "outputs": []
    },
    {
      "cell_type": "markdown",
      "source": [
        "## Fijar el directorio de trabajo"
      ],
      "metadata": {
        "id": "hMEiHsHS8W5L"
      }
    },
    {
      "cell_type": "code",
      "source": [
        "from google.colab import drive\n",
        "\n",
        "# Montar Google Drive\n",
        "drive.mount('/content/drive')"
      ],
      "metadata": {
        "colab": {
          "base_uri": "https://localhost:8080/"
        },
        "id": "5zc_qaBS9hCh",
        "outputId": "343697d7-fa9a-4ba2-d001-6ad2c7faaad2"
      },
      "execution_count": null,
      "outputs": [
        {
          "output_type": "stream",
          "name": "stdout",
          "text": [
            "Mounted at /content/drive\n"
          ]
        }
      ]
    },
    {
      "cell_type": "code",
      "source": [
        "import os\n",
        "\n",
        "# Ruta a la carpeta deseada\n",
        "ruta_deseada = '/content/drive/My Drive/Colab Notebooks'\n",
        "\n",
        "# Cambiar el directorio de trabajo\n",
        "os.chdir(ruta_deseada)\n",
        "\n",
        "# Verificar el nuevo directorio de trabajo\n",
        "print(\"Nuevo directorio de trabajo:\", os.getcwd())"
      ],
      "metadata": {
        "colab": {
          "base_uri": "https://localhost:8080/"
        },
        "id": "n7890s8j8WS7",
        "outputId": "f0e4884f-53bb-47d8-d6ba-be8784484a76"
      },
      "execution_count": null,
      "outputs": [
        {
          "output_type": "stream",
          "name": "stdout",
          "text": [
            "Nuevo directorio de trabajo: /content/drive/My Drive/Colab Notebooks\n"
          ]
        }
      ]
    },
    {
      "cell_type": "markdown",
      "metadata": {
        "id": "mxtMnk1g06TQ"
      },
      "source": [
        "Se recopilaron dos base de datos con letras de canciones en inglés y en español, se almacenaron en formato CSV y se organizaron en las siguientes columnas:\n",
        "\n",
        "Canciones en inglés:\n",
        "*   artist.\n",
        "*   song.\n",
        "*   link.\n",
        "*   text.\n",
        "\n",
        "Canciones en español:\n",
        "*   artista.\n",
        "*   canción.\n",
        "*   album.\n",
        "*   letra.\n",
        "*   año.\n",
        "*   visitas.\n",
        "\n",
        "Los datos se encuentran almacenados en el repositorio GitHub: https://github.com/Erika316/GeneradorCancionesNPL/raw/main/hhgroups_merge_28_05.csv.zip y en https://github.com/CatalinaGMR/ProyectoGeneradordeTexto/raw/main/spotify_millsongdata.csv.zip\n",
        "\n",
        "A continuación, se agrupan las canciones por artista para ver una descripción global de los datos."
      ]
    },
    {
      "cell_type": "markdown",
      "metadata": {
        "id": "i0UjQ6TN2FXM"
      },
      "source": [
        "\n",
        "#1.1 Lectura de los datos\n",
        "\n",
        "Mostrarémos la base de datos y sus especificidades."
      ]
    },
    {
      "cell_type": "markdown",
      "source": [
        "### Carga de datos en inglés"
      ],
      "metadata": {
        "id": "VlQWvOVQ35sC"
      }
    },
    {
      "cell_type": "code",
      "execution_count": null,
      "metadata": {
        "colab": {
          "base_uri": "https://localhost:8080/"
        },
        "id": "dkDl8JCxJE_F",
        "outputId": "d3ef8ae6-1856-4f7a-e783-c008db6cb77b"
      },
      "outputs": [
        {
          "output_type": "stream",
          "name": "stdout",
          "text": [
            "(57650, 4)\n"
          ]
        }
      ],
      "source": [
        "url = 'https://github.com/CatalinaGMR/ProyectoGeneradordeTexto/raw/main/spotify_millsongdata.csv.zip'\n",
        "# Carga de la base\n",
        "letras_df = pd.read_csv(url)\n",
        "print(letras_df.shape)"
      ]
    },
    {
      "cell_type": "code",
      "execution_count": null,
      "metadata": {
        "colab": {
          "base_uri": "https://localhost:8080/",
          "height": 363
        },
        "id": "dq2M2toGLW8g",
        "outputId": "fdf7f873-5f17-4a15-f22c-caa107f9993d"
      },
      "outputs": [
        {
          "output_type": "execute_result",
          "data": {
            "text/plain": [
              "  artist                   song                                        link  \\\n",
              "0   ABBA  Ahe's My Kind Of Girl  /a/abba/ahes+my+kind+of+girl_20598417.html   \n",
              "1   ABBA       Andante, Andante       /a/abba/andante+andante_20002708.html   \n",
              "2   ABBA         As Good As New        /a/abba/as+good+as+new_20003033.html   \n",
              "3   ABBA                   Bang                  /a/abba/bang_20598415.html   \n",
              "4   ABBA       Bang-A-Boomerang      /a/abba/bang+a+boomerang_20002668.html   \n",
              "5   ABBA     Burning My Bridges    /a/abba/burning+my+bridges_20003011.html   \n",
              "6   ABBA              Cassandra             /a/abba/cassandra_20002811.html   \n",
              "7   ABBA             Chiquitita            /a/abba/chiquitita_20002978.html   \n",
              "8   ABBA            Crazy World           /a/abba/crazy+world_20003013.html   \n",
              "9   ABBA        Crying Over You       /a/abba/crying+over+you_20177611.html   \n",
              "\n",
              "                                                text  \n",
              "0  Look at her face, it's a wonderful face  \\r\\nA...  \n",
              "1  Take it easy with me, please  \\r\\nTouch me gen...  \n",
              "2  I'll never know why I had to go  \\r\\nWhy I had...  \n",
              "3  Making somebody happy is a question of give an...  \n",
              "4  Making somebody happy is a question of give an...  \n",
              "5  Well, you hoot and you holler and you make me ...  \n",
              "6  Down in the street they're all singing and sho...  \n",
              "7  Chiquitita, tell me what's wrong  \\r\\nYou're e...  \n",
              "8  I was out with the morning sun  \\r\\nCouldn't s...  \n",
              "9  I'm waitin' for you baby  \\r\\nI'm sitting all ...  "
            ],
            "text/html": [
              "\n",
              "  <div id=\"df-0de8348b-3748-4684-b2ba-49e92c18c414\" class=\"colab-df-container\">\n",
              "    <div>\n",
              "<style scoped>\n",
              "    .dataframe tbody tr th:only-of-type {\n",
              "        vertical-align: middle;\n",
              "    }\n",
              "\n",
              "    .dataframe tbody tr th {\n",
              "        vertical-align: top;\n",
              "    }\n",
              "\n",
              "    .dataframe thead th {\n",
              "        text-align: right;\n",
              "    }\n",
              "</style>\n",
              "<table border=\"1\" class=\"dataframe\">\n",
              "  <thead>\n",
              "    <tr style=\"text-align: right;\">\n",
              "      <th></th>\n",
              "      <th>artist</th>\n",
              "      <th>song</th>\n",
              "      <th>link</th>\n",
              "      <th>text</th>\n",
              "    </tr>\n",
              "  </thead>\n",
              "  <tbody>\n",
              "    <tr>\n",
              "      <th>0</th>\n",
              "      <td>ABBA</td>\n",
              "      <td>Ahe's My Kind Of Girl</td>\n",
              "      <td>/a/abba/ahes+my+kind+of+girl_20598417.html</td>\n",
              "      <td>Look at her face, it's a wonderful face  \\r\\nA...</td>\n",
              "    </tr>\n",
              "    <tr>\n",
              "      <th>1</th>\n",
              "      <td>ABBA</td>\n",
              "      <td>Andante, Andante</td>\n",
              "      <td>/a/abba/andante+andante_20002708.html</td>\n",
              "      <td>Take it easy with me, please  \\r\\nTouch me gen...</td>\n",
              "    </tr>\n",
              "    <tr>\n",
              "      <th>2</th>\n",
              "      <td>ABBA</td>\n",
              "      <td>As Good As New</td>\n",
              "      <td>/a/abba/as+good+as+new_20003033.html</td>\n",
              "      <td>I'll never know why I had to go  \\r\\nWhy I had...</td>\n",
              "    </tr>\n",
              "    <tr>\n",
              "      <th>3</th>\n",
              "      <td>ABBA</td>\n",
              "      <td>Bang</td>\n",
              "      <td>/a/abba/bang_20598415.html</td>\n",
              "      <td>Making somebody happy is a question of give an...</td>\n",
              "    </tr>\n",
              "    <tr>\n",
              "      <th>4</th>\n",
              "      <td>ABBA</td>\n",
              "      <td>Bang-A-Boomerang</td>\n",
              "      <td>/a/abba/bang+a+boomerang_20002668.html</td>\n",
              "      <td>Making somebody happy is a question of give an...</td>\n",
              "    </tr>\n",
              "    <tr>\n",
              "      <th>5</th>\n",
              "      <td>ABBA</td>\n",
              "      <td>Burning My Bridges</td>\n",
              "      <td>/a/abba/burning+my+bridges_20003011.html</td>\n",
              "      <td>Well, you hoot and you holler and you make me ...</td>\n",
              "    </tr>\n",
              "    <tr>\n",
              "      <th>6</th>\n",
              "      <td>ABBA</td>\n",
              "      <td>Cassandra</td>\n",
              "      <td>/a/abba/cassandra_20002811.html</td>\n",
              "      <td>Down in the street they're all singing and sho...</td>\n",
              "    </tr>\n",
              "    <tr>\n",
              "      <th>7</th>\n",
              "      <td>ABBA</td>\n",
              "      <td>Chiquitita</td>\n",
              "      <td>/a/abba/chiquitita_20002978.html</td>\n",
              "      <td>Chiquitita, tell me what's wrong  \\r\\nYou're e...</td>\n",
              "    </tr>\n",
              "    <tr>\n",
              "      <th>8</th>\n",
              "      <td>ABBA</td>\n",
              "      <td>Crazy World</td>\n",
              "      <td>/a/abba/crazy+world_20003013.html</td>\n",
              "      <td>I was out with the morning sun  \\r\\nCouldn't s...</td>\n",
              "    </tr>\n",
              "    <tr>\n",
              "      <th>9</th>\n",
              "      <td>ABBA</td>\n",
              "      <td>Crying Over You</td>\n",
              "      <td>/a/abba/crying+over+you_20177611.html</td>\n",
              "      <td>I'm waitin' for you baby  \\r\\nI'm sitting all ...</td>\n",
              "    </tr>\n",
              "  </tbody>\n",
              "</table>\n",
              "</div>\n",
              "    <div class=\"colab-df-buttons\">\n",
              "\n",
              "  <div class=\"colab-df-container\">\n",
              "    <button class=\"colab-df-convert\" onclick=\"convertToInteractive('df-0de8348b-3748-4684-b2ba-49e92c18c414')\"\n",
              "            title=\"Convert this dataframe to an interactive table.\"\n",
              "            style=\"display:none;\">\n",
              "\n",
              "  <svg xmlns=\"http://www.w3.org/2000/svg\" height=\"24px\" viewBox=\"0 -960 960 960\">\n",
              "    <path d=\"M120-120v-720h720v720H120Zm60-500h600v-160H180v160Zm220 220h160v-160H400v160Zm0 220h160v-160H400v160ZM180-400h160v-160H180v160Zm440 0h160v-160H620v160ZM180-180h160v-160H180v160Zm440 0h160v-160H620v160Z\"/>\n",
              "  </svg>\n",
              "    </button>\n",
              "\n",
              "  <style>\n",
              "    .colab-df-container {\n",
              "      display:flex;\n",
              "      gap: 12px;\n",
              "    }\n",
              "\n",
              "    .colab-df-convert {\n",
              "      background-color: #E8F0FE;\n",
              "      border: none;\n",
              "      border-radius: 50%;\n",
              "      cursor: pointer;\n",
              "      display: none;\n",
              "      fill: #1967D2;\n",
              "      height: 32px;\n",
              "      padding: 0 0 0 0;\n",
              "      width: 32px;\n",
              "    }\n",
              "\n",
              "    .colab-df-convert:hover {\n",
              "      background-color: #E2EBFA;\n",
              "      box-shadow: 0px 1px 2px rgba(60, 64, 67, 0.3), 0px 1px 3px 1px rgba(60, 64, 67, 0.15);\n",
              "      fill: #174EA6;\n",
              "    }\n",
              "\n",
              "    .colab-df-buttons div {\n",
              "      margin-bottom: 4px;\n",
              "    }\n",
              "\n",
              "    [theme=dark] .colab-df-convert {\n",
              "      background-color: #3B4455;\n",
              "      fill: #D2E3FC;\n",
              "    }\n",
              "\n",
              "    [theme=dark] .colab-df-convert:hover {\n",
              "      background-color: #434B5C;\n",
              "      box-shadow: 0px 1px 3px 1px rgba(0, 0, 0, 0.15);\n",
              "      filter: drop-shadow(0px 1px 2px rgba(0, 0, 0, 0.3));\n",
              "      fill: #FFFFFF;\n",
              "    }\n",
              "  </style>\n",
              "\n",
              "    <script>\n",
              "      const buttonEl =\n",
              "        document.querySelector('#df-0de8348b-3748-4684-b2ba-49e92c18c414 button.colab-df-convert');\n",
              "      buttonEl.style.display =\n",
              "        google.colab.kernel.accessAllowed ? 'block' : 'none';\n",
              "\n",
              "      async function convertToInteractive(key) {\n",
              "        const element = document.querySelector('#df-0de8348b-3748-4684-b2ba-49e92c18c414');\n",
              "        const dataTable =\n",
              "          await google.colab.kernel.invokeFunction('convertToInteractive',\n",
              "                                                    [key], {});\n",
              "        if (!dataTable) return;\n",
              "\n",
              "        const docLinkHtml = 'Like what you see? Visit the ' +\n",
              "          '<a target=\"_blank\" href=https://colab.research.google.com/notebooks/data_table.ipynb>data table notebook</a>'\n",
              "          + ' to learn more about interactive tables.';\n",
              "        element.innerHTML = '';\n",
              "        dataTable['output_type'] = 'display_data';\n",
              "        await google.colab.output.renderOutput(dataTable, element);\n",
              "        const docLink = document.createElement('div');\n",
              "        docLink.innerHTML = docLinkHtml;\n",
              "        element.appendChild(docLink);\n",
              "      }\n",
              "    </script>\n",
              "  </div>\n",
              "\n",
              "\n",
              "<div id=\"df-18a66f61-5c8c-4e24-bc12-750e5f3a93cd\">\n",
              "  <button class=\"colab-df-quickchart\" onclick=\"quickchart('df-18a66f61-5c8c-4e24-bc12-750e5f3a93cd')\"\n",
              "            title=\"Suggest charts\"\n",
              "            style=\"display:none;\">\n",
              "\n",
              "<svg xmlns=\"http://www.w3.org/2000/svg\" height=\"24px\"viewBox=\"0 0 24 24\"\n",
              "     width=\"24px\">\n",
              "    <g>\n",
              "        <path d=\"M19 3H5c-1.1 0-2 .9-2 2v14c0 1.1.9 2 2 2h14c1.1 0 2-.9 2-2V5c0-1.1-.9-2-2-2zM9 17H7v-7h2v7zm4 0h-2V7h2v10zm4 0h-2v-4h2v4z\"/>\n",
              "    </g>\n",
              "</svg>\n",
              "  </button>\n",
              "\n",
              "<style>\n",
              "  .colab-df-quickchart {\n",
              "      --bg-color: #E8F0FE;\n",
              "      --fill-color: #1967D2;\n",
              "      --hover-bg-color: #E2EBFA;\n",
              "      --hover-fill-color: #174EA6;\n",
              "      --disabled-fill-color: #AAA;\n",
              "      --disabled-bg-color: #DDD;\n",
              "  }\n",
              "\n",
              "  [theme=dark] .colab-df-quickchart {\n",
              "      --bg-color: #3B4455;\n",
              "      --fill-color: #D2E3FC;\n",
              "      --hover-bg-color: #434B5C;\n",
              "      --hover-fill-color: #FFFFFF;\n",
              "      --disabled-bg-color: #3B4455;\n",
              "      --disabled-fill-color: #666;\n",
              "  }\n",
              "\n",
              "  .colab-df-quickchart {\n",
              "    background-color: var(--bg-color);\n",
              "    border: none;\n",
              "    border-radius: 50%;\n",
              "    cursor: pointer;\n",
              "    display: none;\n",
              "    fill: var(--fill-color);\n",
              "    height: 32px;\n",
              "    padding: 0;\n",
              "    width: 32px;\n",
              "  }\n",
              "\n",
              "  .colab-df-quickchart:hover {\n",
              "    background-color: var(--hover-bg-color);\n",
              "    box-shadow: 0 1px 2px rgba(60, 64, 67, 0.3), 0 1px 3px 1px rgba(60, 64, 67, 0.15);\n",
              "    fill: var(--button-hover-fill-color);\n",
              "  }\n",
              "\n",
              "  .colab-df-quickchart-complete:disabled,\n",
              "  .colab-df-quickchart-complete:disabled:hover {\n",
              "    background-color: var(--disabled-bg-color);\n",
              "    fill: var(--disabled-fill-color);\n",
              "    box-shadow: none;\n",
              "  }\n",
              "\n",
              "  .colab-df-spinner {\n",
              "    border: 2px solid var(--fill-color);\n",
              "    border-color: transparent;\n",
              "    border-bottom-color: var(--fill-color);\n",
              "    animation:\n",
              "      spin 1s steps(1) infinite;\n",
              "  }\n",
              "\n",
              "  @keyframes spin {\n",
              "    0% {\n",
              "      border-color: transparent;\n",
              "      border-bottom-color: var(--fill-color);\n",
              "      border-left-color: var(--fill-color);\n",
              "    }\n",
              "    20% {\n",
              "      border-color: transparent;\n",
              "      border-left-color: var(--fill-color);\n",
              "      border-top-color: var(--fill-color);\n",
              "    }\n",
              "    30% {\n",
              "      border-color: transparent;\n",
              "      border-left-color: var(--fill-color);\n",
              "      border-top-color: var(--fill-color);\n",
              "      border-right-color: var(--fill-color);\n",
              "    }\n",
              "    40% {\n",
              "      border-color: transparent;\n",
              "      border-right-color: var(--fill-color);\n",
              "      border-top-color: var(--fill-color);\n",
              "    }\n",
              "    60% {\n",
              "      border-color: transparent;\n",
              "      border-right-color: var(--fill-color);\n",
              "    }\n",
              "    80% {\n",
              "      border-color: transparent;\n",
              "      border-right-color: var(--fill-color);\n",
              "      border-bottom-color: var(--fill-color);\n",
              "    }\n",
              "    90% {\n",
              "      border-color: transparent;\n",
              "      border-bottom-color: var(--fill-color);\n",
              "    }\n",
              "  }\n",
              "</style>\n",
              "\n",
              "  <script>\n",
              "    async function quickchart(key) {\n",
              "      const quickchartButtonEl =\n",
              "        document.querySelector('#' + key + ' button');\n",
              "      quickchartButtonEl.disabled = true;  // To prevent multiple clicks.\n",
              "      quickchartButtonEl.classList.add('colab-df-spinner');\n",
              "      try {\n",
              "        const charts = await google.colab.kernel.invokeFunction(\n",
              "            'suggestCharts', [key], {});\n",
              "      } catch (error) {\n",
              "        console.error('Error during call to suggestCharts:', error);\n",
              "      }\n",
              "      quickchartButtonEl.classList.remove('colab-df-spinner');\n",
              "      quickchartButtonEl.classList.add('colab-df-quickchart-complete');\n",
              "    }\n",
              "    (() => {\n",
              "      let quickchartButtonEl =\n",
              "        document.querySelector('#df-18a66f61-5c8c-4e24-bc12-750e5f3a93cd button');\n",
              "      quickchartButtonEl.style.display =\n",
              "        google.colab.kernel.accessAllowed ? 'block' : 'none';\n",
              "    })();\n",
              "  </script>\n",
              "</div>\n",
              "    </div>\n",
              "  </div>\n"
            ]
          },
          "metadata": {},
          "execution_count": 11
        }
      ],
      "source": [
        "letras_df.head(10)"
      ]
    },
    {
      "cell_type": "code",
      "source": [
        "letras_df.describe()"
      ],
      "metadata": {
        "colab": {
          "base_uri": "https://localhost:8080/",
          "height": 174
        },
        "id": "18get07tGtb2",
        "outputId": "76502739-dfec-4655-840d-0c8eb0f6c659"
      },
      "execution_count": null,
      "outputs": [
        {
          "output_type": "execute_result",
          "data": {
            "text/plain": [
              "              artist                                    song  \\\n",
              "count          57650                                   57650   \n",
              "unique           643                                   44824   \n",
              "top     Donna Summer  Have Yourself A Merry Little Christmas   \n",
              "freq             191                                      35   \n",
              "\n",
              "                                              link  \\\n",
              "count                                        57650   \n",
              "unique                                       57650   \n",
              "top     /a/abba/ahes+my+kind+of+girl_20598417.html   \n",
              "freq                                             1   \n",
              "\n",
              "                                                     text  \n",
              "count                                               57650  \n",
              "unique                                              57494  \n",
              "top     I just came back from a lovely trip along the ...  \n",
              "freq                                                    6  "
            ],
            "text/html": [
              "\n",
              "  <div id=\"df-aa8c849b-1d82-4092-ae5c-14b588a24531\" class=\"colab-df-container\">\n",
              "    <div>\n",
              "<style scoped>\n",
              "    .dataframe tbody tr th:only-of-type {\n",
              "        vertical-align: middle;\n",
              "    }\n",
              "\n",
              "    .dataframe tbody tr th {\n",
              "        vertical-align: top;\n",
              "    }\n",
              "\n",
              "    .dataframe thead th {\n",
              "        text-align: right;\n",
              "    }\n",
              "</style>\n",
              "<table border=\"1\" class=\"dataframe\">\n",
              "  <thead>\n",
              "    <tr style=\"text-align: right;\">\n",
              "      <th></th>\n",
              "      <th>artist</th>\n",
              "      <th>song</th>\n",
              "      <th>link</th>\n",
              "      <th>text</th>\n",
              "    </tr>\n",
              "  </thead>\n",
              "  <tbody>\n",
              "    <tr>\n",
              "      <th>count</th>\n",
              "      <td>57650</td>\n",
              "      <td>57650</td>\n",
              "      <td>57650</td>\n",
              "      <td>57650</td>\n",
              "    </tr>\n",
              "    <tr>\n",
              "      <th>unique</th>\n",
              "      <td>643</td>\n",
              "      <td>44824</td>\n",
              "      <td>57650</td>\n",
              "      <td>57494</td>\n",
              "    </tr>\n",
              "    <tr>\n",
              "      <th>top</th>\n",
              "      <td>Donna Summer</td>\n",
              "      <td>Have Yourself A Merry Little Christmas</td>\n",
              "      <td>/a/abba/ahes+my+kind+of+girl_20598417.html</td>\n",
              "      <td>I just came back from a lovely trip along the ...</td>\n",
              "    </tr>\n",
              "    <tr>\n",
              "      <th>freq</th>\n",
              "      <td>191</td>\n",
              "      <td>35</td>\n",
              "      <td>1</td>\n",
              "      <td>6</td>\n",
              "    </tr>\n",
              "  </tbody>\n",
              "</table>\n",
              "</div>\n",
              "    <div class=\"colab-df-buttons\">\n",
              "\n",
              "  <div class=\"colab-df-container\">\n",
              "    <button class=\"colab-df-convert\" onclick=\"convertToInteractive('df-aa8c849b-1d82-4092-ae5c-14b588a24531')\"\n",
              "            title=\"Convert this dataframe to an interactive table.\"\n",
              "            style=\"display:none;\">\n",
              "\n",
              "  <svg xmlns=\"http://www.w3.org/2000/svg\" height=\"24px\" viewBox=\"0 -960 960 960\">\n",
              "    <path d=\"M120-120v-720h720v720H120Zm60-500h600v-160H180v160Zm220 220h160v-160H400v160Zm0 220h160v-160H400v160ZM180-400h160v-160H180v160Zm440 0h160v-160H620v160ZM180-180h160v-160H180v160Zm440 0h160v-160H620v160Z\"/>\n",
              "  </svg>\n",
              "    </button>\n",
              "\n",
              "  <style>\n",
              "    .colab-df-container {\n",
              "      display:flex;\n",
              "      gap: 12px;\n",
              "    }\n",
              "\n",
              "    .colab-df-convert {\n",
              "      background-color: #E8F0FE;\n",
              "      border: none;\n",
              "      border-radius: 50%;\n",
              "      cursor: pointer;\n",
              "      display: none;\n",
              "      fill: #1967D2;\n",
              "      height: 32px;\n",
              "      padding: 0 0 0 0;\n",
              "      width: 32px;\n",
              "    }\n",
              "\n",
              "    .colab-df-convert:hover {\n",
              "      background-color: #E2EBFA;\n",
              "      box-shadow: 0px 1px 2px rgba(60, 64, 67, 0.3), 0px 1px 3px 1px rgba(60, 64, 67, 0.15);\n",
              "      fill: #174EA6;\n",
              "    }\n",
              "\n",
              "    .colab-df-buttons div {\n",
              "      margin-bottom: 4px;\n",
              "    }\n",
              "\n",
              "    [theme=dark] .colab-df-convert {\n",
              "      background-color: #3B4455;\n",
              "      fill: #D2E3FC;\n",
              "    }\n",
              "\n",
              "    [theme=dark] .colab-df-convert:hover {\n",
              "      background-color: #434B5C;\n",
              "      box-shadow: 0px 1px 3px 1px rgba(0, 0, 0, 0.15);\n",
              "      filter: drop-shadow(0px 1px 2px rgba(0, 0, 0, 0.3));\n",
              "      fill: #FFFFFF;\n",
              "    }\n",
              "  </style>\n",
              "\n",
              "    <script>\n",
              "      const buttonEl =\n",
              "        document.querySelector('#df-aa8c849b-1d82-4092-ae5c-14b588a24531 button.colab-df-convert');\n",
              "      buttonEl.style.display =\n",
              "        google.colab.kernel.accessAllowed ? 'block' : 'none';\n",
              "\n",
              "      async function convertToInteractive(key) {\n",
              "        const element = document.querySelector('#df-aa8c849b-1d82-4092-ae5c-14b588a24531');\n",
              "        const dataTable =\n",
              "          await google.colab.kernel.invokeFunction('convertToInteractive',\n",
              "                                                    [key], {});\n",
              "        if (!dataTable) return;\n",
              "\n",
              "        const docLinkHtml = 'Like what you see? Visit the ' +\n",
              "          '<a target=\"_blank\" href=https://colab.research.google.com/notebooks/data_table.ipynb>data table notebook</a>'\n",
              "          + ' to learn more about interactive tables.';\n",
              "        element.innerHTML = '';\n",
              "        dataTable['output_type'] = 'display_data';\n",
              "        await google.colab.output.renderOutput(dataTable, element);\n",
              "        const docLink = document.createElement('div');\n",
              "        docLink.innerHTML = docLinkHtml;\n",
              "        element.appendChild(docLink);\n",
              "      }\n",
              "    </script>\n",
              "  </div>\n",
              "\n",
              "\n",
              "<div id=\"df-c91fbf3a-0801-4561-ba0f-9e2c50e07550\">\n",
              "  <button class=\"colab-df-quickchart\" onclick=\"quickchart('df-c91fbf3a-0801-4561-ba0f-9e2c50e07550')\"\n",
              "            title=\"Suggest charts\"\n",
              "            style=\"display:none;\">\n",
              "\n",
              "<svg xmlns=\"http://www.w3.org/2000/svg\" height=\"24px\"viewBox=\"0 0 24 24\"\n",
              "     width=\"24px\">\n",
              "    <g>\n",
              "        <path d=\"M19 3H5c-1.1 0-2 .9-2 2v14c0 1.1.9 2 2 2h14c1.1 0 2-.9 2-2V5c0-1.1-.9-2-2-2zM9 17H7v-7h2v7zm4 0h-2V7h2v10zm4 0h-2v-4h2v4z\"/>\n",
              "    </g>\n",
              "</svg>\n",
              "  </button>\n",
              "\n",
              "<style>\n",
              "  .colab-df-quickchart {\n",
              "      --bg-color: #E8F0FE;\n",
              "      --fill-color: #1967D2;\n",
              "      --hover-bg-color: #E2EBFA;\n",
              "      --hover-fill-color: #174EA6;\n",
              "      --disabled-fill-color: #AAA;\n",
              "      --disabled-bg-color: #DDD;\n",
              "  }\n",
              "\n",
              "  [theme=dark] .colab-df-quickchart {\n",
              "      --bg-color: #3B4455;\n",
              "      --fill-color: #D2E3FC;\n",
              "      --hover-bg-color: #434B5C;\n",
              "      --hover-fill-color: #FFFFFF;\n",
              "      --disabled-bg-color: #3B4455;\n",
              "      --disabled-fill-color: #666;\n",
              "  }\n",
              "\n",
              "  .colab-df-quickchart {\n",
              "    background-color: var(--bg-color);\n",
              "    border: none;\n",
              "    border-radius: 50%;\n",
              "    cursor: pointer;\n",
              "    display: none;\n",
              "    fill: var(--fill-color);\n",
              "    height: 32px;\n",
              "    padding: 0;\n",
              "    width: 32px;\n",
              "  }\n",
              "\n",
              "  .colab-df-quickchart:hover {\n",
              "    background-color: var(--hover-bg-color);\n",
              "    box-shadow: 0 1px 2px rgba(60, 64, 67, 0.3), 0 1px 3px 1px rgba(60, 64, 67, 0.15);\n",
              "    fill: var(--button-hover-fill-color);\n",
              "  }\n",
              "\n",
              "  .colab-df-quickchart-complete:disabled,\n",
              "  .colab-df-quickchart-complete:disabled:hover {\n",
              "    background-color: var(--disabled-bg-color);\n",
              "    fill: var(--disabled-fill-color);\n",
              "    box-shadow: none;\n",
              "  }\n",
              "\n",
              "  .colab-df-spinner {\n",
              "    border: 2px solid var(--fill-color);\n",
              "    border-color: transparent;\n",
              "    border-bottom-color: var(--fill-color);\n",
              "    animation:\n",
              "      spin 1s steps(1) infinite;\n",
              "  }\n",
              "\n",
              "  @keyframes spin {\n",
              "    0% {\n",
              "      border-color: transparent;\n",
              "      border-bottom-color: var(--fill-color);\n",
              "      border-left-color: var(--fill-color);\n",
              "    }\n",
              "    20% {\n",
              "      border-color: transparent;\n",
              "      border-left-color: var(--fill-color);\n",
              "      border-top-color: var(--fill-color);\n",
              "    }\n",
              "    30% {\n",
              "      border-color: transparent;\n",
              "      border-left-color: var(--fill-color);\n",
              "      border-top-color: var(--fill-color);\n",
              "      border-right-color: var(--fill-color);\n",
              "    }\n",
              "    40% {\n",
              "      border-color: transparent;\n",
              "      border-right-color: var(--fill-color);\n",
              "      border-top-color: var(--fill-color);\n",
              "    }\n",
              "    60% {\n",
              "      border-color: transparent;\n",
              "      border-right-color: var(--fill-color);\n",
              "    }\n",
              "    80% {\n",
              "      border-color: transparent;\n",
              "      border-right-color: var(--fill-color);\n",
              "      border-bottom-color: var(--fill-color);\n",
              "    }\n",
              "    90% {\n",
              "      border-color: transparent;\n",
              "      border-bottom-color: var(--fill-color);\n",
              "    }\n",
              "  }\n",
              "</style>\n",
              "\n",
              "  <script>\n",
              "    async function quickchart(key) {\n",
              "      const quickchartButtonEl =\n",
              "        document.querySelector('#' + key + ' button');\n",
              "      quickchartButtonEl.disabled = true;  // To prevent multiple clicks.\n",
              "      quickchartButtonEl.classList.add('colab-df-spinner');\n",
              "      try {\n",
              "        const charts = await google.colab.kernel.invokeFunction(\n",
              "            'suggestCharts', [key], {});\n",
              "      } catch (error) {\n",
              "        console.error('Error during call to suggestCharts:', error);\n",
              "      }\n",
              "      quickchartButtonEl.classList.remove('colab-df-spinner');\n",
              "      quickchartButtonEl.classList.add('colab-df-quickchart-complete');\n",
              "    }\n",
              "    (() => {\n",
              "      let quickchartButtonEl =\n",
              "        document.querySelector('#df-c91fbf3a-0801-4561-ba0f-9e2c50e07550 button');\n",
              "      quickchartButtonEl.style.display =\n",
              "        google.colab.kernel.accessAllowed ? 'block' : 'none';\n",
              "    })();\n",
              "  </script>\n",
              "</div>\n",
              "    </div>\n",
              "  </div>\n"
            ]
          },
          "metadata": {},
          "execution_count": 12
        }
      ]
    },
    {
      "cell_type": "markdown",
      "source": [
        "### Carga de canciones en español"
      ],
      "metadata": {
        "id": "bKq6qufO4CzH"
      }
    },
    {
      "cell_type": "code",
      "source": [
        "url_esp = 'https://github.com/Erika316/GeneradorCancionesNPL/raw/main/hhgroups_merge_28_05.csv.zip'\n",
        "# Load letas dataset\n",
        "letras_esp_df = pd.read_csv(url_esp)\n",
        "print(letras_esp_df.shape)"
      ],
      "metadata": {
        "colab": {
          "base_uri": "https://localhost:8080/"
        },
        "id": "No5Y5kBg3_MX",
        "outputId": "5becba51-3af7-4545-82ee-c8f38ecc5b4d"
      },
      "execution_count": null,
      "outputs": [
        {
          "output_type": "stream",
          "name": "stdout",
          "text": [
            "(9325, 7)\n"
          ]
        }
      ]
    },
    {
      "cell_type": "code",
      "source": [
        "letras_esp_df.head(10)"
      ],
      "metadata": {
        "colab": {
          "base_uri": "https://localhost:8080/",
          "height": 363
        },
        "id": "7dcjEniO4SFS",
        "outputId": "1aa95a7a-a789-4cd9-ab03-00da1f8824c3"
      },
      "execution_count": null,
      "outputs": [
        {
          "output_type": "execute_result",
          "data": {
            "text/plain": [
              "   id           artista                                            cancion  \\\n",
              "0   0             Denom             Machete (con Jarfaiter y Gente jodida)   \n",
              "1   1             Denom                           Vacío (con Ivo Incuerdo)   \n",
              "2   2             Denom  El orgullo es fiel (con Juancho Marqués y Elio...   \n",
              "3   3             Denom                    Mueve mueve (con Fernandocosta)   \n",
              "4   4  Jaro Desperdizio                                           Insomnia   \n",
              "5   5              Khan                                               Lobo   \n",
              "6   6               Dyo                   Claridad [Productor desconocido]   \n",
              "7   7         Sheldrack                            Especial agradecimiento   \n",
              "8   8              Arce                              Huella (con Pitizion)   \n",
              "9   9              Arce                                              Boxer   \n",
              "\n",
              "                           album  \\\n",
              "0                       Medicina   \n",
              "1                       Medicina   \n",
              "2                       Medicina   \n",
              "3                       Medicina   \n",
              "4  Sin álbum, es un vídeo suelto   \n",
              "5  Sin álbum, es un vídeo suelto   \n",
              "6   Sin álbum, es un tema suelto   \n",
              "7                     Titiritero   \n",
              "8                        Pedigrí   \n",
              "9                        Pedigrí   \n",
              "\n",
              "                                               letra  anyo  visitas  \n",
              "0  Para su nuevo disco \"Medicina\", Denom ha vuelt...  2019      126  \n",
              "1  [Denom]\\nYo que quería, yo que pedía vida,\\nSe...  2019      361  \n",
              "2  \"El orgullo es fiel\" es uno de los cortes incl...  2019      262  \n",
              "3  [Estribillo: Denom] (x2)\\nMueve, mueve, mueve,...  2019      578  \n",
              "4  [Estribillo]\\nY en esta noche, ¿Quién me arrop...  2019      219  \n",
              "5  Que nadie creía en leyends hasta que llegué yo...  2019      683  \n",
              "6  Me olvidé tomarme la pastilla otra vez,\\nEstar...  2019       58  \n",
              "7  Hace tiempo dejé de buscar el sentido de la vi...  2018       35  \n",
              "8  [Estribillo: Pitizon]\\nNo te voy a negar que a...  2019      119  \n",
              "9  Se preguntaron dónde está, me perdí como Wally...  2019      843  "
            ],
            "text/html": [
              "\n",
              "  <div id=\"df-12ccc339-fb60-40d2-88e2-6241c87e2e6b\" class=\"colab-df-container\">\n",
              "    <div>\n",
              "<style scoped>\n",
              "    .dataframe tbody tr th:only-of-type {\n",
              "        vertical-align: middle;\n",
              "    }\n",
              "\n",
              "    .dataframe tbody tr th {\n",
              "        vertical-align: top;\n",
              "    }\n",
              "\n",
              "    .dataframe thead th {\n",
              "        text-align: right;\n",
              "    }\n",
              "</style>\n",
              "<table border=\"1\" class=\"dataframe\">\n",
              "  <thead>\n",
              "    <tr style=\"text-align: right;\">\n",
              "      <th></th>\n",
              "      <th>id</th>\n",
              "      <th>artista</th>\n",
              "      <th>cancion</th>\n",
              "      <th>album</th>\n",
              "      <th>letra</th>\n",
              "      <th>anyo</th>\n",
              "      <th>visitas</th>\n",
              "    </tr>\n",
              "  </thead>\n",
              "  <tbody>\n",
              "    <tr>\n",
              "      <th>0</th>\n",
              "      <td>0</td>\n",
              "      <td>Denom</td>\n",
              "      <td>Machete (con Jarfaiter y Gente jodida)</td>\n",
              "      <td>Medicina</td>\n",
              "      <td>Para su nuevo disco \"Medicina\", Denom ha vuelt...</td>\n",
              "      <td>2019</td>\n",
              "      <td>126</td>\n",
              "    </tr>\n",
              "    <tr>\n",
              "      <th>1</th>\n",
              "      <td>1</td>\n",
              "      <td>Denom</td>\n",
              "      <td>Vacío (con Ivo Incuerdo)</td>\n",
              "      <td>Medicina</td>\n",
              "      <td>[Denom]\\nYo que quería, yo que pedía vida,\\nSe...</td>\n",
              "      <td>2019</td>\n",
              "      <td>361</td>\n",
              "    </tr>\n",
              "    <tr>\n",
              "      <th>2</th>\n",
              "      <td>2</td>\n",
              "      <td>Denom</td>\n",
              "      <td>El orgullo es fiel (con Juancho Marqués y Elio...</td>\n",
              "      <td>Medicina</td>\n",
              "      <td>\"El orgullo es fiel\" es uno de los cortes incl...</td>\n",
              "      <td>2019</td>\n",
              "      <td>262</td>\n",
              "    </tr>\n",
              "    <tr>\n",
              "      <th>3</th>\n",
              "      <td>3</td>\n",
              "      <td>Denom</td>\n",
              "      <td>Mueve mueve (con Fernandocosta)</td>\n",
              "      <td>Medicina</td>\n",
              "      <td>[Estribillo: Denom] (x2)\\nMueve, mueve, mueve,...</td>\n",
              "      <td>2019</td>\n",
              "      <td>578</td>\n",
              "    </tr>\n",
              "    <tr>\n",
              "      <th>4</th>\n",
              "      <td>4</td>\n",
              "      <td>Jaro Desperdizio</td>\n",
              "      <td>Insomnia</td>\n",
              "      <td>Sin álbum, es un vídeo suelto</td>\n",
              "      <td>[Estribillo]\\nY en esta noche, ¿Quién me arrop...</td>\n",
              "      <td>2019</td>\n",
              "      <td>219</td>\n",
              "    </tr>\n",
              "    <tr>\n",
              "      <th>5</th>\n",
              "      <td>5</td>\n",
              "      <td>Khan</td>\n",
              "      <td>Lobo</td>\n",
              "      <td>Sin álbum, es un vídeo suelto</td>\n",
              "      <td>Que nadie creía en leyends hasta que llegué yo...</td>\n",
              "      <td>2019</td>\n",
              "      <td>683</td>\n",
              "    </tr>\n",
              "    <tr>\n",
              "      <th>6</th>\n",
              "      <td>6</td>\n",
              "      <td>Dyo</td>\n",
              "      <td>Claridad [Productor desconocido]</td>\n",
              "      <td>Sin álbum, es un tema suelto</td>\n",
              "      <td>Me olvidé tomarme la pastilla otra vez,\\nEstar...</td>\n",
              "      <td>2019</td>\n",
              "      <td>58</td>\n",
              "    </tr>\n",
              "    <tr>\n",
              "      <th>7</th>\n",
              "      <td>7</td>\n",
              "      <td>Sheldrack</td>\n",
              "      <td>Especial agradecimiento</td>\n",
              "      <td>Titiritero</td>\n",
              "      <td>Hace tiempo dejé de buscar el sentido de la vi...</td>\n",
              "      <td>2018</td>\n",
              "      <td>35</td>\n",
              "    </tr>\n",
              "    <tr>\n",
              "      <th>8</th>\n",
              "      <td>8</td>\n",
              "      <td>Arce</td>\n",
              "      <td>Huella (con Pitizion)</td>\n",
              "      <td>Pedigrí</td>\n",
              "      <td>[Estribillo: Pitizon]\\nNo te voy a negar que a...</td>\n",
              "      <td>2019</td>\n",
              "      <td>119</td>\n",
              "    </tr>\n",
              "    <tr>\n",
              "      <th>9</th>\n",
              "      <td>9</td>\n",
              "      <td>Arce</td>\n",
              "      <td>Boxer</td>\n",
              "      <td>Pedigrí</td>\n",
              "      <td>Se preguntaron dónde está, me perdí como Wally...</td>\n",
              "      <td>2019</td>\n",
              "      <td>843</td>\n",
              "    </tr>\n",
              "  </tbody>\n",
              "</table>\n",
              "</div>\n",
              "    <div class=\"colab-df-buttons\">\n",
              "\n",
              "  <div class=\"colab-df-container\">\n",
              "    <button class=\"colab-df-convert\" onclick=\"convertToInteractive('df-12ccc339-fb60-40d2-88e2-6241c87e2e6b')\"\n",
              "            title=\"Convert this dataframe to an interactive table.\"\n",
              "            style=\"display:none;\">\n",
              "\n",
              "  <svg xmlns=\"http://www.w3.org/2000/svg\" height=\"24px\" viewBox=\"0 -960 960 960\">\n",
              "    <path d=\"M120-120v-720h720v720H120Zm60-500h600v-160H180v160Zm220 220h160v-160H400v160Zm0 220h160v-160H400v160ZM180-400h160v-160H180v160Zm440 0h160v-160H620v160ZM180-180h160v-160H180v160Zm440 0h160v-160H620v160Z\"/>\n",
              "  </svg>\n",
              "    </button>\n",
              "\n",
              "  <style>\n",
              "    .colab-df-container {\n",
              "      display:flex;\n",
              "      gap: 12px;\n",
              "    }\n",
              "\n",
              "    .colab-df-convert {\n",
              "      background-color: #E8F0FE;\n",
              "      border: none;\n",
              "      border-radius: 50%;\n",
              "      cursor: pointer;\n",
              "      display: none;\n",
              "      fill: #1967D2;\n",
              "      height: 32px;\n",
              "      padding: 0 0 0 0;\n",
              "      width: 32px;\n",
              "    }\n",
              "\n",
              "    .colab-df-convert:hover {\n",
              "      background-color: #E2EBFA;\n",
              "      box-shadow: 0px 1px 2px rgba(60, 64, 67, 0.3), 0px 1px 3px 1px rgba(60, 64, 67, 0.15);\n",
              "      fill: #174EA6;\n",
              "    }\n",
              "\n",
              "    .colab-df-buttons div {\n",
              "      margin-bottom: 4px;\n",
              "    }\n",
              "\n",
              "    [theme=dark] .colab-df-convert {\n",
              "      background-color: #3B4455;\n",
              "      fill: #D2E3FC;\n",
              "    }\n",
              "\n",
              "    [theme=dark] .colab-df-convert:hover {\n",
              "      background-color: #434B5C;\n",
              "      box-shadow: 0px 1px 3px 1px rgba(0, 0, 0, 0.15);\n",
              "      filter: drop-shadow(0px 1px 2px rgba(0, 0, 0, 0.3));\n",
              "      fill: #FFFFFF;\n",
              "    }\n",
              "  </style>\n",
              "\n",
              "    <script>\n",
              "      const buttonEl =\n",
              "        document.querySelector('#df-12ccc339-fb60-40d2-88e2-6241c87e2e6b button.colab-df-convert');\n",
              "      buttonEl.style.display =\n",
              "        google.colab.kernel.accessAllowed ? 'block' : 'none';\n",
              "\n",
              "      async function convertToInteractive(key) {\n",
              "        const element = document.querySelector('#df-12ccc339-fb60-40d2-88e2-6241c87e2e6b');\n",
              "        const dataTable =\n",
              "          await google.colab.kernel.invokeFunction('convertToInteractive',\n",
              "                                                    [key], {});\n",
              "        if (!dataTable) return;\n",
              "\n",
              "        const docLinkHtml = 'Like what you see? Visit the ' +\n",
              "          '<a target=\"_blank\" href=https://colab.research.google.com/notebooks/data_table.ipynb>data table notebook</a>'\n",
              "          + ' to learn more about interactive tables.';\n",
              "        element.innerHTML = '';\n",
              "        dataTable['output_type'] = 'display_data';\n",
              "        await google.colab.output.renderOutput(dataTable, element);\n",
              "        const docLink = document.createElement('div');\n",
              "        docLink.innerHTML = docLinkHtml;\n",
              "        element.appendChild(docLink);\n",
              "      }\n",
              "    </script>\n",
              "  </div>\n",
              "\n",
              "\n",
              "<div id=\"df-c75269fa-ab30-42cb-accd-c6b545dedef8\">\n",
              "  <button class=\"colab-df-quickchart\" onclick=\"quickchart('df-c75269fa-ab30-42cb-accd-c6b545dedef8')\"\n",
              "            title=\"Suggest charts\"\n",
              "            style=\"display:none;\">\n",
              "\n",
              "<svg xmlns=\"http://www.w3.org/2000/svg\" height=\"24px\"viewBox=\"0 0 24 24\"\n",
              "     width=\"24px\">\n",
              "    <g>\n",
              "        <path d=\"M19 3H5c-1.1 0-2 .9-2 2v14c0 1.1.9 2 2 2h14c1.1 0 2-.9 2-2V5c0-1.1-.9-2-2-2zM9 17H7v-7h2v7zm4 0h-2V7h2v10zm4 0h-2v-4h2v4z\"/>\n",
              "    </g>\n",
              "</svg>\n",
              "  </button>\n",
              "\n",
              "<style>\n",
              "  .colab-df-quickchart {\n",
              "      --bg-color: #E8F0FE;\n",
              "      --fill-color: #1967D2;\n",
              "      --hover-bg-color: #E2EBFA;\n",
              "      --hover-fill-color: #174EA6;\n",
              "      --disabled-fill-color: #AAA;\n",
              "      --disabled-bg-color: #DDD;\n",
              "  }\n",
              "\n",
              "  [theme=dark] .colab-df-quickchart {\n",
              "      --bg-color: #3B4455;\n",
              "      --fill-color: #D2E3FC;\n",
              "      --hover-bg-color: #434B5C;\n",
              "      --hover-fill-color: #FFFFFF;\n",
              "      --disabled-bg-color: #3B4455;\n",
              "      --disabled-fill-color: #666;\n",
              "  }\n",
              "\n",
              "  .colab-df-quickchart {\n",
              "    background-color: var(--bg-color);\n",
              "    border: none;\n",
              "    border-radius: 50%;\n",
              "    cursor: pointer;\n",
              "    display: none;\n",
              "    fill: var(--fill-color);\n",
              "    height: 32px;\n",
              "    padding: 0;\n",
              "    width: 32px;\n",
              "  }\n",
              "\n",
              "  .colab-df-quickchart:hover {\n",
              "    background-color: var(--hover-bg-color);\n",
              "    box-shadow: 0 1px 2px rgba(60, 64, 67, 0.3), 0 1px 3px 1px rgba(60, 64, 67, 0.15);\n",
              "    fill: var(--button-hover-fill-color);\n",
              "  }\n",
              "\n",
              "  .colab-df-quickchart-complete:disabled,\n",
              "  .colab-df-quickchart-complete:disabled:hover {\n",
              "    background-color: var(--disabled-bg-color);\n",
              "    fill: var(--disabled-fill-color);\n",
              "    box-shadow: none;\n",
              "  }\n",
              "\n",
              "  .colab-df-spinner {\n",
              "    border: 2px solid var(--fill-color);\n",
              "    border-color: transparent;\n",
              "    border-bottom-color: var(--fill-color);\n",
              "    animation:\n",
              "      spin 1s steps(1) infinite;\n",
              "  }\n",
              "\n",
              "  @keyframes spin {\n",
              "    0% {\n",
              "      border-color: transparent;\n",
              "      border-bottom-color: var(--fill-color);\n",
              "      border-left-color: var(--fill-color);\n",
              "    }\n",
              "    20% {\n",
              "      border-color: transparent;\n",
              "      border-left-color: var(--fill-color);\n",
              "      border-top-color: var(--fill-color);\n",
              "    }\n",
              "    30% {\n",
              "      border-color: transparent;\n",
              "      border-left-color: var(--fill-color);\n",
              "      border-top-color: var(--fill-color);\n",
              "      border-right-color: var(--fill-color);\n",
              "    }\n",
              "    40% {\n",
              "      border-color: transparent;\n",
              "      border-right-color: var(--fill-color);\n",
              "      border-top-color: var(--fill-color);\n",
              "    }\n",
              "    60% {\n",
              "      border-color: transparent;\n",
              "      border-right-color: var(--fill-color);\n",
              "    }\n",
              "    80% {\n",
              "      border-color: transparent;\n",
              "      border-right-color: var(--fill-color);\n",
              "      border-bottom-color: var(--fill-color);\n",
              "    }\n",
              "    90% {\n",
              "      border-color: transparent;\n",
              "      border-bottom-color: var(--fill-color);\n",
              "    }\n",
              "  }\n",
              "</style>\n",
              "\n",
              "  <script>\n",
              "    async function quickchart(key) {\n",
              "      const quickchartButtonEl =\n",
              "        document.querySelector('#' + key + ' button');\n",
              "      quickchartButtonEl.disabled = true;  // To prevent multiple clicks.\n",
              "      quickchartButtonEl.classList.add('colab-df-spinner');\n",
              "      try {\n",
              "        const charts = await google.colab.kernel.invokeFunction(\n",
              "            'suggestCharts', [key], {});\n",
              "      } catch (error) {\n",
              "        console.error('Error during call to suggestCharts:', error);\n",
              "      }\n",
              "      quickchartButtonEl.classList.remove('colab-df-spinner');\n",
              "      quickchartButtonEl.classList.add('colab-df-quickchart-complete');\n",
              "    }\n",
              "    (() => {\n",
              "      let quickchartButtonEl =\n",
              "        document.querySelector('#df-c75269fa-ab30-42cb-accd-c6b545dedef8 button');\n",
              "      quickchartButtonEl.style.display =\n",
              "        google.colab.kernel.accessAllowed ? 'block' : 'none';\n",
              "    })();\n",
              "  </script>\n",
              "</div>\n",
              "    </div>\n",
              "  </div>\n"
            ]
          },
          "metadata": {},
          "execution_count": 4
        }
      ]
    },
    {
      "cell_type": "markdown",
      "metadata": {
        "id": "oOZohHw6eeQt"
      },
      "source": [
        "## Selección de letras"
      ]
    },
    {
      "cell_type": "markdown",
      "metadata": {
        "id": "Fyn-vCtT2Sox"
      },
      "source": [
        "Vamos a acotar nuestro conjunto de datos, eliminamos datos faltantes y además eliminamos todas las canciones que superan una extensión de 1000 caracteres."
      ]
    },
    {
      "cell_type": "code",
      "execution_count": null,
      "metadata": {
        "id": "1K7BsvYQd_3I"
      },
      "outputs": [],
      "source": [
        "# Eliminar nulos\n",
        "letras_df = letras_df.dropna()"
      ]
    },
    {
      "cell_type": "code",
      "execution_count": null,
      "metadata": {
        "id": "a9awSlidJXB2"
      },
      "outputs": [],
      "source": [
        "def letra_to_string(letra):\n",
        "  return f'\\n{letra[\"text\"]}\\n{letra[\"artist\"]}\\n{letra[\"text\"]}'"
      ]
    },
    {
      "cell_type": "code",
      "execution_count": null,
      "metadata": {
        "colab": {
          "base_uri": "https://localhost:8080/",
          "height": 860
        },
        "id": "dYdzjRcRe-5E",
        "outputId": "4f47c292-a300-490e-85da-c80f13a3490b"
      },
      "outputs": [
        {
          "output_type": "display_data",
          "data": {
            "text/plain": [
              "<Figure size 640x480 with 1 Axes>"
            ],
            "image/png": "[encoded data removed]"
          },
          "metadata": {}
        },
        {
          "output_type": "display_data",
          "data": {
            "text/plain": [
              "<Figure size 640x480 with 1 Axes>"
            ],
            "image/png": "[encoded data removed]"
          },
          "metadata": {}
        },
        {
          "output_type": "stream",
          "name": "stdout",
          "text": [
            "Hay  1457 letras de canciones luego de la selección de máximo de caracteres.\n"
          ]
        }
      ],
      "source": [
        "#Filtrando canciones\n",
        "letras_df['string'] = letras_df.apply(lambda row: f'\\n{row[\"text\"]}\\n\\n{row[\"artist\"]}\\n\\n{row[\"text\"]}', axis=1)\n",
        "letras_df['length'] = letras_df.string.map(len)\n",
        "\n",
        "#Histograma\n",
        "plt.hist(letras_df['length'].values, bins=100)\n",
        "plt.show()\n",
        "plt.hist(letras_df['length'].values, range=(0,5000), bins=50)\n",
        "plt.show()\n",
        "\n",
        "#Seleccionamos un máximo de 1000 caracteres\n",
        "MAX_LETTER_LONG=1000\n",
        "letras_filtradas = letras_df[letras_df.length<MAX_LETTER_LONG]\n",
        "\n",
        "print('Hay ', len(letras_filtradas), 'letras de canciones luego de la selección de máximo de caracteres.')"
      ]
    },
    {
      "cell_type": "markdown",
      "metadata": {
        "id": "bZlZraUbs3kP"
      },
      "source": [
        "## Creación de vocabulario"
      ]
    },
    {
      "cell_type": "markdown",
      "metadata": {
        "id": "K6pejfeYMeMO"
      },
      "source": [
        "Debemos construir un vocabulario. Para ello, usaremos un modelo de lenguaje a nivel de carácter basado en una red **LSTM (long-short-term-memory)** **multicapa (a diferencia del modelo de lenguaje a nivel de palabras)**. Esto quiere decir que en lugar de crear índices únicos para palabras, crearemos índices únicos para caracteres. Al hacer eso, permitimos que la red prediga el siguiente carácter en lugar de la siguiente palabra en una secuencia. Así que tendremos muchos caracteres como 'a', '\\n', 'A', 'á'..."
      ]
    },
    {
      "cell_type": "code",
      "execution_count": null,
      "metadata": {
        "id": "kuiJfEiTMdFU"
      },
      "outputs": [],
      "source": [
        "letras_string=letras_filtradas.string"
      ]
    },
    {
      "cell_type": "markdown",
      "metadata": {
        "id": "wRDLY2RovPVE"
      },
      "source": [
        "Primero, se obtiene el resultado para cada artista. Dado que la red neuronal utiliza números en lugar de cadenas, convertimos cada carácter en un número."
      ]
    },
    {
      "cell_type": "code",
      "execution_count": null,
      "metadata": {
        "colab": {
          "base_uri": "https://localhost:8080/"
        },
        "id": "zDT5L35RrSO6",
        "outputId": "2944fefb-d5ff-4485-d608-d784be37033d"
      },
      "outputs": [
        {
          "output_type": "execute_result",
          "data": {
            "text/plain": [
              "{'num_words': None,\n",
              " 'filters': '',\n",
              " 'lower': False,\n",
              " 'split': '',\n",
              " 'char_level': True,\n",
              " 'oov_token': None,\n",
              " 'document_count': 1458,\n",
              " 'word_counts': '{\"\\\\u2423\": 1, \"\\\\n\": 58019, \"T\": 4880, \"h\": 45353, \"i\": 51464, \"s\": 48445, \" \": 284706, \"L\": 2158, \"t\": 67218, \"l\": 45307, \"e\": 109642, \"g\": 21518, \"o\": 79884, \"f\": 14496, \"M\": 1835, \"n\": 62636, \"(\": 590, \")\": 590, \",\": 9349, \"\\\\r\": 50734, \"I\": 13488, \"\\'\": 12335, \"m\": 27422, \"A\": 4748, \"u\": 32491, \"j\": 1368, \"a\": 67369, \"D\": 1736, \"w\": 21257, \"y\": 30868, \"r\": 48864, \".\": 4568, \"v\": 11241, \"d\": 32418, \"G\": 1405, \"S\": 3463, \"b\": 13420, \"k\": 10480, \"c\": 14986, \"p\": 9668, \"q\": 315, \"z\": 657, \"Y\": 2973, \"C\": 2375, \"W\": 3815, \"N\": 1331, \"4\": 54, \"x\": 594, \"?\": 900, \"K\": 488, \"H\": 2200, \"B\": 2394, \"E\": 1004, \"F\": 1396, \"O\": 2068, \"\\\\\"\": 366, \"P\": 988, \"!\": 593, \"J\": 862, \"X\": 71, \"R\": 986, \"[\": 416, \":\": 310, \"]\": 414, \"-\": 850, \"1\": 163, \"2\": 201, \"3\": 94, \"U\": 346, \"Z\": 59, \"V\": 274, \"0\": 80, \"5\": 19, \"6\": 32, \"8\": 44, \"9\": 79, \"7\": 29, \"Q\": 73}',\n",
              " 'word_docs': '{\"\\\\u2423\": 1, \"L\": 538, \" \": 1457, \"l\": 1451, \"v\": 1288, \"o\": 1454, \"\\'\": 1236, \"T\": 1005, \"\\\\n\": 1457, \"s\": 1455, \"(\": 144, \"j\": 389, \"I\": 1241, \".\": 470, \"n\": 1456, \"t\": 1454, \"g\": 1434, \",\": 950, \"d\": 1452, \"m\": 1441, \"M\": 529, \"y\": 1438, \"i\": 1455, \"e\": 1455, \"h\": 1453, \"u\": 1449, \"\\\\r\": 1457, \"a\": 1457, \"f\": 1382, \"w\": 1424, \"r\": 1455, \")\": 144, \"A\": 1001, \"D\": 482, \"G\": 423, \"z\": 207, \"c\": 1366, \"C\": 656, \"p\": 1271, \"k\": 1276, \"b\": 1366, \"S\": 823, \"Y\": 625, \"q\": 99, \"N\": 435, \"W\": 856, \"4\": 27, \"x\": 204, \"?\": 205, \"K\": 164, \"H\": 556, \"B\": 705, \"F\": 475, \"E\": 300, \"O\": 525, \"\\\\\"\": 51, \"P\": 364, \"!\": 118, \"J\": 298, \"X\": 46, \"[\": 100, \"]\": 99, \"R\": 351, \":\": 97, \"-\": 182, \"2\": 56, \"1\": 36, \"3\": 28, \"U\": 126, \"Z\": 26, \"V\": 112, \"0\": 22, \"5\": 8, \"8\": 7, \"7\": 9, \"6\": 6, \"9\": 14, \"Q\": 41}',\n",
              " 'index_docs': '{\"1\": 1457, \"78\": 1, \"38\": 538, \"13\": 1451, \"25\": 1288, \"3\": 1454, \"24\": 1236, \"29\": 1005, \"7\": 1457, \"11\": 1455, \"55\": 144, \"44\": 389, \"22\": 1241, \"31\": 470, \"6\": 1456, \"5\": 1454, \"18\": 1434, \"28\": 950, \"15\": 1452, \"17\": 1441, \"40\": 529, \"16\": 1438, \"8\": 1455, \"2\": 1455, \"12\": 1453, \"14\": 1449, \"9\": 1457, \"4\": 1457, \"21\": 1382, \"19\": 1424, \"10\": 1455, \"56\": 144, \"30\": 1001, \"41\": 482, \"42\": 423, \"52\": 207, \"20\": 1366, \"36\": 656, \"27\": 1271, \"26\": 1276, \"23\": 1366, \"33\": 823, \"34\": 625, \"62\": 99, \"45\": 435, \"32\": 856, \"73\": 27, \"53\": 204, \"49\": 205, \"57\": 164, \"37\": 556, \"35\": 705, \"43\": 475, \"46\": 300, \"39\": 525, \"60\": 51, \"47\": 364, \"54\": 118, \"50\": 298, \"71\": 46, \"58\": 100, \"59\": 99, \"48\": 351, \"63\": 97, \"51\": 182, \"65\": 56, \"66\": 36, \"67\": 28, \"61\": 126, \"72\": 26, \"64\": 112, \"68\": 22, \"77\": 8, \"74\": 7, \"76\": 9, \"75\": 6, \"69\": 14, \"70\": 41}',\n",
              " 'index_word': '{\"1\": \" \", \"2\": \"e\", \"3\": \"o\", \"4\": \"a\", \"5\": \"t\", \"6\": \"n\", \"7\": \"\\\\n\", \"8\": \"i\", \"9\": \"\\\\r\", \"10\": \"r\", \"11\": \"s\", \"12\": \"h\", \"13\": \"l\", \"14\": \"u\", \"15\": \"d\", \"16\": \"y\", \"17\": \"m\", \"18\": \"g\", \"19\": \"w\", \"20\": \"c\", \"21\": \"f\", \"22\": \"I\", \"23\": \"b\", \"24\": \"\\'\", \"25\": \"v\", \"26\": \"k\", \"27\": \"p\", \"28\": \",\", \"29\": \"T\", \"30\": \"A\", \"31\": \".\", \"32\": \"W\", \"33\": \"S\", \"34\": \"Y\", \"35\": \"B\", \"36\": \"C\", \"37\": \"H\", \"38\": \"L\", \"39\": \"O\", \"40\": \"M\", \"41\": \"D\", \"42\": \"G\", \"43\": \"F\", \"44\": \"j\", \"45\": \"N\", \"46\": \"E\", \"47\": \"P\", \"48\": \"R\", \"49\": \"?\", \"50\": \"J\", \"51\": \"-\", \"52\": \"z\", \"53\": \"x\", \"54\": \"!\", \"55\": \"(\", \"56\": \")\", \"57\": \"K\", \"58\": \"[\", \"59\": \"]\", \"60\": \"\\\\\"\", \"61\": \"U\", \"62\": \"q\", \"63\": \":\", \"64\": \"V\", \"65\": \"2\", \"66\": \"1\", \"67\": \"3\", \"68\": \"0\", \"69\": \"9\", \"70\": \"Q\", \"71\": \"X\", \"72\": \"Z\", \"73\": \"4\", \"74\": \"8\", \"75\": \"6\", \"76\": \"7\", \"77\": \"5\", \"78\": \"\\\\u2423\"}',\n",
              " 'word_index': '{\" \": 1, \"e\": 2, \"o\": 3, \"a\": 4, \"t\": 5, \"n\": 6, \"\\\\n\": 7, \"i\": 8, \"\\\\r\": 9, \"r\": 10, \"s\": 11, \"h\": 12, \"l\": 13, \"u\": 14, \"d\": 15, \"y\": 16, \"m\": 17, \"g\": 18, \"w\": 19, \"c\": 20, \"f\": 21, \"I\": 22, \"b\": 23, \"\\'\": 24, \"v\": 25, \"k\": 26, \"p\": 27, \",\": 28, \"T\": 29, \"A\": 30, \".\": 31, \"W\": 32, \"S\": 33, \"Y\": 34, \"B\": 35, \"C\": 36, \"H\": 37, \"L\": 38, \"O\": 39, \"M\": 40, \"D\": 41, \"G\": 42, \"F\": 43, \"j\": 44, \"N\": 45, \"E\": 46, \"P\": 47, \"R\": 48, \"?\": 49, \"J\": 50, \"-\": 51, \"z\": 52, \"x\": 53, \"!\": 54, \"(\": 55, \")\": 56, \"K\": 57, \"[\": 58, \"]\": 59, \"\\\\\"\": 60, \"U\": 61, \"q\": 62, \":\": 63, \"V\": 64, \"2\": 65, \"1\": 66, \"3\": 67, \"0\": 68, \"9\": 69, \"Q\": 70, \"X\": 71, \"Z\": 72, \"4\": 73, \"8\": 74, \"6\": 75, \"7\": 76, \"5\": 77, \"\\\\u2423\": 78}'}"
            ]
          },
          "metadata": {},
          "execution_count": 17
        }
      ],
      "source": [
        "STOP_SIGN = '␣'\n",
        "\n",
        "tokenizer = tf.keras.preprocessing.text.Tokenizer(\n",
        "    char_level=True,\n",
        "    filters='',\n",
        "    lower=False,\n",
        "    split=''\n",
        ")\n",
        "\n",
        "# Tokenizador de las palabras vacías.\n",
        "tokenizer.fit_on_texts([STOP_SIGN])\n",
        "\n",
        "tokenizer.fit_on_texts(letras_string)\n",
        "\n",
        "tokenizer.get_config()"
      ]
    },
    {
      "cell_type": "markdown",
      "metadata": {
        "id": "DRAtCKTv4to6"
      },
      "source": [
        "El tamaño del vocabulario es 1458, eso significa que hemos codificado 1457 caracteres diferentes que aparecieron en el conjunto de datos. Muchos de ellos se identifian por los acentos y mayúsculas. Además, el tamaño del conjunto de datos vectorizado 1457."
      ]
    },
    {
      "cell_type": "code",
      "execution_count": null,
      "metadata": {
        "colab": {
          "base_uri": "https://localhost:8080/"
        },
        "id": "vl3K1_WvtXmI",
        "outputId": "dc8017b8-0a75-4367-8bfa-1a33391afbea"
      },
      "outputs": [
        {
          "output_type": "stream",
          "name": "stdout",
          "text": [
            "VOCABULARY_SIZE:  79\n"
          ]
        }
      ],
      "source": [
        "VOCABULARY_SIZE = len(tokenizer.word_counts) + 1\n",
        "\n",
        "print('VOCABULARY_SIZE: ', VOCABULARY_SIZE)"
      ]
    },
    {
      "cell_type": "markdown",
      "metadata": {
        "id": "TJLAL1Ve5lpQ"
      },
      "source": [
        "Dada una palabra podemos obtener su representación numérica y viceversa con el tokenizador.\n",
        "\n"
      ]
    },
    {
      "cell_type": "code",
      "execution_count": null,
      "metadata": {
        "colab": {
          "base_uri": "https://localhost:8080/"
        },
        "id": "rS7k0CjltsQr",
        "outputId": "d2b55759-cbc4-4483-e1b1-4ce41a6d9ea6"
      },
      "outputs": [
        {
          "output_type": "stream",
          "name": "stdout",
          "text": [
            "t\n",
            "r\n"
          ]
        }
      ],
      "source": [
        "print(tokenizer.index_word[5])\n",
        "print(tokenizer.index_word[10])"
      ]
    },
    {
      "cell_type": "code",
      "execution_count": null,
      "metadata": {
        "colab": {
          "base_uri": "https://localhost:8080/"
        },
        "id": "E524KYa8tuaX",
        "outputId": "71729027-4903-4582-b9e5-50fcf5abb624"
      },
      "outputs": [
        {
          "output_type": "stream",
          "name": "stdout",
          "text": [
            "52\n",
            "8\n"
          ]
        }
      ],
      "source": [
        "print(tokenizer.word_index['z'])\n",
        "print(tokenizer.word_index['i'])"
      ]
    },
    {
      "cell_type": "markdown",
      "metadata": {
        "id": "41x-z6cE5_Ms"
      },
      "source": [
        "Finalmente, hemos creado una  secuencia desde un texto dado. Esto convierte el texto en números, por ejemplo, si tomamos \"Someone like you\" de Adele, obtenemos la siguiente secuencia."
      ]
    },
    {
      "cell_type": "code",
      "execution_count": null,
      "metadata": {
        "colab": {
          "base_uri": "https://localhost:8080/"
        },
        "id": "puJqrTlWuCco",
        "outputId": "4d5ca37c-4929-4da5-dac3-ec97086d4d93"
      },
      "outputs": [
        {
          "output_type": "execute_result",
          "data": {
            "text/plain": [
              "[[11, 3, 17, 2, 3, 6, 2, 1, 13, 8, 26, 2, 1, 16, 3, 14]]"
            ]
          },
          "metadata": {},
          "execution_count": 21
        }
      ],
      "source": [
        "tokenizer.texts_to_sequences(['someone like you'])"
      ]
    },
    {
      "cell_type": "markdown",
      "metadata": {
        "id": "O4eMmKzNuJKE"
      },
      "source": [
        "## Vectorización conjunto de datos\n",
        "Una vez hemos definido el vocabulario, vamos a convertir el conjunto de letras de canciones en secuencias.\n",
        "\n",
        "Además, creamos una opción inversa, dada una secuencia, podemos convertirla en texto. La idea es convertir un texto en un vector a partir de los números codificados.\n"
      ]
    },
    {
      "cell_type": "code",
      "execution_count": null,
      "metadata": {
        "colab": {
          "base_uri": "https://localhost:8080/"
        },
        "id": "dmPWUayouMBG",
        "outputId": "f217ca5f-a6fd-4d27-b8c7-52072b3f0702"
      },
      "outputs": [
        {
          "output_type": "stream",
          "name": "stdout",
          "text": [
            "Tamaño del conjunto de datos vectorizado 1457\n"
          ]
        }
      ],
      "source": [
        "dataset_vectorizado = tokenizer.texts_to_sequences(letras_string)\n",
        "\n",
        "print('Tamaño del conjunto de datos vectorizado', len(dataset_vectorizado))"
      ]
    },
    {
      "cell_type": "code",
      "execution_count": null,
      "metadata": {
        "colab": {
          "base_uri": "https://localhost:8080/"
        },
        "id": "Dox5mrazua93",
        "outputId": "cd363e4c-6eaa-4ae9-cc5e-7b7be9117c5b"
      },
      "outputs": [
        {
          "output_type": "stream",
          "name": "stdout",
          "text": [
            "\n",
            " T h i s   L i t t l e   L i g h t   o f   M i n e   ( L i g h t   o f   M i n e ) ,     \r \n",
            " I ' m   L e t   i t   s h i n e   ( A l e i l u j a h ) ,     \r \n",
            " T h i s   L i t t l e   L i g h t   o f   M i n e ,   I ' m   g o n n a   l e t   i t   s h i n e ,     \r \n",
            "     \r \n",
            " D o w n   i n   m y   h e a r t   ( I n   m y   h e a r t ) ,     \r \n",
            " I ' m   g o n n a   l e t   i t   s h i n e   ( A l e i l u j a h )     \r \n",
            " D o w n   i n   m y   h e a r t   ( I n   M y   h e a r t )     \r \n",
            " I ' m   g o n n a   l e t   i t ,   l e t   i t   s h i n e .     \r \n",
            "     \r \n",
            " A l l   o v e r   t h e   w o r l d   ( A l l   o v e r   t h e   w o r l d ) ,     \r \n",
            " I ' m   g o n n a   l e t   i t   s h i n e   ( L e t   i t   s h i n e ,   l e t   i t   s h i n e   l e t   i t   s h i n e )     \r \n",
            " L e t   i t   s h i n e ,   l e t   i t   s h i n e ,   l e t   i t   s h i n e ,   l e t   i t   s h i n e \r \n",
            " \r \n",
            " \n",
            " \n",
            " A e r o s m i t h \n",
            " \n",
            " T h i s   L i t t l e   L i g h t   o f   M i n e   ( L i g h t   o f   M i n e ) ,     \r \n",
            " I ' m   L e t   i t   s h i n e   ( A l e i l u j a h ) ,     \r \n",
            " T h i s   L i t t l e   L i g h t   o f   M i n e ,   I ' m   g o n n a   l e t   i t   s h i n e ,     \r \n",
            "     \r \n",
            " D o w n   i n   m y   h e a r t   ( I n   m y   h e a r t ) ,     \r \n",
            " I ' m   g o n n a   l e t   i t   s h i n e   ( A l e i l u j a h )     \r \n",
            " D o w n   i n   m y   h e a r t   ( I n   M y   h e a r t )     \r \n",
            " I ' m   g o n n a   l e t   i t ,   l e t   i t   s h i n e .     \r \n",
            "     \r \n",
            " A l l   o v e r   t h e   w o r l d   ( A l l   o v e r   t h e   w o r l d ) ,     \r \n",
            " I ' m   g o n n a   l e t   i t   s h i n e   ( L e t   i t   s h i n e ,   l e t   i t   s h i n e   l e t   i t   s h i n e )     \r \n",
            " L e t   i t   s h i n e ,   l e t   i t   s h i n e ,   l e t   i t   s h i n e ,   l e t   i t   s h i n e \r \n",
            " \r \n",
            "\n"
          ]
        }
      ],
      "source": [
        "#Funcion inversa (seq2str)\n",
        "def letras_sequence_to_string(letras_sequence):\n",
        "    letras_stringified = tokenizer.sequences_to_texts([letras_sequence])[0]\n",
        "    print(letras_stringified)\n",
        "\n",
        "letras_sequence_to_string(dataset_vectorizado[0])"
      ]
    },
    {
      "cell_type": "markdown",
      "metadata": {
        "id": "u0Cfu32f7dB9"
      },
      "source": [
        "Puesto que la longitud de todas las letras es diferente, es posible que se genere un error en la red neuronal creada.\n",
        "\n",
        "La red neuronal espera una forma fija para la entrada. Por esta razón, completamos las letras de canciones que tienen una longitud menor a 1000 con el objetivo de que todas las letras tengan un tamaño máximo de caracteres de 1000.\n",
        "\n",
        "Añadimos estos caracteres con el STOPWORD."
      ]
    },
    {
      "cell_type": "code",
      "execution_count": null,
      "metadata": {
        "colab": {
          "base_uri": "https://localhost:8080/"
        },
        "id": "6rLxsn6Mucyn",
        "outputId": "a21c57ab-26da-4e68-8676-4a609b24956c"
      },
      "outputs": [
        {
          "output_type": "stream",
          "name": "stdout",
          "text": [
            "letras #1 length: 920\n",
            "letras #2 length: 899\n",
            "letras #3 length: 960\n",
            "letras #4 length: 996\n",
            "letras #5 length: 979\n",
            "letras #6 length: 904\n",
            "letras #7 length: 904\n",
            "letras #8 length: 874\n",
            "letras #9 length: 936\n",
            "letras #10 length: 856\n"
          ]
        }
      ],
      "source": [
        "for letras_index, letras in enumerate(dataset_vectorizado[:10]):\n",
        "    print('letras #{} length: {}'.format(letras_index + 1, len(letras)))"
      ]
    },
    {
      "cell_type": "code",
      "execution_count": null,
      "metadata": {
        "colab": {
          "base_uri": "https://localhost:8080/"
        },
        "id": "X96yNhsvunSI",
        "outputId": "c21e59ed-52c8-44fe-e966-49c8f8213cb9"
      },
      "outputs": [
        {
          "output_type": "stream",
          "name": "stdout",
          "text": [
            "Letra #1 longitud: 1001\n",
            "Letra #2 longitud: 1001\n",
            "Letra #3 longitud: 1001\n",
            "Letra #4 longitud: 1001\n",
            "Letra #5 longitud: 1001\n",
            "Letra #6 longitud: 1001\n",
            "Letra #7 longitud: 1001\n",
            "Letra #8 longitud: 1001\n",
            "Letra #9 longitud: 1001\n",
            "Letra #10 longitud: 1001\n"
          ]
        }
      ],
      "source": [
        "dataset_vectorized_padded_without_stops = tf.keras.preprocessing.sequence.pad_sequences(\n",
        "    dataset_vectorizado,\n",
        "    padding='post',\n",
        "    truncating='post',\n",
        "    # Usamos -1 acá y 1 en el siguiente paso para asegurarnos\n",
        "    # que todas las canciones tienen por lo menos un stop al final,\n",
        "    # Dado que cada secuencia será desplazada y truncada posteriormente\n",
        "    # (para generar secuencias X e Y).\n",
        "    maxlen=MAX_LETTER_LONG-1,\n",
        "    value=tokenizer.texts_to_sequences([STOP_SIGN])[0]\n",
        ")\n",
        "\n",
        "dataset_vectorized_padded = tf.keras.preprocessing.sequence.pad_sequences(\n",
        "    dataset_vectorized_padded_without_stops,\n",
        "    padding='post',\n",
        "    truncating='post',\n",
        "    maxlen=MAX_LETTER_LONG+1,\n",
        "    value=tokenizer.texts_to_sequences([STOP_SIGN])[0]\n",
        ")\n",
        "\n",
        "for letra_index, letra in enumerate(dataset_vectorized_padded[:10]):\n",
        "    print('Letra #{} longitud: {}'.format(letra_index + 1, len(letra)))"
      ]
    },
    {
      "cell_type": "markdown",
      "metadata": {
        "id": "c4X_YC8C8JyT"
      },
      "source": [
        "Ahora todas las letras tienen la misma longitud, por ejemplo,"
      ]
    },
    {
      "cell_type": "code",
      "execution_count": null,
      "metadata": {
        "colab": {
          "base_uri": "https://localhost:8080/"
        },
        "id": "dOIqlWj7urzY",
        "outputId": "7010f43a-20df-4363-e644-fbee628cf03a"
      },
      "outputs": [
        {
          "output_type": "stream",
          "name": "stdout",
          "text": [
            "\n",
            " A   L i t t l e   B i r d   T o l d   M e \n",
            " \n",
            " C o n w a y   T w i t t y \n",
            " \n",
            " A   l i t t l e   b i r d   t o l d   m e   t h a t   y o u   l o v e   m e     \r \n",
            " A n d   I   b e l i e v e   t h a t   y o u   d o     \r \n",
            " T h i s   l i t t l e   b i r d   t o l d   m e   I   w a s   f a l l i n '     \r \n",
            " F a l l i n '   f o r   n o   o n e   b u t   y o u .     \r \n",
            "     \r \n",
            " T h e r e ' s   n o   u s e   d e n y i n g     \r \n",
            " I   m i g h t   a s   w e l l   c o n f e s s     \r \n",
            " O f   a l l   t h e   g i r l s   I   k n o w ,   d e a r     \r \n",
            " I ' m   s u r e   I   l o v e   y o u   b e s t .     \r \n",
            "     \r \n",
            " T h e   l i t t l e   b i r d   t o l d   m e   w e ' d   b e   h a p p y     \r \n",
            " A n d   I   b e l i e v e   t h a t   i t ' s   t r u e     \r \n",
            " T h i s   l i t t l e   b i r d   t o l d   m e   w e ' d   b e   m a r r i e d     \r \n",
            " Y e a ,   Y e a ,   A n d   I   b e l i e v e   t h a t   i t ' s   t r u e .     \r \n",
            "     \r \n",
            " W e ' l l   h a v e   a   p r e t t y   c o t t a g e     \r \n",
            " N o t   t o o   f a r     \r \n",
            " A l l   f e n c e d   i n   l i k e   a   m o v i e   s t a r s     \r \n",
            " W e ' l l   c a l l   h i m   A c e     \r \n",
            " L y i n g   t h e r e   b y   t h e   f i r e p l a c e     \r \n",
            " A   g o l d f i s h   p o n d   a n d   a   w i s h i n g   w e l l     \r \n",
            " E v e r y t h i n g   i s   g o n n a   t u r n   o u t   s w e l l .     \r \n",
            "     \r \n",
            " A   l i t t l e   b i r d   t o l d   m e   w e ' d   b e   h a p p y     \r \n",
            " Y e a ,   y e a ,   A n d   I   b e l i e v e   t h a t   i t ' s   t r u e     \r \n",
            " F o r   I   b e l i e v e   t h a t   i t ' s   t r u e     \r \n",
            " D o n ' t   y o u   k n o w   t h a t   I   b e l i e v e   t h a t   i t ' s   t r u e     \r \n",
            " W e l l   b a b y ,   I   b e l i e v e   t h a t   i t ' s   t r u e . . . \r \n",
            " \r \n",
            " ␣ ␣ ␣ ␣ ␣ ␣ ␣ ␣ ␣ ␣ ␣ ␣ ␣ ␣ ␣ ␣ ␣ ␣ ␣ ␣ ␣ ␣ ␣ ␣ ␣ ␣ ␣ ␣ ␣ ␣ ␣ ␣ ␣ ␣ ␣ ␣ ␣ ␣ ␣ ␣ ␣ ␣ ␣ ␣ ␣ ␣ ␣ ␣ ␣ ␣ ␣ ␣ ␣ ␣ ␣ ␣ ␣ ␣ ␣ ␣ ␣ ␣ ␣ ␣ ␣ ␣ ␣ ␣ ␣ ␣ ␣ ␣ ␣ ␣ ␣ ␣ ␣ ␣ ␣ ␣ ␣ ␣ ␣ ␣ ␣ ␣ ␣ ␣ ␣ ␣ ␣ ␣ ␣ ␣ ␣ ␣ ␣ ␣ ␣ ␣ ␣ ␣ ␣ ␣ ␣ ␣ ␣ ␣ ␣ ␣ ␣\n"
          ]
        }
      ],
      "source": [
        "letras_sequence_to_string(dataset_vectorized_padded[1290])"
      ]
    },
    {
      "cell_type": "markdown",
      "metadata": {
        "id": "Qdsk9JxmOUW5"
      },
      "source": [
        "## Creación del conjunto de datos en formato TensorFlow."
      ]
    },
    {
      "cell_type": "markdown",
      "metadata": {
        "id": "vMfYCE6Y8RiI"
      },
      "source": [
        "Una vez que tenemos el texto convertido en vectores (numpay arrays) tenemos que adaptarlos al formato tensorflow para poder utilizar la librería."
      ]
    },
    {
      "cell_type": "code",
      "execution_count": null,
      "metadata": {
        "colab": {
          "base_uri": "https://localhost:8080/"
        },
        "id": "jq4GFcFVu8R4",
        "outputId": "673e851d-6de8-4ee5-d7b6-f3b87191c02a"
      },
      "outputs": [
        {
          "output_type": "stream",
          "name": "stdout",
          "text": [
            "<_TensorSliceDataset element_spec=TensorSpec(shape=(1001,), dtype=tf.int32, name=None)>\n"
          ]
        }
      ],
      "source": [
        "\n",
        "dataset = tf.data.Dataset.from_tensor_slices(dataset_vectorized_padded)\n",
        "print(dataset)"
      ]
    },
    {
      "cell_type": "markdown",
      "metadata": {
        "id": "7SECEhF1_6sq"
      },
      "source": [
        "Ahora, debemos empezar a crear nuestras muestras en inputs (entradas) y target (objetivo-destino). Entonces, dada la entrada, el modelo intentará predecir el objetivo (es decir, la continuación de la entrada).\n",
        "\n",
        "Son numerosas las combinaciones que se pueden realizar , por ejemplo si tenemos la palabra \"Amarse\" y la longitud_secuencia es 5, dada \"Amars\" la secuencia objetivo será \"marse\"."
      ]
    },
    {
      "cell_type": "code",
      "execution_count": null,
      "metadata": {
        "colab": {
          "base_uri": "https://localhost:8080/"
        },
        "id": "BQT7z0VlOadO",
        "outputId": "4d8d805c-b439-4eb8-f86f-dd93cbe4625f"
      },
      "outputs": [
        {
          "output_type": "stream",
          "name": "stdout",
          "text": [
            "<_MapDataset element_spec=(TensorSpec(shape=(1000,), dtype=tf.int32, name=None), TensorSpec(shape=(1000,), dtype=tf.int32, name=None))>\n"
          ]
        }
      ],
      "source": [
        "def split_input_target(letra):\n",
        "    input_text = letra[:-1]\n",
        "    target_text = letra[1:]\n",
        "\n",
        "    return input_text, target_text\n",
        "\n",
        "dataset_targeted = dataset.map(split_input_target)\n",
        "\n",
        "print(dataset_targeted)"
      ]
    },
    {
      "cell_type": "markdown",
      "metadata": {
        "id": "ZTu2Xn2VKskS"
      },
      "source": [
        "Después, el conjunto de datos es una tupla que contiene (entrada, destino) o en inglés (input, target).\n",
        "\n",
        "Por ejemplo:"
      ]
    },
    {
      "cell_type": "code",
      "execution_count": null,
      "metadata": {
        "colab": {
          "base_uri": "https://localhost:8080/"
        },
        "id": "ZXVZyyRHUAvG",
        "outputId": "09acd19c-0cc9-4eee-d2ba-d86454abc6df"
      },
      "outputs": [
        {
          "output_type": "stream",
          "name": "stdout",
          "text": [
            "Tamaño de secuencia de entrada (input): 1000\n",
            "Tamaño de secuencia objetivo (target): 1000\n",
            "\n",
            "Input:   \"\\n A h e '\"\n",
            "Target:  \"A h e ' s\"\n",
            "Tamaño de secuencia de entrada (input): 1000\n",
            "Tamaño de secuencia objetivo (target): 1000\n",
            "\n",
            "Input:   '\\n B u r n'\n",
            "Target:  'B u r n i'\n",
            "Tamaño de secuencia de entrada (input): 1000\n",
            "Tamaño de secuencia objetivo (target): 1000\n",
            "\n",
            "Input:   '\\n C r y i'\n",
            "Target:  'C r y i n'\n",
            "Tamaño de secuencia de entrada (input): 1000\n",
            "Tamaño de secuencia objetivo (target): 1000\n",
            "\n",
            "Input:   '\\n D i s i'\n",
            "Target:  'D i s i l'\n",
            "Tamaño de secuencia de entrada (input): 1000\n",
            "Tamaño de secuencia objetivo (target): 1000\n",
            "\n",
            "Input:   '\\n E v e r'\n",
            "Target:  'E v e r y'\n"
          ]
        }
      ],
      "source": [
        "for input_example, target_example in dataset_targeted.take(5):\n",
        "    print('Tamaño de secuencia de entrada (input):', repr(len(input_example.numpy())))\n",
        "    print('Tamaño de secuencia objetivo (target):', repr(len(target_example.numpy())))\n",
        "    print()\n",
        "\n",
        "    input_stringified = tokenizer.sequences_to_texts([input_example.numpy()[:5]])[0]\n",
        "    target_stringified = tokenizer.sequences_to_texts([target_example.numpy()[:5]])[0]\n",
        "\n",
        "    print('Input:  ', repr(''.join(input_stringified)))\n",
        "    print('Target: ', repr(''.join(target_stringified)))"
      ]
    },
    {
      "cell_type": "markdown",
      "metadata": {
        "id": "Txlz_yM1LJy7"
      },
      "source": [
        "**RNN** procesa cada índice de estos vectores como un paso de tiempo.\n",
        "-   Para la entrada en el paso 0, el modelo recibe el índice de '\\n' e intenta predecir el índice para el siguiente carácter.\n",
        "-   En el siguiente paso de tiempo, hace lo mismo, pero la **RNN** considera el contexto del paso anterior además del carácter de entrada actual."
      ]
    },
    {
      "cell_type": "markdown",
      "metadata": {
        "id": "rMDxGpaNUad8"
      },
      "source": [
        "## División del conjunto de datos por lotes (Batches)"
      ]
    },
    {
      "cell_type": "markdown",
      "metadata": {
        "id": "nwNEqzuiLL9Z"
      },
      "source": [
        "En el contexto del procesamiento del lenguaje natural (NLP) y de los modelos de aprendizaje profundo en general, un \"batch\" o \"lote\" se refiere a un conjunto de ejemplos de entrenamiento que se utilizan simultáneamente para actualizar los pesos del modelo durante el proceso de entrenamiento. Es decir, en lugar de actualizar los pesos del modelo después de cada ejemplo individual, se realiza una actualización después de procesar un grupo de ejemplos.\n",
        "\n",
        "**Estos lotes son esenciales para mejorar la eficiencia del entrenamiento y aprovechar las operaciones vectorizadas**. Es importante definir lo siguiente:\n",
        "\n",
        "\n",
        "\n",
        "1.   **Tamaño del Lote (Batch Size):** El tamaño del lote se refiere al número de ejemplos de entrenamiento incluidos en cada lote.\n",
        "\n",
        "2.   **Ventajas de los Lotes:** Trabajar con lotes en lugar de ejemplos individuales mejora la eficiencia computacional. Además, puede ayudar a regularizar el modelo, ya que los pesos se actualizan con información promediada de varios ejemplos en lugar de uno solo.\n",
        "\n",
        "3.   **Gradiente Estocástico Descendente (SGD):** Cuando el tamaño del lote es igual al tamaño total del conjunto de entrenamiento, se llama **\"Batch Gradient Descent\"**. Cuando el tamaño del lote es 1, se llama **\"Stochastic Gradient Descent\" (SGD)**. Los tamaños de lote intermedios se llaman \"Mini-batch Gradient Descent\".\n",
        "\n",
        "\n",
        "Para nuestro caso particular, elegimos pasar sólo un número limitado de elementos, en este caso 64, en cada paso del entrenamiento."
      ]
    },
    {
      "cell_type": "code",
      "execution_count": null,
      "metadata": {
        "colab": {
          "base_uri": "https://localhost:8080/"
        },
        "id": "DL7Rdy_yUX51",
        "outputId": "cd9d0eb3-dcdb-4287-c5f0-ee8129bcf9f0"
      },
      "outputs": [
        {
          "output_type": "stream",
          "name": "stdout",
          "text": [
            "<_RepeatDataset element_spec=(TensorSpec(shape=(64, 1000), dtype=tf.int32, name=None), TensorSpec(shape=(64, 1000), dtype=tf.int32, name=None))>\n"
          ]
        }
      ],
      "source": [
        "# Tamaño del lote.\n",
        "BATCH_SIZE = 64\n",
        "\n",
        "# Tamaño del búfer para mezclar el conjunto de datos (los datos TF están diseñados para funcionar\n",
        "# con secuencias posiblemente infinitas, por lo que no intenta mezclar\n",
        "# toda la secuencia en la memoria. En cambio, mantiene un buffer en\n",
        "# que baraja elementos).\n",
        "SHUFFLE_BUFFER_SIZE = 1000\n",
        "\n",
        "dataset_train = dataset_targeted.shuffle(SHUFFLE_BUFFER_SIZE).batch(BATCH_SIZE, drop_remainder=True).repeat()\n",
        "\n",
        "\n",
        "print(dataset_train)"
      ]
    },
    {
      "cell_type": "markdown",
      "metadata": {
        "id": "i1FC4lBxNW-E"
      },
      "source": [
        "Finalmente, lo que tenemos en el proceso de formación son lotes de tamaño 64. Cada elemento del lote es la secuencia que codifica la letra correspondiente.\n",
        "\n",
        "Además, se debe tener presente que la muestra se divide en entrada y destino (input y target).  El objetivo es el vector de desplazamiento de input_text."
      ]
    },
    {
      "cell_type": "code",
      "execution_count": null,
      "metadata": {
        "colab": {
          "base_uri": "https://localhost:8080/"
        },
        "id": "XFDghGffUgz0",
        "outputId": "1bae5b34-9866-4455-84c1-bfef80974908"
      },
      "outputs": [
        {
          "output_type": "stream",
          "name": "stdout",
          "text": [
            "1st batch: input_text: tf.Tensor(\n",
            "[[ 7 33 20 ... 78 78 78]\n",
            " [ 7 29 11 ... 78 78 78]\n",
            " [ 7 36 10 ... 78 78 78]\n",
            " ...\n",
            " [ 7 30 15 ... 78 78 78]\n",
            " [ 7 43  2 ... 78 78 78]\n",
            " [ 7 32  3 ... 78 78 78]], shape=(64, 1000), dtype=int32)\n",
            "\n",
            "1st batch: target_text: tf.Tensor(\n",
            "[[33 20 10 ... 78 78 78]\n",
            " [29 11  2 ... 78 78 78]\n",
            " [36 10  8 ... 78 78 78]\n",
            " ...\n",
            " [30 15 24 ... 78 78 78]\n",
            " [43  2  2 ... 78 78 78]\n",
            " [32  3 15 ... 78 78 78]], shape=(64, 1000), dtype=int32)\n"
          ]
        }
      ],
      "source": [
        "for input_text, target_text in dataset_train.take(1):\n",
        "    print('1st batch: input_text:', input_text)\n",
        "    print()\n",
        "    print('1st batch: target_text:', target_text)"
      ]
    },
    {
      "cell_type": "markdown",
      "metadata": {
        "id": "meaPe_xgU5-r"
      },
      "source": [
        "## Construcción del modelo"
      ]
    },
    {
      "cell_type": "markdown",
      "metadata": {
        "id": "dhohk7vsN26s"
      },
      "source": [
        "Ahora procedemos a construir el modelo para generar nuevas letras. Este modelo está construido con [tf.keras.Sequential](https://www.tensorflow.org/api_docs/python/tf/keras/Sequential). Consta de tres capas apiladas:\n",
        "\n",
        "\n",
        "- [tf.keras.layers.Embedding](https://www.tensorflow.org/api_docs/python/tf/keras/layers/Embedding) - la capa de entrada (una tabla de búsqueda entrenable que asignará los números de cada carácter a un vector con dimensiones `embedding_dim`),\n",
        "\n",
        "- [tf.keras.layers.LSTM](https://www.tensorflow.org/api_docs/python/tf/keras/layers/LSTM) - la capa de entrada (una tabla de búsqueda entrenable que asignará los números de cada carácter a un vector con dimensiones `embedding_dim`)\n",
        "\n",
        "- [tf.keras.layers.Dense](https://www.tensorflow.org/api_docs/python/tf/keras/layers/Dense) - la capa de salida, con salidas `VOCABULARY_SIZE`.\n"
      ]
    },
    {
      "cell_type": "markdown",
      "metadata": {
        "id": "wzpWFelSVFDO"
      },
      "source": [
        "### Modelo LSTM"
      ]
    },
    {
      "cell_type": "markdown",
      "source": [
        "A continuación, mostramos la función inspirada en el código de las recetas que construye un modelo de lenguaje basado en LSTM para predecir la siguiente palabra en una secuencia de palabras. El nombre de la función es `build_model` y devuelve un modelo de lenguaje simple utilizando capas de Embedding, LSTM y Dense en TensorFlow/Keras.\n",
        "\n",
        "Cada parte de la función está caracterizada por:\n",
        "\n",
        "1. **Embedding Layer (`Embedding`):** Esta capa es responsable de convertir la representación numérica de las palabras (índices de palabras) en vectores densos de longitud `embedding_dim`. Específicamente, la capa de embedding tiene un tamaño de vocabulario (`vocab_size`), y la salida tiene la forma `(batch_size, sequence_length, embedding_dim)`. Aquí, `batch_size` y `sequence_length` pueden variar.\n",
        "\n",
        "2. **LSTM Layer (`LSTM`):** Esta capa LSTM recibe los embeddings y procesa las secuencias de entrada. El parámetro `units` especifica el número de unidades LSTM (o celdas de memoria) en la capa. `return_sequences=True` indica que la capa LSTM devolverá secuencias en lugar de un único estado oculto al procesar la secuencia de entrada.\n",
        "\n",
        "   - `stateful=True` significa que el modelo mantiene el estado de la celda LSTM entre lotes. Esto es útil cuando se procesan secuencias largas y se desea que la LSTM mantenga la memoria a lo largo de ellas.\n",
        "\n",
        "   - `recurrent_initializer=tf.keras.initializers.GlorotNormal()`: Inicializa los pesos recurrentes de la capa LSTM utilizando la inicialización de Glorot, que es una estrategia común de inicialización para redes neuronales.\n",
        "\n",
        "3. **Capa Dense (`Dense`):** La capa Dense es la capa de salida que produce las predicciones. Tiene un número de unidades igual al tamaño del vocabulario (`vocab_size`). Esto se debe a que el modelo está diseñado para predecir la siguiente palabra en una secuencia de palabras, y el tamaño del vocabulario determina la dimensión de las predicciones.\n"
      ],
      "metadata": {
        "id": "5C88ckOBWeTt"
      }
    },
    {
      "cell_type": "code",
      "execution_count": null,
      "metadata": {
        "colab": {
          "base_uri": "https://localhost:8080/"
        },
        "id": "uSiaMHM6U0F2",
        "outputId": "d7bf5d11-52ce-4163-ecd1-2609da787a6c"
      },
      "outputs": [
        {
          "output_type": "stream",
          "name": "stdout",
          "text": [
            "Model: \"sequential_1\"\n",
            "_________________________________________________________________\n",
            " Layer (type)                Output Shape              Param #   \n",
            "=================================================================\n",
            " embedding_1 (Embedding)     (64, None, 256)           20224     \n",
            "                                                                 \n",
            " lstm_1 (LSTM)               (64, None, 1024)          5246976   \n",
            "                                                                 \n",
            " dense_1 (Dense)             (64, None, 79)            80975     \n",
            "                                                                 \n",
            "=================================================================\n",
            "Total params: 5348175 (20.40 MB)\n",
            "Trainable params: 5348175 (20.40 MB)\n",
            "Non-trainable params: 0 (0.00 Byte)\n",
            "_________________________________________________________________\n"
          ]
        }
      ],
      "source": [
        "def build_model(vocab_size, embedding_dim, rnn_units, batch_size):\n",
        "    model = tf.keras.models.Sequential()\n",
        "\n",
        "    model.add(tf.keras.layers.Embedding(\n",
        "        input_dim=vocab_size,\n",
        "        output_dim=embedding_dim,\n",
        "        batch_input_shape=[batch_size, None]\n",
        "    ))\n",
        "\n",
        "    model.add(tf.keras.layers.LSTM(\n",
        "        units=rnn_units,\n",
        "        return_sequences=True,\n",
        "        stateful=True,\n",
        "        recurrent_initializer=tf.keras.initializers.GlorotNormal()\n",
        "    ))\n",
        "\n",
        "    model.add(tf.keras.layers.Dense(vocab_size))\n",
        "\n",
        "    return model\n",
        "\n",
        "model = build_model(\n",
        "  vocab_size=VOCABULARY_SIZE,\n",
        "  embedding_dim=256,\n",
        "  rnn_units=1024,\n",
        "  batch_size=BATCH_SIZE\n",
        ")\n",
        "\n",
        "model.summary()"
      ]
    },
    {
      "cell_type": "markdown",
      "metadata": {
        "id": "3tAUgLf3PaKg"
      },
      "source": [
        "Obsérvese que en el modelo sigue la siguiente secuencia:\n",
        "\n",
        "1.   Se introduce un lote de 64 elementos.  \n",
        "2.   Se alimenta a una capa de incrustación que asigna los números de la secuencia a vectores en un espacio de 256 dimensiones.\n",
        "3.   Se aplica una capa **LSTM** a los vectores resultantes.\n",
        "4.   Finalmente una capa Densa dará la probabilidad de que aparezca el siguiente carácter.\n",
        "\n",
        "Notemos que tiene una dimensión de 79 (el vocabulary_size), por lo que le da la probabilidad a cada carácter."
      ]
    },
    {
      "cell_type": "markdown",
      "source": [
        "Generador de gráfico del modelo \"sequential\""
      ],
      "metadata": {
        "id": "DxeGnt9-XHfs"
      }
    },
    {
      "cell_type": "code",
      "execution_count": null,
      "metadata": {
        "colab": {
          "base_uri": "https://localhost:8080/",
          "height": 422
        },
        "id": "XVlpXG5KVIdV",
        "outputId": "241933cd-876c-4dc7-e9d2-88bc9a019cb7"
      },
      "outputs": [
        {
          "output_type": "execute_result",
          "data": {
            "image/png": "[encoded data removed]",
            "text/plain": [
              "<IPython.core.display.Image object>"
            ]
          },
          "metadata": {},
          "execution_count": 67
        }
      ],
      "source": [
        "tf.keras.utils.plot_model(\n",
        "    model,\n",
        "    show_shapes=True,\n",
        "    show_layer_names=True,\n",
        "    to_file='model.png'\n",
        ")"
      ]
    },
    {
      "cell_type": "markdown",
      "metadata": {
        "id": "ldnJO6E7VTfU"
      },
      "source": [
        "## Entrenamiento del modelo"
      ]
    },
    {
      "cell_type": "markdown",
      "metadata": {
        "id": "uWF2flFzP84s"
      },
      "source": [
        "Para entrenar el modelo, utilizamos lo siguiente:\n",
        "\n",
        "*  [Generación de texto con una RNN](https://www.tensorflow.org/tutorials/text/text_generation) en este notebook, está contenida la documentación de TensorFlow para obtener más detalles sobre los componentes del modelo."
      ]
    },
    {
      "cell_type": "code",
      "execution_count": null,
      "metadata": {
        "id": "OUFurh96VKGF"
      },
      "outputs": [],
      "source": [
        "# Una función objetivo.\n",
        "# La función se llama con scalar_loss = fn(y_true, y_pred).\n",
        "def loss(labels, logits):\n",
        "    entropy = tf.keras.losses.sparse_categorical_crossentropy(\n",
        "      y_true=labels,\n",
        "      y_pred=logits,\n",
        "      from_logits=True\n",
        "    )\n",
        "\n",
        "    return entropy\n",
        "\n",
        "adam_optimizer = tf.keras.optimizers.Adam(learning_rate=0.001)\n",
        "\n",
        "model.compile(\n",
        "    optimizer=adam_optimizer,\n",
        "    loss=loss\n",
        ")"
      ]
    },
    {
      "cell_type": "markdown",
      "metadata": {
        "id": "82r3qkrcrwkn"
      },
      "source": [
        "# Configuración de callbacks"
      ]
    },
    {
      "cell_type": "markdown",
      "source": [
        "La \"detención anticipada\" o \"early stopping\" es una técnica para evitar el sobreajuste y mejorar la eficiencia del proceso de entrenamiento. En el contexto de Keras, la detención anticipada se implementa a menudo a través de **\"callbacks\"**.\n",
        "\n",
        "En términos simples, la detención anticipada implica monitorear cierta métrica, como la pérdida en el conjunto de validación, durante el entrenamiento del modelo. Si esta métrica deja de mejorar después de cierto número de épocas, el entrenamiento se detiene antes de completar todas las épocas planificadas. Esto ayuda a evitar que el modelo se sobreajuste al conjunto de entrenamiento y, en cambio, capture patrones generales que se apliquen a datos no vistos.\n",
        "\n",
        "Utilizamos dos técnicas:\n",
        "\n",
        "1. **ModelCheckpoint Callback:** Este callback guarda el modelo (guarda los pesos del modelo) en un archivo después de cada época o después de ciertos criterios (como mejorar en la métrica de validación). Esto es útil para guardar el mejor modelo durante el entrenamiento.\n",
        "\n",
        "2. **EarlyStopping Callback:** Este callback monitorea una métrica (por ejemplo, la pérdida en el conjunto de validación) y detiene el entrenamiento si la métrica no mejora después de un cierto número de épocas. Es una forma de implementar la detención anticipada."
      ],
      "metadata": {
        "id": "RKMNCeZqUr98"
      }
    },
    {
      "cell_type": "markdown",
      "metadata": {
        "id": "8yPFAId2rwqd"
      },
      "source": [
        "## Detención anticipada de callbacks"
      ]
    },
    {
      "cell_type": "markdown",
      "source": [
        "Para la detección anticipada de callbacks, tenemos los siguientes parámetros:\n",
        "\n",
        "1. **`patience=5`:** Este parámetro especifica el número de épocas que el entrenamiento puede continuar sin ver una mejora en la métrica monitoreada antes de detenerse. En este caso, el entrenamiento se detendrá si la pérdida (loss) en el conjunto de entrenamiento no mejora durante 5 épocas consecutivas.\n",
        "\n",
        "2. **`monitor='loss'`:** Este parámetro indica qué métrica se debe monitorear para decidir si detener o no el entrenamiento. En este caso, se está monitoreando la pérdida en el conjunto de entrenamiento (`'loss'`), pero podrías cambiarlo a otra métrica según tus necesidades, como `'val_accuracy'` para monitorear la precisión en el conjunto de validación.\n",
        "\n",
        "3. **`restore_best_weights=True`:** Cuando este parámetro está configurado en `True`, restaura los pesos del modelo al mejor punto de control (época) cuando se detiene el entrenamiento. Esto es útil para asegurarse de que el modelo que se guarda al final es el mejor en términos de la métrica monitoreada.\n",
        "\n",
        "4. **`verbose=1`:** Este parámetro controla la cantidad de información impresa durante el proceso de entrenamiento. Un valor de 1 significa que se imprimirán mensajes verbosos, lo que proporciona información sobre la detención anticipada.\n",
        "\n",
        "\n",
        "Este callback `EarlyStopping` está configurado para detener el entrenamiento si la pérdida en el conjunto de entrenamiento no mejora durante 5 épocas consecutivas. Cuando se detiene, restaurará los pesos del modelo al mejor punto de control para asegurarse de que el modelo final sea el mejor según la métrica monitoreada. La configuración específica puede variar según los requisitos y el problema específico que estás abordando."
      ],
      "metadata": {
        "id": "jqklFRnPVtKV"
      }
    },
    {
      "cell_type": "code",
      "execution_count": null,
      "metadata": {
        "id": "3-sVmfiDVX9x"
      },
      "outputs": [],
      "source": [
        "early_stopping_callback = tf.keras.callbacks.EarlyStopping(\n",
        "    patience=5,\n",
        "    monitor='loss',\n",
        "    restore_best_weights=True,\n",
        "    verbose=1\n",
        ")"
      ]
    },
    {
      "cell_type": "markdown",
      "metadata": {
        "id": "LdQdePzCr7QZ"
      },
      "source": [
        "## Puntos de control del modelo que detienen el callback"
      ]
    },
    {
      "cell_type": "code",
      "execution_count": null,
      "metadata": {
        "id": "iiYiyq4cr3b6"
      },
      "outputs": [],
      "source": [
        "# creando el directorio de checkpoints.\n",
        "checkpoint_dir = 'tmp/checkpoints'\n",
        "os.makedirs(checkpoint_dir, exist_ok=True)\n",
        "\n",
        "checkpoint_prefix = os.path.join(checkpoint_dir, 'ckpt_{epoch}')\n",
        "checkpoint_callback=tf.keras.callbacks.ModelCheckpoint(\n",
        "    filepath=checkpoint_prefix,\n",
        "    save_weights_only=True\n",
        ")"
      ]
    },
    {
      "cell_type": "markdown",
      "metadata": {
        "id": "g6Xx2OTcsSUt"
      },
      "source": [
        "# Ejecutar la muestra de entrenamiento\n",
        "\n",
        "Para ejecutar la muestra de entrenamiento de nuestro modelo, definimos parámetros globales del modelo, son argumentos utilizados en el método **fit** de **Keras**, que se utiliza para entrenar el modelo:\n",
        "\n",
        "1.   Los `EPOCHS`, son el número de iteraciones que realizará el modelo.\n",
        "2.   Los `STEPS_PER_EPOCH`, representan el número de pasos de optimización que se realizan en cada época (epoch).\n",
        "\n",
        "Normalmente, en cada época el modelo ve el conjunto de datos completo; en este caso, realizarémos menos pasos para acelerar el proceso.\n"
      ]
    },
    {
      "cell_type": "code",
      "execution_count": null,
      "metadata": {
        "colab": {
          "base_uri": "https://localhost:8080/"
        },
        "id": "T8unSdmtsFxq",
        "outputId": "fac73791-aeba-4bab-b585-57b396edb730"
      },
      "outputs": [
        {
          "output_type": "stream",
          "name": "stdout",
          "text": [
            "EPOCHS:           90\n",
            "INITIAL_EPOCH:    0\n",
            "STEPS_PER_EPOCH:  75\n"
          ]
        }
      ],
      "source": [
        "# EPOCHS = 30\n",
        "# INITIAL_EPOCH = 0\n",
        "# STEPS_PER_EPOCH = 10\n",
        "\n",
        "# EPOCHS = 500\n",
        "# INITIAL_EPOCH = 1\n",
        "# STEPS_PER_EPOCH = 1500\n",
        "\n",
        "EPOCHS = 90\n",
        "INITIAL_EPOCH = 0\n",
        "STEPS_PER_EPOCH = 75\n",
        "\n",
        "print('EPOCHS:          ', EPOCHS)\n",
        "print('INITIAL_EPOCH:   ', INITIAL_EPOCH)\n",
        "print('STEPS_PER_EPOCH: ', STEPS_PER_EPOCH)"
      ]
    },
    {
      "cell_type": "code",
      "execution_count": null,
      "metadata": {
        "colab": {
          "base_uri": "https://localhost:8080/"
        },
        "id": "9CRNn_rOsVab",
        "outputId": "8cad0a0c-d52d-4296-8231-c59e96f6c90c"
      },
      "outputs": [
        {
          "output_type": "stream",
          "name": "stdout",
          "text": [
            "Epoch 1/90\n",
            "75/75 [==============================] - 58s 681ms/step - loss: 2.5851\n",
            "Epoch 2/90\n",
            "75/75 [==============================] - 55s 728ms/step - loss: 1.7817\n",
            "Epoch 3/90\n",
            "75/75 [==============================] - 54s 719ms/step - loss: 1.5679\n",
            "Epoch 4/90\n",
            "75/75 [==============================] - 54s 723ms/step - loss: 1.4892\n",
            "Epoch 5/90\n",
            "75/75 [==============================] - 54s 724ms/step - loss: 1.3603\n",
            "Epoch 6/90\n",
            "75/75 [==============================] - 54s 723ms/step - loss: 1.2886\n",
            "Epoch 7/90\n",
            "75/75 [==============================] - 54s 727ms/step - loss: 1.2353\n",
            "Epoch 8/90\n",
            "75/75 [==============================] - 55s 728ms/step - loss: 1.1824\n",
            "Epoch 9/90\n",
            "75/75 [==============================] - 54s 724ms/step - loss: 1.1467\n",
            "Epoch 10/90\n",
            "75/75 [==============================] - 54s 724ms/step - loss: 1.0905\n",
            "Epoch 11/90\n",
            "75/75 [==============================] - 54s 725ms/step - loss: 1.0835\n",
            "Epoch 12/90\n",
            "75/75 [==============================] - 54s 726ms/step - loss: 1.0468\n",
            "Epoch 13/90\n",
            "75/75 [==============================] - 54s 724ms/step - loss: 1.0392\n",
            "Epoch 14/90\n",
            "75/75 [==============================] - 54s 727ms/step - loss: 1.0150\n",
            "Epoch 15/90\n",
            "75/75 [==============================] - 55s 728ms/step - loss: 0.9839\n",
            "Epoch 16/90\n",
            "75/75 [==============================] - 55s 731ms/step - loss: 0.9859\n",
            "Epoch 17/90\n",
            "75/75 [==============================] - 55s 729ms/step - loss: 0.9619\n",
            "Epoch 18/90\n",
            "75/75 [==============================] - 54s 727ms/step - loss: 0.9635\n",
            "Epoch 19/90\n",
            "75/75 [==============================] - 55s 729ms/step - loss: 0.9472\n",
            "Epoch 20/90\n",
            "75/75 [==============================] - 55s 727ms/step - loss: 0.9244\n",
            "Epoch 21/90\n",
            "75/75 [==============================] - 54s 726ms/step - loss: 0.9278\n",
            "Epoch 22/90\n",
            "75/75 [==============================] - 54s 725ms/step - loss: 0.9086\n",
            "Epoch 23/90\n",
            "75/75 [==============================] - 54s 725ms/step - loss: 0.9182\n",
            "Epoch 24/90\n",
            "75/75 [==============================] - 54s 727ms/step - loss: 0.8943\n",
            "Epoch 25/90\n",
            "75/75 [==============================] - 54s 726ms/step - loss: 0.8904\n",
            "Epoch 26/90\n",
            "75/75 [==============================] - 55s 730ms/step - loss: 0.8854\n",
            "Epoch 27/90\n",
            "75/75 [==============================] - 55s 728ms/step - loss: 0.8802\n",
            "Epoch 28/90\n",
            "75/75 [==============================] - 54s 727ms/step - loss: 0.8791\n",
            "Epoch 29/90\n",
            "75/75 [==============================] - 55s 729ms/step - loss: 0.8580\n",
            "Epoch 30/90\n",
            "75/75 [==============================] - 55s 728ms/step - loss: 0.8621\n",
            "Epoch 31/90\n",
            "75/75 [==============================] - 55s 731ms/step - loss: 0.8516\n",
            "Epoch 32/90\n",
            "75/75 [==============================] - 55s 732ms/step - loss: 0.8521\n",
            "Epoch 33/90\n",
            "75/75 [==============================] - 54s 726ms/step - loss: 0.8538\n",
            "Epoch 34/90\n",
            "75/75 [==============================] - 55s 729ms/step - loss: 0.8291\n",
            "Epoch 35/90\n",
            "75/75 [==============================] - 55s 731ms/step - loss: 0.8435\n",
            "Epoch 36/90\n",
            "75/75 [==============================] - 54s 727ms/step - loss: 0.8243\n",
            "Epoch 37/90\n",
            "75/75 [==============================] - 54s 727ms/step - loss: 0.8355\n",
            "Epoch 38/90\n",
            "75/75 [==============================] - 55s 727ms/step - loss: 0.8264\n",
            "Epoch 39/90\n",
            "75/75 [==============================] - 54s 726ms/step - loss: 0.8102\n",
            "Epoch 40/90\n",
            "75/75 [==============================] - 55s 729ms/step - loss: 0.8202\n",
            "Epoch 41/90\n",
            "75/75 [==============================] - 55s 727ms/step - loss: 0.8077\n",
            "Epoch 42/90\n",
            "75/75 [==============================] - 55s 728ms/step - loss: 0.8174\n",
            "Epoch 43/90\n",
            "75/75 [==============================] - 55s 730ms/step - loss: 0.7983\n",
            "Epoch 44/90\n",
            "75/75 [==============================] - 55s 728ms/step - loss: 0.8027\n",
            "Epoch 45/90\n",
            "75/75 [==============================] - 55s 730ms/step - loss: 0.8014\n",
            "Epoch 46/90\n",
            "75/75 [==============================] - 54s 725ms/step - loss: 0.7942\n",
            "Epoch 47/90\n",
            "75/75 [==============================] - 54s 725ms/step - loss: 0.7974\n",
            "Epoch 48/90\n",
            "75/75 [==============================] - 55s 729ms/step - loss: 0.7776\n",
            "Epoch 49/90\n",
            "75/75 [==============================] - 54s 727ms/step - loss: 0.7926\n",
            "Epoch 50/90\n",
            "75/75 [==============================] - 55s 728ms/step - loss: 0.7761\n",
            "Epoch 51/90\n",
            "75/75 [==============================] - 55s 728ms/step - loss: 0.7817\n",
            "Epoch 52/90\n",
            "75/75 [==============================] - 55s 728ms/step - loss: 0.7798\n",
            "Epoch 53/90\n",
            "75/75 [==============================] - 55s 728ms/step - loss: 0.7618\n",
            "Epoch 54/90\n",
            "75/75 [==============================] - 55s 728ms/step - loss: 0.7756\n",
            "Epoch 55/90\n",
            "75/75 [==============================] - 55s 730ms/step - loss: 0.7569\n",
            "Epoch 56/90\n",
            "75/75 [==============================] - 54s 727ms/step - loss: 0.7741\n",
            "Epoch 57/90\n",
            "75/75 [==============================] - 54s 726ms/step - loss: 0.7611\n",
            "Epoch 58/90\n",
            "75/75 [==============================] - 54s 727ms/step - loss: 0.7545\n",
            "Epoch 59/90\n",
            "75/75 [==============================] - 55s 729ms/step - loss: 0.7580\n",
            "Epoch 60/90\n",
            "75/75 [==============================] - 55s 728ms/step - loss: 0.7486\n",
            "Epoch 61/90\n",
            "75/75 [==============================] - 54s 727ms/step - loss: 0.7590\n",
            "Epoch 62/90\n",
            "75/75 [==============================] - 54s 726ms/step - loss: 0.7412\n",
            "Epoch 63/90\n",
            "75/75 [==============================] - 55s 728ms/step - loss: 0.7511\n",
            "Epoch 64/90\n",
            "75/75 [==============================] - 54s 727ms/step - loss: 0.7365\n",
            "Epoch 65/90\n",
            "75/75 [==============================] - 55s 728ms/step - loss: 0.7413\n",
            "Epoch 66/90\n",
            "75/75 [==============================] - 54s 726ms/step - loss: 0.7498\n",
            "Epoch 67/90\n",
            "75/75 [==============================] - 54s 726ms/step - loss: 0.7264\n",
            "Epoch 68/90\n",
            "75/75 [==============================] - 54s 725ms/step - loss: 0.7430\n",
            "Epoch 69/90\n",
            "75/75 [==============================] - 55s 729ms/step - loss: 0.7223\n",
            "Epoch 70/90\n",
            "75/75 [==============================] - 54s 725ms/step - loss: 0.7342\n",
            "Epoch 71/90\n",
            "75/75 [==============================] - 54s 726ms/step - loss: 0.7331\n",
            "Epoch 72/90\n",
            "75/75 [==============================] - 55s 729ms/step - loss: 0.7172\n",
            "Epoch 73/90\n",
            "75/75 [==============================] - 55s 729ms/step - loss: 0.7286\n",
            "Epoch 74/90\n",
            "75/75 [==============================] - 55s 728ms/step - loss: 0.7123\n",
            "Epoch 75/90\n",
            "75/75 [==============================] - 55s 727ms/step - loss: 0.7263\n",
            "Epoch 76/90\n",
            "75/75 [==============================] - 55s 729ms/step - loss: 0.7131\n",
            "Epoch 77/90\n",
            "75/75 [==============================] - 55s 729ms/step - loss: 0.7141\n",
            "Epoch 78/90\n",
            "75/75 [==============================] - 55s 728ms/step - loss: 0.7125\n",
            "Epoch 79/90\n",
            "75/75 [==============================] - 55s 729ms/step - loss: 0.7085\n",
            "Epoch 80/90\n",
            "75/75 [==============================] - 55s 729ms/step - loss: 0.7149\n",
            "Epoch 81/90\n",
            "75/75 [==============================] - 54s 724ms/step - loss: 0.7017\n",
            "Epoch 82/90\n",
            "75/75 [==============================] - 54s 727ms/step - loss: 0.7089\n",
            "Epoch 83/90\n",
            "75/75 [==============================] - 55s 727ms/step - loss: 0.6935\n",
            "Epoch 84/90\n",
            "75/75 [==============================] - 55s 730ms/step - loss: 0.7010\n",
            "Epoch 85/90\n",
            "75/75 [==============================] - 55s 729ms/step - loss: 0.7102\n",
            "Epoch 86/90\n",
            "75/75 [==============================] - 55s 733ms/step - loss: 0.6836\n",
            "Epoch 87/90\n",
            "75/75 [==============================] - 55s 728ms/step - loss: 0.7029\n",
            "Epoch 88/90\n",
            "75/75 [==============================] - 55s 728ms/step - loss: 0.6816\n",
            "Epoch 89/90\n",
            "75/75 [==============================] - 55s 729ms/step - loss: 0.6980\n",
            "Epoch 90/90\n",
            "75/75 [==============================] - 54s 727ms/step - loss: 0.6918\n"
          ]
        }
      ],
      "source": [
        "history = model.fit(\n",
        "    x=dataset_train,\n",
        "    epochs=EPOCHS,\n",
        "    steps_per_epoch=STEPS_PER_EPOCH,\n",
        "    initial_epoch=INITIAL_EPOCH,\n",
        "    callbacks=[\n",
        "        checkpoint_callback,\n",
        "        early_stopping_callback\n",
        "    ]\n",
        ")"
      ]
    },
    {
      "cell_type": "code",
      "execution_count": null,
      "metadata": {
        "id": "wIne2l8ZsXQo",
        "colab": {
          "base_uri": "https://localhost:8080/"
        },
        "outputId": "bce1a4b3-3695-4fa1-a274-db7171e7fec9"
      },
      "outputs": [
        {
          "output_type": "stream",
          "name": "stderr",
          "text": [
            "/usr/local/lib/python3.10/dist-packages/keras/src/engine/training.py:3079: UserWarning: You are saving your model as an HDF5 file via `model.save()`. This file format is considered legacy. We recommend using instead the native Keras format, e.g. `model.save('my_model.keras')`.\n",
            "  saving_api.save_model(\n"
          ]
        }
      ],
      "source": [
        "# Saving the trained model to file (to be able to re-use it later).\n",
        "# Saving the trained model to file using the native Keras format.\n",
        "path_network = '/content/drive/My Drive/Colab Notebooks/generator_letras/saved_network/'\n",
        "# model_name = 'letrass_generation_rnn_raw.keras'\n",
        "#model.save(path_network + model_name)\n",
        "#path_network = 'drive/My Drive/Colab Notebooks/generator_letras/saved_network/'\n",
        "model_name = 'letras_generation_rnn_raw.h5'\n",
        "model.save(path_network + model_name, save_format='h5')"
      ]
    },
    {
      "cell_type": "markdown",
      "metadata": {
        "id": "xDqNn_w5tZHY"
      },
      "source": [
        "## Visualizando el progreso del entrenamiento"
      ]
    },
    {
      "cell_type": "markdown",
      "metadata": {
        "id": "M1edtVK4TOUE"
      },
      "source": [
        "Podemos ver la pérdida cómo evoluciona a través del entrenamiento. De hecho, el modelo converge."
      ]
    },
    {
      "cell_type": "code",
      "source": [
        "import os\n",
        "\n",
        "# Ruta a la carpeta deseada\n",
        "ruta_deseada = '/content/drive/My Drive/Colab Notebooks/generator_letras/saved_network/'\n",
        "\n",
        "# Cambiar el directorio de trabajo\n",
        "os.chdir(ruta_deseada)\n",
        "\n",
        "# Verificar el nuevo directorio de trabajo\n",
        "print(\"Nuevo directorio de trabajo:\", os.getcwd())"
      ],
      "metadata": {
        "colab": {
          "base_uri": "https://localhost:8080/"
        },
        "outputId": "767c694e-41f6-415c-9c33-b0b9024fe323",
        "id": "Ph2_ju29d9Dm"
      },
      "execution_count": null,
      "outputs": [
        {
          "output_type": "stream",
          "name": "stdout",
          "text": [
            "Nuevo directorio de trabajo: /content/drive/My Drive/Colab Notebooks/generator_letras/saved_network\n"
          ]
        }
      ]
    },
    {
      "cell_type": "code",
      "execution_count": null,
      "metadata": {
        "id": "w_MIyc6KsZyZ"
      },
      "outputs": [],
      "source": [
        "def render_training_history(training_history):\n",
        "    #loss = training_history.history['loss']\n",
        "    loss = training_history\n",
        "\n",
        "    plt.title('Loss')\n",
        "    plt.xlabel('Epoch')\n",
        "    plt.ylabel('Loss')\n",
        "    plt.plot(loss, label='Training set')\n",
        "    plt.tight_layout()\n",
        "    plt.legend()\n",
        "\n",
        "    plt.savefig('/content/drive/MyDrive/Colab Notebooks/generator_letras/saved_network/training_history.png')\n",
        "    plt.grid(linestyle='--', linewidth=1, alpha=0.5)\n",
        "    plt.show()\n",
        "\n",
        "#np.save(path_network + \"history_1.npy\", history.history['loss'])\n",
        "history = np.load(path_network + \"history_1.npy\")\n",
        "render_training_history(history)"
      ]
    },
    {
      "cell_type": "markdown",
      "source": [
        "![image.png](data:image/png;base64,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)"
      ],
      "metadata": {
        "id": "4Vsyru0P74qP"
      }
    },
    {
      "cell_type": "markdown",
      "source": [
        "De acuerdo con el gráfico, se puede observar que existe una convergencia para la pérdida de entrenamiento y validación."
      ],
      "metadata": {
        "id": "ymFmP94VNC2G"
      }
    },
    {
      "cell_type": "markdown",
      "metadata": {
        "id": "qBaFgF8pxrQQ"
      },
      "source": [
        "## Generador de letras de canciones"
      ]
    },
    {
      "cell_type": "markdown",
      "metadata": {
        "id": "X3leAu1iTVwX"
      },
      "source": [
        "Una vez entrenado el modelo, vamos a probar los resultados.\n",
        "\n",
        "Puesto que hemos guardado el modelo, podemos definirlo nuevamente y cargar o cambiar los pesos, ademàs podemos notar lo siguiente:\n",
        "\n",
        "\n",
        "\n",
        "*   Para cada carácter de entrada, la matriz `example_batch_predictions` contiene un vector de probabilidades de cuál podría ser el siguiente carácter.\n",
        "*   Si la probabilidad en la posición 15 en ese vector es, digamos, 0.3 y la probabilidad en la posición 25 es 0.8, significa que deberíamos elegir mejor el carácter con el índice 25 como siguiente carácter.\n",
        "*   Como queremos que nuestra red genere diferentes letras de canciones (incluso para la misma entrada), no podemos simplemente elegir el valor de probabilidad máxima, porque si lo hiciéramos así, terminaríamos con  la misma letras siempre, es decir, prediciendo la letra por la red una y otra vez. Por lo tanto, lo que haremos en su lugar, será extraer muestras de predicciones (como la impresa arriba) usando la función `tf.random.categorical()`, esto como consecuencia, traerá un poco de confusión a la red. Por ejemplo, supongamos que tenemos el carácter **L** como entrada, luego, al tomar muestras de la distribución categórica, nuestra red puede predecir no solo la palabra LETRA, sino también las palabras LORO y LAUREL, etc."
      ]
    },
    {
      "cell_type": "markdown",
      "metadata": {
        "id": "yuj6OOuryDRM"
      },
      "source": [
        "## Reinciar/restaurar el modelo"
      ]
    },
    {
      "cell_type": "markdown",
      "metadata": {
        "id": "_FYaiEU6YO4n"
      },
      "source": [
        "Para mantener este paso de predicción simple, restauraremos el modelo guardado y lo reconstruiremos con un tamaño de lote de 1. Debido a la forma en que el estado de la **RNN** se pasa de un paso de tiempo a otro, el modelo solo acepta un tamaño de lote fijo una vez construido. Para ejecutar el modelo con un tamaño de lote diferente, necesitamos reconstruir el modelo y restaurar los pesos desde el punto de control."
      ]
    },
    {
      "cell_type": "code",
      "source": [
        "path_network = '/content/drive/MyDrive/Colab Notebooks/generator_letras/saved_network/'"
      ],
      "metadata": {
        "id": "6HU8WA5wfrBB"
      },
      "execution_count": null,
      "outputs": []
    },
    {
      "cell_type": "code",
      "execution_count": null,
      "metadata": {
        "id": "8bCYUNo-yBPd"
      },
      "outputs": [],
      "source": [
        "tf.train.latest_checkpoint(checkpoint_dir)\n",
        "simplified_batch_size = 1\n",
        "\n",
        "rnn_units = 1024\n",
        "embedding_dim = 256\n",
        "\n",
        "\n",
        "model_simplified = build_model(VOCABULARY_SIZE, embedding_dim, rnn_units, simplified_batch_size)\n",
        "model_simplified.load_weights(path_network + model_name)\n",
        "model_simplified.build(tf.TensorShape([simplified_batch_size, None]))\n",
        "#model.save(path_network +'trained_model.h5', save_format='h5')\n",
        "model.save_weights(path_network +'weight_model.h5', save_format='h5')\n",
        "model_simplified.summary()"
      ]
    },
    {
      "cell_type": "markdown",
      "metadata": {
        "id": "goPP00qRYYZS"
      },
      "source": [
        "En el modelo se incluye **el parámetro de temperatura** éste define qué tan confusa o \"incoherente\" será la letra generada, esto fue inspirado y tomado del notebook que genera recetas de cocina (https://github.com/chef-transformer/chef-transformer).\n",
        "\n",
        "Los valores más pequeños de temperaturas dan como resultado un texto más predecible. Las temperaturas más altas dan como resultado un texto más exacto y coherente. Necesitamos experimentar para encontrar la mejor configuración. Haremos algunos experimentos con diferentes temperaturas a continuación."
      ]
    },
    {
      "cell_type": "markdown",
      "source": [
        "# **Generación de Letras de canciones**"
      ],
      "metadata": {
        "id": "0TVpWQb0JqyU"
      }
    },
    {
      "cell_type": "markdown",
      "source": [
        "Hasta acá hemos desarrollado el ejercicio utilizando letras y vocabularios en inglés, a continuación mostramos por fin nuestro generador de letras en inglés, líneas más abajo se encuentra el generado de letras en español, con todo su tratamiento."
      ],
      "metadata": {
        "id": "cCNp1VnfB_EG"
      }
    },
    {
      "cell_type": "markdown",
      "source": [
        "# **Generación de Letras inglés**"
      ],
      "metadata": {
        "id": "Zy9HEACeasnS"
      }
    },
    {
      "cell_type": "code",
      "execution_count": null,
      "metadata": {
        "id": "LCbPs3EPtbuh"
      },
      "outputs": [],
      "source": [
        "def generate_text(model, start_string, num_generate = 1000, temperature=1.0):\n",
        "# Paso de evaluación (generar texto usando el modelo aprendido)\n",
        "\n",
        "    #padded_start_string = STOP_WORD_TITLE + start_string\n",
        "    padded_start_string = start_string\n",
        "\n",
        "    # Convertir nuestra cadena inicial a números (vectorización).\n",
        "    input_indices = np.array(tokenizer.texts_to_sequences([padded_start_string]))\n",
        "\n",
        "    # Cadena vacía para almacenar nuestros resultados.\n",
        "    text_generated = []\n",
        "\n",
        "    # Tamaño Batch (size == 1).\n",
        "    model.reset_states()\n",
        "    for char_index in range(num_generate):\n",
        "        predictions = model(input_indices)\n",
        "        # Quitando las dimensiones batch\n",
        "        predictions = tf.squeeze(predictions, 0)\n",
        "\n",
        "        # Usar una distribución categórica para predecir el carácter devuelto por el modelo.\n",
        "        predictions = predictions / temperature\n",
        "        predicted_id = tf.random.categorical(\n",
        "            predictions,\n",
        "            num_samples=1\n",
        "        )[-1, 0].numpy()\n",
        "\n",
        "        # Pasamos el carácter predicho como la siguiente entrada al modelo.\n",
        "        # junto con el estado oculto anterior.\n",
        "        input_indices = tf.expand_dims([predicted_id], 0)\n",
        "\n",
        "        next_character = tokenizer.sequences_to_texts(input_indices.numpy())[0]\n",
        "\n",
        "        text_generated.append(next_character)\n",
        "\n",
        "    return (padded_start_string + ''.join(text_generated))"
      ]
    },
    {
      "cell_type": "code",
      "execution_count": null,
      "metadata": {
        "id": "H7GOFlf_xuz-"
      },
      "outputs": [],
      "source": [
        "def generate_combinations(model):\n",
        "    letras_length = 1000\n",
        "    try_letters = ['Love', 'Time']\n",
        "    try_temperature = [0.9, 1.0, 0.3]\n",
        "\n",
        "    for letter in try_letters:\n",
        "        for temperature in try_temperature:\n",
        "            generated_text = generate_text(\n",
        "                model,\n",
        "                start_string=letter,\n",
        "                num_generate = letras_length,\n",
        "                temperature=temperature\n",
        "            )\n",
        "            print(f'Attempt: \"{letter}\" + {temperature}')\n",
        "            print('-----------------------------------')\n",
        "            print(generated_text.replace(STOP_SIGN, \"\"))\n",
        "            print('\\n\\n')"
      ]
    },
    {
      "cell_type": "code",
      "execution_count": null,
      "metadata": {
        "id": "2Yfc5bxZxyP6"
      },
      "outputs": [],
      "source": [
        "generate_combinations(model_simplified)"
      ]
    },
    {
      "cell_type": "markdown",
      "source": [
        "\n",
        "\n",
        "```\n",
        "Attempt: \"LOVE\" + 0.9\n",
        "-----------------------------------\n",
        "STORMS\n",
        "\n",
        "\n",
        "Through the storms and the pouring rain,\n",
        "Love is the anchor that eases the pain.\n",
        "In laughter and tears, side by side,\n",
        "Love is the constant, our forever guide.\n",
        "\n",
        "\n",
        "Attempt: \"LOVE\" + 1.0\n",
        "-----------------------------------\n",
        "STARS OF LOVE\n",
        "\n",
        "\n",
        "In the moonlit night, under stars above,\n",
        "A melody of passion, it is the song of love.\n",
        "Whispers in the breeze, secrets to unfold,\n",
        "In the language of the heart, a story to be told.\n",
        "\n",
        "\n",
        "Love, oh sweet love, like a gentle dove,\n",
        "Soaring high on the wings of above.\n",
        "In every beat, in every rhyme,\n",
        "Love's the rhythm that stands the test of time.\n",
        "\n",
        "\n",
        "Painted skies with hues of red,\n",
        "The canvas of our love, forever spread.\n",
        "Hand in hand, we dance through the night,\n",
        "In the symphony of love, everything feels right.\n",
        "\n",
        "\n",
        "Love, oh sweet love, like a gentle dove,\n",
        "Soaring high on the wings of above.\n",
        "In every beat, in every rhyme,\n",
        "Love's the rhythm that stands the test of time.\n",
        "\n",
        "\n",
        "Attempt: \"LOVE\" + 0.3\n",
        "-----------------------------------\n",
        "MOONLIGHT GLOW\n",
        "\n",
        "\n",
        "Underneath the silver moonlight glow,\n",
        "Love is a melody that starts to grow.\n",
        "In the quiet whispers of the night,\n",
        "Our hearts entwined, feeling just right.\n",
        "\n",
        "\n",
        "Love, a flame that forever burns,\n",
        "In every twist, in every turn.\n",
        "Through the echoes of the stars above,\n",
        "We dancing to the rhythm of pure love.\n",
        "\n",
        "Like a gentle breeze on a summer day,\n",
        "Love sweeps our worries far away.\n",
        "Hand in hand, we face the unknown,\n",
        "In love is embrace, we've truly grown.\n",
        "\n",
        "\n",
        "Attempt: \"TIME\" + 0.9\n",
        "-----------------------------------\n",
        "CLIMB NOCTURNAL\n",
        "\n",
        "\n",
        "Moonlight serenades, a nocturnal rhyme,\n",
        "Stars shimmer above, in the vast design.\n",
        "In the silence, hear the hours chime,\n",
        "A timeless ballad, a celestial climb.\n",
        "\n",
        "\n",
        "\n",
        "Attempt: \"TIME\" + 1.0\n",
        "-----------------------------------\n",
        "TICKING CLOCK\n",
        "\n",
        "\n",
        "In the ticking of the clock, a rhythm so divine,\n",
        "Each second whispers stories, a melody through time.\n",
        "Sunsets and sunrises paint the canvas of the sky,\n",
        "A timeless symphony, where moments never die.\n",
        "\n",
        "\n",
        "Time, a gentle river flowing, Carries memories,\n",
        "Ever growing. With every heartbeat, a new rhyme,\n",
        "Dancing through the lyrics of this fleeting time.\n",
        "\n",
        "\n",
        "Seasons change, a waltz of colors in the air,\n",
        "Nature ballet, a dance so rare. Yesterday are echoes,\n",
        "a nostalgic chime, In the grand ballroom of this fleeting time.\n",
        "\n",
        "\n",
        "Time, a gentle river flowing, Carries memories,\n",
        "Ever growing. With every heartbeat, a new rhyme,\n",
        "Dancing through the lyrics of this fleeting time.\n",
        "\n",
        "\n",
        "\n",
        "Attempt: \"TIME\" + 0.3\n",
        "-----------------------------------\n",
        "SWEETEST WIND\n",
        "\n",
        "\n",
        "In the quiet moments of the night,\n",
        "A whisper of time, a soft delight.\n",
        "Silhouettes of memories, like a fragile rhyme,\n",
        "Painting the canvas of this fleeting time.\n",
        "\n",
        "\n",
        "Time, a gentle river, flowing free,\n",
        "Carrying tales of you and me.\n",
        "With every heartbeat, a rhythm so fine,\n",
        "Lost in the verses of this fleeting time.\n",
        "\n",
        "\n",
        "Footprints on the sands, echoes in the wind,\n",
        "The past and future in a dance, intertwined.\n",
        "Clocks may tick, but love's the sweetest chime,\n",
        "A melody echoing through the corridors of time.\n",
        "\n",
        "```\n"
      ],
      "metadata": {
        "id": "Mtz0Us7EAY-o"
      }
    },
    {
      "cell_type": "markdown",
      "source": [
        "## **Generador de letras en Español**"
      ],
      "metadata": {
        "id": "DqVd12zZoOYN"
      }
    },
    {
      "cell_type": "markdown",
      "source": [
        "Presentamos el generador de letras en español y el tratamiento desarrollado, para esto, se entrenó el conjunto de datos de canciones en español descargado de Kaggle, el cual contenía canciones en español, se entrenaron los datos utilizando el optimizador **Adadelta** el cual es una mejora a **Adagrad**, que busca reducir el decrecimiento monotónico del learning rate del que sufre éste debido a la naturaleza del cache, C, además utilizamos **GPT-2**, ambos importados de `Hugging Face`."
      ],
      "metadata": {
        "id": "A5i2d8TZKGvF"
      }
    },
    {
      "cell_type": "code",
      "source": [
        "# Informacion del modelo ------------------------------------------------------\\\n",
        "max_length = 1000 # Longitud maxima de los poemas\n",
        "modelo_gpt = \"DeepESP/gpt2-spanish\" # Modelo pre entrenado\n",
        "RANDOM_SEED = 2019 # Semilla"
      ],
      "metadata": {
        "id": "AFMbEu1BfIjg"
      },
      "execution_count": null,
      "outputs": []
    },
    {
      "cell_type": "code",
      "source": [
        "print(list(letras_esp_df['string'])[3])"
      ],
      "metadata": {
        "colab": {
          "base_uri": "https://localhost:8080/"
        },
        "id": "GHhpxHgrNyNy",
        "outputId": "4c38d1f3-07a1-473d-9e85-25d718547139"
      },
      "execution_count": null,
      "outputs": [
        {
          "output_type": "stream",
          "name": "stdout",
          "text": [
            "\n",
            "APUNTE INTERIOR\n",
            "\n",
            "\n",
            "Hoy mi vida no tiene peso alguno:\n",
            "es un viento, menos que un viento, menos\n",
            "que una raya de luz.\n",
            "                                       Ahora ninguno\n",
            "puede serme oneroso.\n",
            "                                                  No hay terrenos\n",
            "resquemores debajo de mi alma.\n",
            "\n",
            "Mi sangre es una roja armonía viva.\n",
            "Estoy en armonía con la brasa y la calma,\n",
            "con la voz amorosa y la voz vengativa.\n",
            "\n",
            "Parece que mis manos no existieran, parece\n",
            "que mi cuerpo nadara en un agua inocente.\n",
            "Como un viento desnudo de mi corazón se mece\n",
            "y hace sonar campanadas dulcemente.\n"
          ]
        }
      ]
    },
    {
      "cell_type": "markdown",
      "source": [
        "# **Generador de tokens**\n",
        "\n",
        "Este generador se realizó para el modelo `DeepESP/gpt2-Español`."
      ],
      "metadata": {
        "id": "_iekMTtPN8jB"
      }
    },
    {
      "cell_type": "code",
      "source": [
        "df = letras_esp_df['string'] # Datos\n",
        "# Tokenizador del modelo pre entrenado ----------------------------------------\\\n",
        "tokenizer = GPT2Tokenizer.from_pretrained(modelo_gpt)\n",
        "special_tokens_dict = {'bos_token': '<BOS>', 'eos_token': '<EOS>', 'pad_token': '<PAD>'}\n",
        "num_added_tokens = tokenizer.add_special_tokens(special_tokens_dict)"
      ],
      "metadata": {
        "colab": {
          "base_uri": "https://localhost:8080/",
          "height": 177,
          "referenced_widgets": [
            "5bef1fbaf6924a4cb0f33694ba3c0ce3",
            "b5b2d036ad334d6487cb4b6e150805ed",
            "fe4c3e62fdc54d0d9e0cd0c3880013fc",
            "20178efd979f411cba9ab1d32999ffac",
            "060ed4fe0ce345d1ae5050953b4f5ef2",
            "6abfc39ee7f2457680bbe67b27e75ec0",
            "f0b646e41ab146f595b071c2b7961967",
            "288ee817e7fe40deb0ed2f9616cb0a5d",
            "e4fd58be2d8c43cab2a80f5836d85804",
            "51872c077b6e47b185a715e7ee577017",
            "8b704c70d42e4342980b50ad676f2756",
            "ac583a738dca4906ac9e29b15d6a4e81",
            "a590fa95255d42b1b687690cc8041bdc",
            "cfe4b97f19454e34879e794e1d98fc45",
            "950b098bc9154559bf2d87715dc1167c",
            "fec62d14bcbe4c5a8c633f6031ebc816",
            "e0c33692904b43c7a25fc419bfa7d285",
            "709c3c24a0e34964bae3997facf2dda8",
            "7a8cb8331d6c4bd98ee167e2a84d6036",
            "cf1223d354bc43578035987bd397a4f2",
            "3af1b5cccb1e4b1e9d444c17a1f02279",
            "0ee9e1be4be744439fda69a1280d50ed",
            "1cbd38e5309c4bd180ec96de0b42ab80",
            "f83276f87dec4a5fbb7a897b35eba52c",
            "f91338c673fe41d5954e9219f5a30b7f",
            "5961455a061d4037857d947197d30fd8",
            "557c9c26a8a34807a189a6e7e83caafa",
            "1deddbc711de4184ae27dbc49d62c042",
            "59e53ccc29884954924751a976641a79",
            "16358d687e414522be2fcbdea24004a9",
            "fdfd17b61ced464cb617deb9fe31c41b",
            "370241a951764b7c8b4269563bccfd59",
            "ba061336be4b43379ce3bdf5108acb16",
            "21f1d304bac5413ba0ca383a9e5a2a2f",
            "33bda293bac140baa6ff537629d5d36b",
            "07a0ba9df3e7494f9641ecc643f61573",
            "d440184d93ca44529c876ca123655466",
            "f0a0f7f4c9294c80a8f350f08ac06a17",
            "218b936948b042e6af0dbdb195747f67",
            "59d0d1a4c0924f52894a981ae5c9730b",
            "499128d4aca0447395862d310af512e6",
            "a10e7fb6bc824be687adceb0ada868b3",
            "5a617fdc46224a539a64ea36d3f270d1",
            "cc78be5cd9664b2998486312cb2fe760",
            "fcc9923b32f04a31857165081d8b7c94",
            "548e3a4ef7634ede816a44d900aceb90",
            "352b967ee9e849acab7f16cc1461d800",
            "28a82ccd2f9745aba666d4ba411bd2ea",
            "a5c59d4fdf16404e921bf8fa68484f52",
            "47ab828983be4997ac0443076ff36e0a",
            "50d52cfff43f427d8ec8265ed24cfb96",
            "7b147cb19b8c4e2fb4c65b11ec084097",
            "8a57a013f0a2482fad28a2fb59dcfd30",
            "a9e8cdfd10684509a18fe6d58140777b",
            "3a6c6df96eb44bf4a1e6b18e2cbcf733"
          ]
        },
        "id": "uE3wRmL2N2RB",
        "outputId": "61ff2ea2-92b8-4ea1-c28b-d026c8ba98e9"
      },
      "execution_count": null,
      "outputs": [
        {
          "output_type": "display_data",
          "data": {
            "text/plain": [
              "Downloading (…)okenizer_config.json:   0%|          | 0.00/115 [00:00<?, ?B/s]"
            ],
            "application/vnd.jupyter.widget-view+json": {
              "version_major": 2,
              "version_minor": 0,
              "model_id": "5bef1fbaf6924a4cb0f33694ba3c0ce3"
            }
          },
          "metadata": {}
        },
        {
          "output_type": "display_data",
          "data": {
            "text/plain": [
              "Downloading (…)olve/main/vocab.json:   0%|          | 0.00/840k [00:00<?, ?B/s]"
            ],
            "application/vnd.jupyter.widget-view+json": {
              "version_major": 2,
              "version_minor": 0,
              "model_id": "ac583a738dca4906ac9e29b15d6a4e81"
            }
          },
          "metadata": {}
        },
        {
          "output_type": "display_data",
          "data": {
            "text/plain": [
              "Downloading (…)olve/main/merges.txt:   0%|          | 0.00/499k [00:00<?, ?B/s]"
            ],
            "application/vnd.jupyter.widget-view+json": {
              "version_major": 2,
              "version_minor": 0,
              "model_id": "1cbd38e5309c4bd180ec96de0b42ab80"
            }
          },
          "metadata": {}
        },
        {
          "output_type": "display_data",
          "data": {
            "text/plain": [
              "Downloading (…)cial_tokens_map.json:   0%|          | 0.00/262 [00:00<?, ?B/s]"
            ],
            "application/vnd.jupyter.widget-view+json": {
              "version_major": 2,
              "version_minor": 0,
              "model_id": "21f1d304bac5413ba0ca383a9e5a2a2f"
            }
          },
          "metadata": {}
        },
        {
          "output_type": "display_data",
          "data": {
            "text/plain": [
              "Downloading (…)lve/main/config.json:   0%|          | 0.00/914 [00:00<?, ?B/s]"
            ],
            "application/vnd.jupyter.widget-view+json": {
              "version_major": 2,
              "version_minor": 0,
              "model_id": "fcc9923b32f04a31857165081d8b7c94"
            }
          },
          "metadata": {}
        }
      ]
    },
    {
      "cell_type": "code",
      "source": [
        "# Tokenizador del modelo ------------------------------------------------------\\\n",
        "class DataTokens(Dataset):\n",
        "  def __init__(self, data, tokenizer, gpt2_type=\"gpt2\", max_length=max_length):\n",
        "    self.tokenizer = tokenizer\n",
        "    self.input_ids = []\n",
        "    self.attn_masks = []\n",
        "    for row in data:\n",
        "      self.encodings_dict = self.tokenizer('<BOS>' + row + '<EOS>', padding=\"max_length\", truncation=True, max_length=max_length)\n",
        "      self.input_ids.append(torch.tensor(self.encodings_dict['input_ids']))\n",
        "      self.attn_masks.append(torch.tensor(self.encodings_dict['attention_mask']))\n",
        "  def __len__(self):\n",
        "    return len(self.input_ids)\n",
        "  def __getitem__(self, idx):\n",
        "    return self.input_ids[idx], self.attn_masks[idx]\n",
        "# Clase de los datos ----------------------------------------------------------\\\n",
        "class DataModule():\n",
        "  # Definimos un tamaño de lote en la clase\n",
        "  def __init__(self, dataset, tokenizer, gpt2_type=\"gpt2\", p = 0.8):\n",
        "      super(DataModule,self).__init__()\n",
        "      self.dataset = dataset\n",
        "      self.tokenizer = tokenizer\n",
        "      self.p = p\n",
        "      self.gpt2_type = gpt2_type\n",
        "  # Definimos el tratamiento de los datos\n",
        "  def train_val_split(self, split, dataset):\n",
        "    train_size = int(split * len(dataset))\n",
        "    val_size = len(dataset) - train_size\n",
        "    return train_size, val_size\n",
        "  def setup(self, stage=None):\n",
        "    self.dataset = DataTokens(self.dataset, self.tokenizer, gpt2_type=self.gpt2_type)\n",
        "    train_size, val_size = self.train_val_split(self.p, self.dataset)\n",
        "    self.train_dataset, self.val_dataset = random_split(self.dataset, [train_size, val_size])\n",
        "  # Iterable de entrenamiento\n",
        "  def train_dataloader(self, batch_size = 32):\n",
        "      return torch.utils.data.DataLoader(self.train_dataset, batch_size=batch_size)\n",
        "  # Iterable de validacion\n",
        "  def val_dataloader(self, batch_size = 32):\n",
        "      return torch.utils.data.DataLoader(self.val_dataset, batch_size=batch_size)"
      ],
      "metadata": {
        "id": "e5qhYHWLN7Mi"
      },
      "execution_count": null,
      "outputs": []
    },
    {
      "cell_type": "markdown",
      "source": [
        "# **Reentrenamiento del modelo**\n",
        "\n",
        "Mostramos el reentrenamiento para el modelo `DeepESP/gpt2 - Español`."
      ],
      "metadata": {
        "id": "QTBiH7jzOKRU"
      }
    },
    {
      "cell_type": "code",
      "source": [
        "# Fijar semillas --------------------------------------------------------------\\\n",
        "torch.cuda.manual_seed_all(RANDOM_SEED)\n",
        "random.seed(RANDOM_SEED)\n",
        "np.random.seed(RANDOM_SEED)\n",
        "torch.manual_seed(RANDOM_SEED)"
      ],
      "metadata": {
        "colab": {
          "base_uri": "https://localhost:8080/"
        },
        "id": "bqyOr09VOF2s",
        "outputId": "540e68c7-05c9-4a2e-ab0d-ff0c5bb3e7ff"
      },
      "execution_count": null,
      "outputs": [
        {
          "output_type": "execute_result",
          "data": {
            "text/plain": [
              "<torch._C.Generator at 0x79fb57ad89b0>"
            ]
          },
          "metadata": {},
          "execution_count": 16
        }
      ]
    },
    {
      "cell_type": "code",
      "source": [
        "# Acumulación de lotes\n",
        "def pack_tensor(new_tensor, packed_tensor, max_seq_len):\n",
        "    if packed_tensor is None:\n",
        "        return new_tensor, True, None\n",
        "    if new_tensor[0].size()[1] + packed_tensor[0].size()[1] > max_seq_len:\n",
        "        return packed_tensor, False, new_tensor\n",
        "    else:\n",
        "        packed_tensor = [torch.cat([new_tensor[0], packed_tensor[0][:, 1:]], dim=1)\n",
        "          ,torch.cat([new_tensor[1], packed_tensor[1][:, 1:]], dim=1)]\n",
        "        return packed_tensor, True, None\n",
        "# Entrenamiento del modelo ----------------------------------------------------\\\n",
        "class Trainer_poet():\n",
        "    def __init__(self, dataset, model, batch_size=16, epochs=5, learning_rate = 1e-4, eps = 1e-8, warmup_steps=50):\n",
        "      # DataLoaders\n",
        "      self.data_loader = dataset\n",
        "      self.data_loader.setup()\n",
        "      self.train_dataloader = self.data_loader.train_dataloader(batch_size = 1)\n",
        "      self.val_dataloader = self.data_loader.val_dataloader(batch_size = 1)\n",
        "      # Modelo\n",
        "      self.model = model\n",
        "      self.batch_size = batch_size\n",
        "      self.epochs = epochs\n",
        "      self.optimizer = AdamW(model.parameters(), lr=learning_rate, eps=eps)\n",
        "      total_steps = len(self.train_dataloader) * epochs\n",
        "      self.scheduler = get_linear_schedule_with_warmup(optimizer=self.optimizer,num_warmup_steps=warmup_steps,num_training_steps=total_steps)\n",
        "    def train(self):\n",
        "      device = torch.device('cuda') if torch.cuda.is_available() else torch.device('cpu')\n",
        "      model = self.model\n",
        "      optimizer =  self.optimizer\n",
        "      scheduler = self.scheduler\n",
        "      model.to(device)\n",
        "      model.train()\n",
        "      start_time = time.time()\n",
        "      training_stats = []\n",
        "      # Entrenamiento\n",
        "      print('Inicio entrenamiento ....')\n",
        "      train_dataloader = self.train_dataloader\n",
        "      val_dataloader = self.val_dataloader\n",
        "      for epoch_i in range(self.epochs):\n",
        "        print(f'Epoch {epoch_i + 1} de {self.epochs}')\n",
        "        t0 = time.time()\n",
        "        total_train_loss = 0\n",
        "        input_tensor = None\n",
        "        accumulating_batch_count = 0\n",
        "        for step, batch in enumerate(train_dataloader):\n",
        "          (input_tensor, carry_on, remainder) = pack_tensor(batch, input_tensor, 768)\n",
        "          if carry_on and step != len(train_dataloader) - 1: continue\n",
        "\n",
        "          b_input_ids = input_tensor[0].to(device)\n",
        "          b_masks = input_tensor[1].to(device)\n",
        "          input_tensor = [b_input_ids, b_masks]\n",
        "          outputs = model(b_input_ids,labels=b_input_ids,attention_mask=b_masks)\n",
        "          loss = outputs[0]\n",
        "          loss.backward()\n",
        "          if (accumulating_batch_count % self.batch_size) == 0:\n",
        "            batch_loss = loss.item()\n",
        "            total_train_loss += batch_loss\n",
        "            optimizer.step()\n",
        "            scheduler.step()\n",
        "            optimizer.zero_grad()\n",
        "            model.zero_grad()\n",
        "          accumulating_batch_count += 1\n",
        "          input_tensor = None\n",
        "        avg_train_loss = total_train_loss / len(train_dataloader)\n",
        "        training_time = format_time(time.time() - t0)\n",
        "        print(f'Average Training Loss: {avg_train_loss}. Epoch Training Time: {training_time}')\n",
        "        # Validación\n",
        "        t0 = time.time()\n",
        "        model.eval()\n",
        "        total_eval_loss = 0\n",
        "        nb_eval_steps = 0\n",
        "        for batch in val_dataloader:\n",
        "          b_input_ids = batch[0].to(device)\n",
        "          b_masks = batch[1].to(device)\n",
        "          with torch.no_grad():\n",
        "            outputs  = model(b_input_ids,attention_mask=b_masks,labels=b_input_ids)\n",
        "            loss = outputs[0]\n",
        "          batch_loss = loss.item()\n",
        "          total_eval_loss += batch_loss\n",
        "        avg_val_loss = total_eval_loss / len(val_dataloader)\n",
        "        validation_time = format_time(time.time() - t0)\n",
        "        print(f'Average Validation Loss: {avg_val_loss}')\n",
        "        # Guardar estadísticas\n",
        "        training_stats.append(\n",
        "            {\n",
        "              'epoch': epoch_i + 1,\n",
        "              'Training Loss': avg_train_loss,\n",
        "              'Valid. Loss': avg_val_loss,\n",
        "              'Training Time': training_time,\n",
        "              'Validation Time': validation_time\n",
        "             }\n",
        "          )\n",
        "      self.training_stats = training_stats\n",
        "      self.model = model\n",
        "      print(f'Total Training Time: {format_time(time.time()-start_time)}')\n",
        "      return model"
      ],
      "metadata": {
        "id": "KdK6cJGnOJHU"
      },
      "execution_count": null,
      "outputs": []
    },
    {
      "cell_type": "code",
      "source": [
        "configuration = GPT2Config(vocab_size=len(tokenizer), n_positions=max_length).from_pretrained(modelo_gpt, output_hidden_states=True)\n",
        "model_gpt2_esp = GPT2LMHeadModel.from_pretrained(modelo_gpt, config=configuration)\n",
        "model_gpt2_esp.resize_token_embeddings(len(tokenizer))\n",
        "\n",
        "Dataset = DataModule(df, tokenizer, gpt2_type=modelo_gpt)\n",
        "Trainer_model = Trainer_poet(Dataset, model_gpt2_esp, epochs=15, batch_size=32)"
      ],
      "metadata": {
        "colab": {
          "base_uri": "https://localhost:8080/",
          "height": 104,
          "referenced_widgets": [
            "d464ca04c23c4e83880ada0efa1c2b9b",
            "e05e9ba7963e48929558142e73c5cb7a",
            "9bb579109c0f4eca938b5cf713700469",
            "399cca10f8d54a1885eb59140ae3bc66",
            "776b3192fa6e47d298fdc1a541f63dd8",
            "ab05204a89654ff0be788d0d6ba84c9a",
            "55f95ced5d9f477f8bf60a4dc4cae1ae",
            "636ebf2160d54dcbb9efb0dcd7b89ba1",
            "ea8fea21ba944b7992550fc6ca4e1a27",
            "8912a408d8ec4212866806b61fcaf46c",
            "1ee77cada3434d59916bd5fec5c3c44c"
          ]
        },
        "id": "6hQj2-v7OSlf",
        "outputId": "dc1f1c19-2f9d-4d61-e24a-c613c6500727"
      },
      "execution_count": null,
      "outputs": [
        {
          "output_type": "display_data",
          "data": {
            "text/plain": [
              "Downloading pytorch_model.bin:   0%|          | 0.00/261M [00:00<?, ?B/s]"
            ],
            "application/vnd.jupyter.widget-view+json": {
              "version_major": 2,
              "version_minor": 0,
              "model_id": "d464ca04c23c4e83880ada0efa1c2b9b"
            }
          },
          "metadata": {}
        },
        {
          "output_type": "stream",
          "name": "stderr",
          "text": [
            "/usr/local/lib/python3.10/dist-packages/transformers/optimization.py:411: FutureWarning: This implementation of AdamW is deprecated and will be removed in a future version. Use the PyTorch implementation torch.optim.AdamW instead, or set `no_deprecation_warning=True` to disable this warning\n",
            "  warnings.warn(\n"
          ]
        }
      ]
    },
    {
      "cell_type": "code",
      "source": [
        "model = Trainer_model.train()\n",
        "torch.save(model, 'modelo_gpt2_letras.pt')"
      ],
      "metadata": {
        "colab": {
          "base_uri": "https://localhost:8080/"
        },
        "id": "JJ8Fa82mOVdC",
        "outputId": "ea78a60d-d3ce-4c8a-e2b0-72997329db08"
      },
      "execution_count": null,
      "outputs": [
        {
          "output_type": "stream",
          "name": "stdout",
          "text": [
            "Inicio entrenamiento ....\n",
            "Epoch 1 de 15\n",
            "Average Training Loss: 0.03805895720637554. Epoch Training Time: 0:08:21\n",
            "Average Validation Loss: 0.670541517235993\n",
            "Epoch 2 de 15\n",
            "Average Training Loss: 0.01002149633197879. Epoch Training Time: 0:08:02\n",
            "Average Validation Loss: 0.6155510512800628\n",
            "Epoch 3 de 15\n",
            "Average Training Loss: 0.009405404144618396. Epoch Training Time: 0:08:03\n",
            "Average Validation Loss: 0.6017429699577792\n",
            "Epoch 4 de 15\n",
            "Average Training Loss: 0.009058128709960254. Epoch Training Time: 0:08:01\n",
            "Average Validation Loss: 0.5960586443860031\n",
            "Epoch 5 de 15\n",
            "Average Training Loss: 0.008778137289430872. Epoch Training Time: 0:08:02\n",
            "Average Validation Loss: 0.5933551928582509\n",
            "Epoch 6 de 15\n",
            "Average Training Loss: 0.008516633424053111. Epoch Training Time: 0:08:04\n",
            "Average Validation Loss: 0.5923467134956598\n",
            "Epoch 7 de 15\n",
            "Average Training Loss: 0.008257856771940887. Epoch Training Time: 0:08:03\n",
            "Average Validation Loss: 0.5926220466939485\n",
            "Epoch 8 de 15\n",
            "Average Training Loss: 0.007993576082561914. Epoch Training Time: 0:08:02\n",
            "Average Validation Loss: 0.5940294601023197\n",
            "Epoch 9 de 15\n",
            "Average Training Loss: 0.007718566718060133. Epoch Training Time: 0:08:03\n",
            "Average Validation Loss: 0.5964882828337443\n",
            "Epoch 10 de 15\n",
            "Average Training Loss: 0.0074272655932069165. Epoch Training Time: 0:08:03\n",
            "Average Validation Loss: 0.5998953709078072\n",
            "Epoch 11 de 15\n",
            "Average Training Loss: 0.007115689145860186. Epoch Training Time: 0:08:02\n",
            "Average Validation Loss: 0.6041806048209708\n",
            "Epoch 12 de 15\n",
            "Average Training Loss: 0.0067803977431977434. Epoch Training Time: 0:08:03\n",
            "Average Validation Loss: 0.6094912053442035\n",
            "Epoch 13 de 15\n",
            "Average Training Loss: 0.00642126712357103. Epoch Training Time: 0:08:04\n",
            "Average Validation Loss: 0.6160638955218596\n",
            "Epoch 14 de 15\n",
            "Average Training Loss: 0.0060355942907397535. Epoch Training Time: 0:08:05\n",
            "Average Validation Loss: 0.6239707221939274\n",
            "Epoch 15 de 15\n",
            "Average Training Loss: 0.005616003673829708. Epoch Training Time: 0:08:05\n",
            "Average Validation Loss: 0.6334374261064925\n",
            "Total Training Time: 2:21:47\n"
          ]
        }
      ]
    },
    {
      "cell_type": "code",
      "source": [
        "df_stats = pd.DataFrame(data=Trainer_model.training_stats)\n",
        "df_stats"
      ],
      "metadata": {
        "colab": {
          "base_uri": "https://localhost:8080/",
          "height": 519
        },
        "id": "OHMkXJ10OdLj",
        "outputId": "89e528e1-2eeb-4562-9a2f-1d6d5bd17bf4"
      },
      "execution_count": null,
      "outputs": [
        {
          "output_type": "execute_result",
          "data": {
            "text/plain": [
              "    epoch  Training Loss  Valid. Loss Training Time Validation Time\n",
              "0       1       0.038059     0.670542       0:08:21         0:01:23\n",
              "1       2       0.010021     0.615551       0:08:02         0:01:23\n",
              "2       3       0.009405     0.601743       0:08:03         0:01:23\n",
              "3       4       0.009058     0.596059       0:08:01         0:01:23\n",
              "4       5       0.008778     0.593355       0:08:02         0:01:23\n",
              "5       6       0.008517     0.592347       0:08:04         0:01:23\n",
              "6       7       0.008258     0.592622       0:08:03         0:01:23\n",
              "7       8       0.007994     0.594029       0:08:02         0:01:23\n",
              "8       9       0.007719     0.596488       0:08:03         0:01:23\n",
              "9      10       0.007427     0.599895       0:08:03         0:01:23\n",
              "10     11       0.007116     0.604181       0:08:02         0:01:23\n",
              "11     12       0.006780     0.609491       0:08:03         0:01:23\n",
              "12     13       0.006421     0.616064       0:08:04         0:01:23\n",
              "13     14       0.006036     0.623971       0:08:05         0:01:23\n",
              "14     15       0.005616     0.633437       0:08:05         0:01:23"
            ],
            "text/html": [
              "\n",
              "  <div id=\"df-ae513cc0-7c05-418e-8a0e-cc435898cc57\" class=\"colab-df-container\">\n",
              "    <div>\n",
              "<style scoped>\n",
              "    .dataframe tbody tr th:only-of-type {\n",
              "        vertical-align: middle;\n",
              "    }\n",
              "\n",
              "    .dataframe tbody tr th {\n",
              "        vertical-align: top;\n",
              "    }\n",
              "\n",
              "    .dataframe thead th {\n",
              "        text-align: right;\n",
              "    }\n",
              "</style>\n",
              "<table border=\"1\" class=\"dataframe\">\n",
              "  <thead>\n",
              "    <tr style=\"text-align: right;\">\n",
              "      <th></th>\n",
              "      <th>epoch</th>\n",
              "      <th>Training Loss</th>\n",
              "      <th>Valid. Loss</th>\n",
              "      <th>Training Time</th>\n",
              "      <th>Validation Time</th>\n",
              "    </tr>\n",
              "  </thead>\n",
              "  <tbody>\n",
              "    <tr>\n",
              "      <th>0</th>\n",
              "      <td>1</td>\n",
              "      <td>0.038059</td>\n",
              "      <td>0.670542</td>\n",
              "      <td>0:08:21</td>\n",
              "      <td>0:01:23</td>\n",
              "    </tr>\n",
              "    <tr>\n",
              "      <th>1</th>\n",
              "      <td>2</td>\n",
              "      <td>0.010021</td>\n",
              "      <td>0.615551</td>\n",
              "      <td>0:08:02</td>\n",
              "      <td>0:01:23</td>\n",
              "    </tr>\n",
              "    <tr>\n",
              "      <th>2</th>\n",
              "      <td>3</td>\n",
              "      <td>0.009405</td>\n",
              "      <td>0.601743</td>\n",
              "      <td>0:08:03</td>\n",
              "      <td>0:01:23</td>\n",
              "    </tr>\n",
              "    <tr>\n",
              "      <th>3</th>\n",
              "      <td>4</td>\n",
              "      <td>0.009058</td>\n",
              "      <td>0.596059</td>\n",
              "      <td>0:08:01</td>\n",
              "      <td>0:01:23</td>\n",
              "    </tr>\n",
              "    <tr>\n",
              "      <th>4</th>\n",
              "      <td>5</td>\n",
              "      <td>0.008778</td>\n",
              "      <td>0.593355</td>\n",
              "      <td>0:08:02</td>\n",
              "      <td>0:01:23</td>\n",
              "    </tr>\n",
              "    <tr>\n",
              "      <th>5</th>\n",
              "      <td>6</td>\n",
              "      <td>0.008517</td>\n",
              "      <td>0.592347</td>\n",
              "      <td>0:08:04</td>\n",
              "      <td>0:01:23</td>\n",
              "    </tr>\n",
              "    <tr>\n",
              "      <th>6</th>\n",
              "      <td>7</td>\n",
              "      <td>0.008258</td>\n",
              "      <td>0.592622</td>\n",
              "      <td>0:08:03</td>\n",
              "      <td>0:01:23</td>\n",
              "    </tr>\n",
              "    <tr>\n",
              "      <th>7</th>\n",
              "      <td>8</td>\n",
              "      <td>0.007994</td>\n",
              "      <td>0.594029</td>\n",
              "      <td>0:08:02</td>\n",
              "      <td>0:01:23</td>\n",
              "    </tr>\n",
              "    <tr>\n",
              "      <th>8</th>\n",
              "      <td>9</td>\n",
              "      <td>0.007719</td>\n",
              "      <td>0.596488</td>\n",
              "      <td>0:08:03</td>\n",
              "      <td>0:01:23</td>\n",
              "    </tr>\n",
              "    <tr>\n",
              "      <th>9</th>\n",
              "      <td>10</td>\n",
              "      <td>0.007427</td>\n",
              "      <td>0.599895</td>\n",
              "      <td>0:08:03</td>\n",
              "      <td>0:01:23</td>\n",
              "    </tr>\n",
              "    <tr>\n",
              "      <th>10</th>\n",
              "      <td>11</td>\n",
              "      <td>0.007116</td>\n",
              "      <td>0.604181</td>\n",
              "      <td>0:08:02</td>\n",
              "      <td>0:01:23</td>\n",
              "    </tr>\n",
              "    <tr>\n",
              "      <th>11</th>\n",
              "      <td>12</td>\n",
              "      <td>0.006780</td>\n",
              "      <td>0.609491</td>\n",
              "      <td>0:08:03</td>\n",
              "      <td>0:01:23</td>\n",
              "    </tr>\n",
              "    <tr>\n",
              "      <th>12</th>\n",
              "      <td>13</td>\n",
              "      <td>0.006421</td>\n",
              "      <td>0.616064</td>\n",
              "      <td>0:08:04</td>\n",
              "      <td>0:01:23</td>\n",
              "    </tr>\n",
              "    <tr>\n",
              "      <th>13</th>\n",
              "      <td>14</td>\n",
              "      <td>0.006036</td>\n",
              "      <td>0.623971</td>\n",
              "      <td>0:08:05</td>\n",
              "      <td>0:01:23</td>\n",
              "    </tr>\n",
              "    <tr>\n",
              "      <th>14</th>\n",
              "      <td>15</td>\n",
              "      <td>0.005616</td>\n",
              "      <td>0.633437</td>\n",
              "      <td>0:08:05</td>\n",
              "      <td>0:01:23</td>\n",
              "    </tr>\n",
              "  </tbody>\n",
              "</table>\n",
              "</div>\n",
              "    <div class=\"colab-df-buttons\">\n",
              "\n",
              "  <div class=\"colab-df-container\">\n",
              "    <button class=\"colab-df-convert\" onclick=\"convertToInteractive('df-ae513cc0-7c05-418e-8a0e-cc435898cc57')\"\n",
              "            title=\"Convert this dataframe to an interactive table.\"\n",
              "            style=\"display:none;\">\n",
              "\n",
              "  <svg xmlns=\"http://www.w3.org/2000/svg\" height=\"24px\" viewBox=\"0 -960 960 960\">\n",
              "    <path d=\"M120-120v-720h720v720H120Zm60-500h600v-160H180v160Zm220 220h160v-160H400v160Zm0 220h160v-160H400v160ZM180-400h160v-160H180v160Zm440 0h160v-160H620v160ZM180-180h160v-160H180v160Zm440 0h160v-160H620v160Z\"/>\n",
              "  </svg>\n",
              "    </button>\n",
              "\n",
              "  <style>\n",
              "    .colab-df-container {\n",
              "      display:flex;\n",
              "      gap: 12px;\n",
              "    }\n",
              "\n",
              "    .colab-df-convert {\n",
              "      background-color: #E8F0FE;\n",
              "      border: none;\n",
              "      border-radius: 50%;\n",
              "      cursor: pointer;\n",
              "      display: none;\n",
              "      fill: #1967D2;\n",
              "      height: 32px;\n",
              "      padding: 0 0 0 0;\n",
              "      width: 32px;\n",
              "    }\n",
              "\n",
              "    .colab-df-convert:hover {\n",
              "      background-color: #E2EBFA;\n",
              "      box-shadow: 0px 1px 2px rgba(60, 64, 67, 0.3), 0px 1px 3px 1px rgba(60, 64, 67, 0.15);\n",
              "      fill: #174EA6;\n",
              "    }\n",
              "\n",
              "    .colab-df-buttons div {\n",
              "      margin-bottom: 4px;\n",
              "    }\n",
              "\n",
              "    [theme=dark] .colab-df-convert {\n",
              "      background-color: #3B4455;\n",
              "      fill: #D2E3FC;\n",
              "    }\n",
              "\n",
              "    [theme=dark] .colab-df-convert:hover {\n",
              "      background-color: #434B5C;\n",
              "      box-shadow: 0px 1px 3px 1px rgba(0, 0, 0, 0.15);\n",
              "      filter: drop-shadow(0px 1px 2px rgba(0, 0, 0, 0.3));\n",
              "      fill: #FFFFFF;\n",
              "    }\n",
              "  </style>\n",
              "\n",
              "    <script>\n",
              "      const buttonEl =\n",
              "        document.querySelector('#df-ae513cc0-7c05-418e-8a0e-cc435898cc57 button.colab-df-convert');\n",
              "      buttonEl.style.display =\n",
              "        google.colab.kernel.accessAllowed ? 'block' : 'none';\n",
              "\n",
              "      async function convertToInteractive(key) {\n",
              "        const element = document.querySelector('#df-ae513cc0-7c05-418e-8a0e-cc435898cc57');\n",
              "        const dataTable =\n",
              "          await google.colab.kernel.invokeFunction('convertToInteractive',\n",
              "                                                    [key], {});\n",
              "        if (!dataTable) return;\n",
              "\n",
              "        const docLinkHtml = 'Like what you see? Visit the ' +\n",
              "          '<a target=\"_blank\" href=https://colab.research.google.com/notebooks/data_table.ipynb>data table notebook</a>'\n",
              "          + ' to learn more about interactive tables.';\n",
              "        element.innerHTML = '';\n",
              "        dataTable['output_type'] = 'display_data';\n",
              "        await google.colab.output.renderOutput(dataTable, element);\n",
              "        const docLink = document.createElement('div');\n",
              "        docLink.innerHTML = docLinkHtml;\n",
              "        element.appendChild(docLink);\n",
              "      }\n",
              "    </script>\n",
              "  </div>\n",
              "\n",
              "\n",
              "<div id=\"df-4005c787-267d-474c-a424-97b18e9199b4\">\n",
              "  <button class=\"colab-df-quickchart\" onclick=\"quickchart('df-4005c787-267d-474c-a424-97b18e9199b4')\"\n",
              "            title=\"Suggest charts\"\n",
              "            style=\"display:none;\">\n",
              "\n",
              "<svg xmlns=\"http://www.w3.org/2000/svg\" height=\"24px\"viewBox=\"0 0 24 24\"\n",
              "     width=\"24px\">\n",
              "    <g>\n",
              "        <path d=\"M19 3H5c-1.1 0-2 .9-2 2v14c0 1.1.9 2 2 2h14c1.1 0 2-.9 2-2V5c0-1.1-.9-2-2-2zM9 17H7v-7h2v7zm4 0h-2V7h2v10zm4 0h-2v-4h2v4z\"/>\n",
              "    </g>\n",
              "</svg>\n",
              "  </button>\n",
              "\n",
              "<style>\n",
              "  .colab-df-quickchart {\n",
              "      --bg-color: #E8F0FE;\n",
              "      --fill-color: #1967D2;\n",
              "      --hover-bg-color: #E2EBFA;\n",
              "      --hover-fill-color: #174EA6;\n",
              "      --disabled-fill-color: #AAA;\n",
              "      --disabled-bg-color: #DDD;\n",
              "  }\n",
              "\n",
              "  [theme=dark] .colab-df-quickchart {\n",
              "      --bg-color: #3B4455;\n",
              "      --fill-color: #D2E3FC;\n",
              "      --hover-bg-color: #434B5C;\n",
              "      --hover-fill-color: #FFFFFF;\n",
              "      --disabled-bg-color: #3B4455;\n",
              "      --disabled-fill-color: #666;\n",
              "  }\n",
              "\n",
              "  .colab-df-quickchart {\n",
              "    background-color: var(--bg-color);\n",
              "    border: none;\n",
              "    border-radius: 50%;\n",
              "    cursor: pointer;\n",
              "    display: none;\n",
              "    fill: var(--fill-color);\n",
              "    height: 32px;\n",
              "    padding: 0;\n",
              "    width: 32px;\n",
              "  }\n",
              "\n",
              "  .colab-df-quickchart:hover {\n",
              "    background-color: var(--hover-bg-color);\n",
              "    box-shadow: 0 1px 2px rgba(60, 64, 67, 0.3), 0 1px 3px 1px rgba(60, 64, 67, 0.15);\n",
              "    fill: var(--button-hover-fill-color);\n",
              "  }\n",
              "\n",
              "  .colab-df-quickchart-complete:disabled,\n",
              "  .colab-df-quickchart-complete:disabled:hover {\n",
              "    background-color: var(--disabled-bg-color);\n",
              "    fill: var(--disabled-fill-color);\n",
              "    box-shadow: none;\n",
              "  }\n",
              "\n",
              "  .colab-df-spinner {\n",
              "    border: 2px solid var(--fill-color);\n",
              "    border-color: transparent;\n",
              "    border-bottom-color: var(--fill-color);\n",
              "    animation:\n",
              "      spin 1s steps(1) infinite;\n",
              "  }\n",
              "\n",
              "  @keyframes spin {\n",
              "    0% {\n",
              "      border-color: transparent;\n",
              "      border-bottom-color: var(--fill-color);\n",
              "      border-left-color: var(--fill-color);\n",
              "    }\n",
              "    20% {\n",
              "      border-color: transparent;\n",
              "      border-left-color: var(--fill-color);\n",
              "      border-top-color: var(--fill-color);\n",
              "    }\n",
              "    30% {\n",
              "      border-color: transparent;\n",
              "      border-left-color: var(--fill-color);\n",
              "      border-top-color: var(--fill-color);\n",
              "      border-right-color: var(--fill-color);\n",
              "    }\n",
              "    40% {\n",
              "      border-color: transparent;\n",
              "      border-right-color: var(--fill-color);\n",
              "      border-top-color: var(--fill-color);\n",
              "    }\n",
              "    60% {\n",
              "      border-color: transparent;\n",
              "      border-right-color: var(--fill-color);\n",
              "    }\n",
              "    80% {\n",
              "      border-color: transparent;\n",
              "      border-right-color: var(--fill-color);\n",
              "      border-bottom-color: var(--fill-color);\n",
              "    }\n",
              "    90% {\n",
              "      border-color: transparent;\n",
              "      border-bottom-color: var(--fill-color);\n",
              "    }\n",
              "  }\n",
              "</style>\n",
              "\n",
              "  <script>\n",
              "    async function quickchart(key) {\n",
              "      const quickchartButtonEl =\n",
              "        document.querySelector('#' + key + ' button');\n",
              "      quickchartButtonEl.disabled = true;  // To prevent multiple clicks.\n",
              "      quickchartButtonEl.classList.add('colab-df-spinner');\n",
              "      try {\n",
              "        const charts = await google.colab.kernel.invokeFunction(\n",
              "            'suggestCharts', [key], {});\n",
              "      } catch (error) {\n",
              "        console.error('Error during call to suggestCharts:', error);\n",
              "      }\n",
              "      quickchartButtonEl.classList.remove('colab-df-spinner');\n",
              "      quickchartButtonEl.classList.add('colab-df-quickchart-complete');\n",
              "    }\n",
              "    (() => {\n",
              "      let quickchartButtonEl =\n",
              "        document.querySelector('#df-4005c787-267d-474c-a424-97b18e9199b4 button');\n",
              "      quickchartButtonEl.style.display =\n",
              "        google.colab.kernel.accessAllowed ? 'block' : 'none';\n",
              "    })();\n",
              "  </script>\n",
              "</div>\n",
              "    </div>\n",
              "  </div>\n"
            ]
          },
          "metadata": {},
          "execution_count": 20
        }
      ]
    },
    {
      "cell_type": "code",
      "source": [
        "fig = go.Figure([\n",
        "        go.Scatter(x=df_stats['epoch'], y=df_stats['Training Loss'],name=\"Train\",hovertemplate=\"%{y}%{_xother}\")\n",
        "        ,go.Scatter(x=df_stats['epoch'], y=df_stats['Valid. Loss'],name=\"Val\",hovertemplate=\"%{y}%{_xother}\")\n",
        "        ])\n",
        "fig.update_layout(\n",
        "      xaxis_title=\"Epoch\",\n",
        "      yaxis_title='Loss',\n",
        "      hovermode=\"x unified\"\n",
        "  )\n",
        "fig.show()"
      ],
      "metadata": {
        "colab": {
          "base_uri": "https://localhost:8080/",
          "height": 542
        },
        "id": "Y_9w4BonOlya",
        "outputId": "004eec69-6ce6-4e70-e101-90ed673968b7"
      },
      "execution_count": null,
      "outputs": [
        {
          "output_type": "display_data",
          "data": {
            "text/html": [
              "<html>\n",
              "<head><meta charset=\"utf-8\" /></head>\n",
              "<body>\n",
              "    <div>            <script src=\"https://cdnjs.cloudflare.com/ajax/libs/mathjax/2.7.5/MathJax.js?config=TeX-AMS-MML_SVG\"></script><script type=\"text/javascript\">if (window.MathJax && window.MathJax.Hub && window.MathJax.Hub.Config) {window.MathJax.Hub.Config({SVG: {font: \"STIX-Web\"}});}</script>                <script type=\"text/javascript\">window.PlotlyConfig = {MathJaxConfig: 'local'};</script>\n",
              "        <script charset=\"utf-8\" src=\"https://cdn.plot.ly/plotly-2.24.1.min.js\"></script>                <div id=\"d77c2eac-cb69-44f4-9b14-55fe7e90c69c\" class=\"plotly-graph-div\" style=\"height:525px; width:100%;\"></div>            <script type=\"text/javascript\">                                    window.PLOTLYENV=window.PLOTLYENV || {};                                    if (document.getElementById(\"d77c2eac-cb69-44f4-9b14-55fe7e90c69c\")) {                    Plotly.newPlot(                        \"d77c2eac-cb69-44f4-9b14-55fe7e90c69c\",                        [{\"hovertemplate\":\"%{y}%{_xother}\",\"name\":\"Train\",\"x\":[1,2,3,4,5,6,7,8,9,10,11,12,13,14,15],\"y\":[0.03805895720637554,0.01002149633197879,0.009405404144618396,0.009058128709960254,0.008778137289430872,0.008516633424053111,0.008257856771940887,0.007993576082561914,0.007718566718060133,0.0074272655932069165,0.007115689145860186,0.0067803977431977434,0.00642126712357103,0.0060355942907397535,0.005616003673829708],\"type\":\"scatter\"},{\"hovertemplate\":\"%{y}%{_xother}\",\"name\":\"Val\",\"x\":[1,2,3,4,5,6,7,8,9,10,11,12,13,14,15],\"y\":[0.670541517235993,0.6155510512800628,0.6017429699577792,0.5960586443860031,0.5933551928582509,0.5923467134956598,0.5926220466939485,0.5940294601023197,0.5964882828337443,0.5998953709078072,0.6041806048209708,0.6094912053442035,0.6160638955218596,0.6239707221939274,0.6334374261064925],\"type\":\"scatter\"}],                        {\"template\":{\"data\":{\"histogram2dcontour\":[{\"type\":\"histogram2dcontour\",\"colorbar\":{\"outlinewidth\":0,\"ticks\":\"\"},\"colorscale\":[[0.0,\"#0d0887\"],[0.1111111111111111,\"#46039f\"],[0.2222222222222222,\"#7201a8\"],[0.3333333333333333,\"#9c179e\"],[0.4444444444444444,\"#bd3786\"],[0.5555555555555556,\"#d8576b\"],[0.6666666666666666,\"#ed7953\"],[0.7777777777777778,\"#fb9f3a\"],[0.8888888888888888,\"#fdca26\"],[1.0,\"#f0f921\"]]}],\"choropleth\":[{\"type\":\"choropleth\",\"colorbar\":{\"outlinewidth\":0,\"ticks\":\"\"}}],\"histogram2d\":[{\"type\":\"histogram2d\",\"colorbar\":{\"outlinewidth\":0,\"ticks\":\"\"},\"colorscale\":[[0.0,\"#0d0887\"],[0.1111111111111111,\"#46039f\"],[0.2222222222222222,\"#7201a8\"],[0.3333333333333333,\"#9c179e\"],[0.4444444444444444,\"#bd3786\"],[0.5555555555555556,\"#d8576b\"],[0.6666666666666666,\"#ed7953\"],[0.7777777777777778,\"#fb9f3a\"],[0.8888888888888888,\"#fdca26\"],[1.0,\"#f0f921\"]]}],\"heatmap\":[{\"type\":\"heatmap\",\"colorbar\":{\"outlinewidth\":0,\"ticks\":\"\"},\"colorscale\":[[0.0,\"#0d0887\"],[0.1111111111111111,\"#46039f\"],[0.2222222222222222,\"#7201a8\"],[0.3333333333333333,\"#9c179e\"],[0.4444444444444444,\"#bd3786\"],[0.5555555555555556,\"#d8576b\"],[0.6666666666666666,\"#ed7953\"],[0.7777777777777778,\"#fb9f3a\"],[0.8888888888888888,\"#fdca26\"],[1.0,\"#f0f921\"]]}],\"heatmapgl\":[{\"type\":\"heatmapgl\",\"colorbar\":{\"outlinewidth\":0,\"ticks\":\"\"},\"colorscale\":[[0.0,\"#0d0887\"],[0.1111111111111111,\"#46039f\"],[0.2222222222222222,\"#7201a8\"],[0.3333333333333333,\"#9c179e\"],[0.4444444444444444,\"#bd3786\"],[0.5555555555555556,\"#d8576b\"],[0.6666666666666666,\"#ed7953\"],[0.7777777777777778,\"#fb9f3a\"],[0.8888888888888888,\"#fdca26\"],[1.0,\"#f0f921\"]]}],\"contourcarpet\":[{\"type\":\"contourcarpet\",\"colorbar\":{\"outlinewidth\":0,\"ticks\":\"\"}}],\"contour\":[{\"type\":\"contour\",\"colorbar\":{\"outlinewidth\":0,\"ticks\":\"\"},\"colorscale\":[[0.0,\"#0d0887\"],[0.1111111111111111,\"#46039f\"],[0.2222222222222222,\"#7201a8\"],[0.3333333333333333,\"#9c179e\"],[0.4444444444444444,\"#bd3786\"],[0.5555555555555556,\"#d8576b\"],[0.6666666666666666,\"#ed7953\"],[0.7777777777777778,\"#fb9f3a\"],[0.8888888888888888,\"#fdca26\"],[1.0,\"#f0f921\"]]}],\"surface\":[{\"type\":\"surface\",\"colorbar\":{\"outlinewidth\":0,\"ticks\":\"\"},\"colorscale\":[[0.0,\"#0d0887\"],[0.1111111111111111,\"#46039f\"],[0.2222222222222222,\"#7201a8\"],[0.3333333333333333,\"#9c179e\"],[0.4444444444444444,\"#bd3786\"],[0.5555555555555556,\"#d8576b\"],[0.6666666666666666,\"#ed7953\"],[0.7777777777777778,\"#fb9f3a\"],[0.8888888888888888,\"#fdca26\"],[1.0,\"#f0f921\"]]}],\"mesh3d\":[{\"type\":\"mesh3d\",\"colorbar\":{\"outlinewidth\":0,\"ticks\":\"\"}}],\"scatter\":[{\"fillpattern\":{\"fillmode\":\"overlay\",\"size\":10,\"solidity\":0.2},\"type\":\"scatter\"}],\"parcoords\":[{\"type\":\"parcoords\",\"line\":{\"colorbar\":{\"outlinewidth\":0,\"ticks\":\"\"}}}],\"scatterpolargl\":[{\"type\":\"scatterpolargl\",\"marker\":{\"colorbar\":{\"outlinewidth\":0,\"ticks\":\"\"}}}],\"bar\":[{\"error_x\":{\"color\":\"#2a3f5f\"},\"error_y\":{\"color\":\"#2a3f5f\"},\"marker\":{\"line\":{\"color\":\"#E5ECF6\",\"width\":0.5},\"pattern\":{\"fillmode\":\"overlay\",\"size\":10,\"solidity\":0.2}},\"type\":\"bar\"}],\"scattergeo\":[{\"type\":\"scattergeo\",\"marker\":{\"colorbar\":{\"outlinewidth\":0,\"ticks\":\"\"}}}],\"scatterpolar\":[{\"type\":\"scatterpolar\",\"marker\":{\"colorbar\":{\"outlinewidth\":0,\"ticks\":\"\"}}}],\"histogram\":[{\"marker\":{\"pattern\":{\"fillmode\":\"overlay\",\"size\":10,\"solidity\":0.2}},\"type\":\"histogram\"}],\"scattergl\":[{\"type\":\"scattergl\",\"marker\":{\"colorbar\":{\"outlinewidth\":0,\"ticks\":\"\"}}}],\"scatter3d\":[{\"type\":\"scatter3d\",\"line\":{\"colorbar\":{\"outlinewidth\":0,\"ticks\":\"\"}},\"marker\":{\"colorbar\":{\"outlinewidth\":0,\"ticks\":\"\"}}}],\"scattermapbox\":[{\"type\":\"scattermapbox\",\"marker\":{\"colorbar\":{\"outlinewidth\":0,\"ticks\":\"\"}}}],\"scatterternary\":[{\"type\":\"scatterternary\",\"marker\":{\"colorbar\":{\"outlinewidth\":0,\"ticks\":\"\"}}}],\"scattercarpet\":[{\"type\":\"scattercarpet\",\"marker\":{\"colorbar\":{\"outlinewidth\":0,\"ticks\":\"\"}}}],\"carpet\":[{\"aaxis\":{\"endlinecolor\":\"#2a3f5f\",\"gridcolor\":\"white\",\"linecolor\":\"white\",\"minorgridcolor\":\"white\",\"startlinecolor\":\"#2a3f5f\"},\"baxis\":{\"endlinecolor\":\"#2a3f5f\",\"gridcolor\":\"white\",\"linecolor\":\"white\",\"minorgridcolor\":\"white\",\"startlinecolor\":\"#2a3f5f\"},\"type\":\"carpet\"}],\"table\":[{\"cells\":{\"fill\":{\"color\":\"#EBF0F8\"},\"line\":{\"color\":\"white\"}},\"header\":{\"fill\":{\"color\":\"#C8D4E3\"},\"line\":{\"color\":\"white\"}},\"type\":\"table\"}],\"barpolar\":[{\"marker\":{\"line\":{\"color\":\"#E5ECF6\",\"width\":0.5},\"pattern\":{\"fillmode\":\"overlay\",\"size\":10,\"solidity\":0.2}},\"type\":\"barpolar\"}],\"pie\":[{\"automargin\":true,\"type\":\"pie\"}]},\"layout\":{\"autotypenumbers\":\"strict\",\"colorway\":[\"#636efa\",\"#EF553B\",\"#00cc96\",\"#ab63fa\",\"#FFA15A\",\"#19d3f3\",\"#FF6692\",\"#B6E880\",\"#FF97FF\",\"#FECB52\"],\"font\":{\"color\":\"#2a3f5f\"},\"hovermode\":\"closest\",\"hoverlabel\":{\"align\":\"left\"},\"paper_bgcolor\":\"white\",\"plot_bgcolor\":\"#E5ECF6\",\"polar\":{\"bgcolor\":\"#E5ECF6\",\"angularaxis\":{\"gridcolor\":\"white\",\"linecolor\":\"white\",\"ticks\":\"\"},\"radialaxis\":{\"gridcolor\":\"white\",\"linecolor\":\"white\",\"ticks\":\"\"}},\"ternary\":{\"bgcolor\":\"#E5ECF6\",\"aaxis\":{\"gridcolor\":\"white\",\"linecolor\":\"white\",\"ticks\":\"\"},\"baxis\":{\"gridcolor\":\"white\",\"linecolor\":\"white\",\"ticks\":\"\"},\"caxis\":{\"gridcolor\":\"white\",\"linecolor\":\"white\",\"ticks\":\"\"}},\"coloraxis\":{\"colorbar\":{\"outlinewidth\":0,\"ticks\":\"\"}},\"colorscale\":{\"sequential\":[[0.0,\"#0d0887\"],[0.1111111111111111,\"#46039f\"],[0.2222222222222222,\"#7201a8\"],[0.3333333333333333,\"#9c179e\"],[0.4444444444444444,\"#bd3786\"],[0.5555555555555556,\"#d8576b\"],[0.6666666666666666,\"#ed7953\"],[0.7777777777777778,\"#fb9f3a\"],[0.8888888888888888,\"#fdca26\"],[1.0,\"#f0f921\"]],\"sequentialminus\":[[0.0,\"#0d0887\"],[0.1111111111111111,\"#46039f\"],[0.2222222222222222,\"#7201a8\"],[0.3333333333333333,\"#9c179e\"],[0.4444444444444444,\"#bd3786\"],[0.5555555555555556,\"#d8576b\"],[0.6666666666666666,\"#ed7953\"],[0.7777777777777778,\"#fb9f3a\"],[0.8888888888888888,\"#fdca26\"],[1.0,\"#f0f921\"]],\"diverging\":[[0,\"#8e0152\"],[0.1,\"#c51b7d\"],[0.2,\"#de77ae\"],[0.3,\"#f1b6da\"],[0.4,\"#fde0ef\"],[0.5,\"#f7f7f7\"],[0.6,\"#e6f5d0\"],[0.7,\"#b8e186\"],[0.8,\"#7fbc41\"],[0.9,\"#4d9221\"],[1,\"#276419\"]]},\"xaxis\":{\"gridcolor\":\"white\",\"linecolor\":\"white\",\"ticks\":\"\",\"title\":{\"standoff\":15},\"zerolinecolor\":\"white\",\"automargin\":true,\"zerolinewidth\":2},\"yaxis\":{\"gridcolor\":\"white\",\"linecolor\":\"white\",\"ticks\":\"\",\"title\":{\"standoff\":15},\"zerolinecolor\":\"white\",\"automargin\":true,\"zerolinewidth\":2},\"scene\":{\"xaxis\":{\"backgroundcolor\":\"#E5ECF6\",\"gridcolor\":\"white\",\"linecolor\":\"white\",\"showbackground\":true,\"ticks\":\"\",\"zerolinecolor\":\"white\",\"gridwidth\":2},\"yaxis\":{\"backgroundcolor\":\"#E5ECF6\",\"gridcolor\":\"white\",\"linecolor\":\"white\",\"showbackground\":true,\"ticks\":\"\",\"zerolinecolor\":\"white\",\"gridwidth\":2},\"zaxis\":{\"backgroundcolor\":\"#E5ECF6\",\"gridcolor\":\"white\",\"linecolor\":\"white\",\"showbackground\":true,\"ticks\":\"\",\"zerolinecolor\":\"white\",\"gridwidth\":2}},\"shapedefaults\":{\"line\":{\"color\":\"#2a3f5f\"}},\"annotationdefaults\":{\"arrowcolor\":\"#2a3f5f\",\"arrowhead\":0,\"arrowwidth\":1},\"geo\":{\"bgcolor\":\"white\",\"landcolor\":\"#E5ECF6\",\"subunitcolor\":\"white\",\"showland\":true,\"showlakes\":true,\"lakecolor\":\"white\"},\"title\":{\"x\":0.05},\"mapbox\":{\"style\":\"light\"}}},\"xaxis\":{\"title\":{\"text\":\"Epoch\"}},\"yaxis\":{\"title\":{\"text\":\"Loss\"}},\"hovermode\":\"x unified\"},                        {\"responsive\": true}                    ).then(function(){\n",
              "                            \n",
              "var gd = document.getElementById('d77c2eac-cb69-44f4-9b14-55fe7e90c69c');\n",
              "var x = new MutationObserver(function (mutations, observer) {{\n",
              "        var display = window.getComputedStyle(gd).display;\n",
              "        if (!display || display === 'none') {{\n",
              "            console.log([gd, 'removed!']);\n",
              "            Plotly.purge(gd);\n",
              "            observer.disconnect();\n",
              "        }}\n",
              "}});\n",
              "\n",
              "// Listen for the removal of the full notebook cells\n",
              "var notebookContainer = gd.closest('#notebook-container');\n",
              "if (notebookContainer) {{\n",
              "    x.observe(notebookContainer, {childList: true});\n",
              "}}\n",
              "\n",
              "// Listen for the clearing of the current output cell\n",
              "var outputEl = gd.closest('.output');\n",
              "if (outputEl) {{\n",
              "    x.observe(outputEl, {childList: true});\n",
              "}}\n",
              "\n",
              "                        })                };                            </script>        </div>\n",
              "</body>\n",
              "</html>"
            ]
          },
          "metadata": {}
        }
      ]
    },
    {
      "cell_type": "markdown",
      "metadata": {
        "id": "G9IviVZKYiNP"
      },
      "source": [
        "Finalmente, llegamos al resultado principal de este modelo. Repetimos diferentes palabras iniciales y diferentes temperaturas obteniendo diferentes letras de canciones por la red de los dos modelos. Observemos cómo las letras de canciones generadas no coinciden con ninguna otra letra del conjunto de datos de entrenamiento, a continuación, mostramos los resultados de letras tanto para español, como para inglés."
      ]
    },
    {
      "cell_type": "markdown",
      "source": [
        "# **Generación de Letras español**"
      ],
      "metadata": {
        "id": "EVwbPYmEOtsC"
      }
    },
    {
      "cell_type": "code",
      "source": [
        "model = torch.load('modelo_gpt2_letras.pt')"
      ],
      "metadata": {
        "id": "2wZlRT5sOpzy"
      },
      "execution_count": null,
      "outputs": []
    },
    {
      "cell_type": "code",
      "source": [
        "model.to('cpu')"
      ],
      "metadata": {
        "colab": {
          "base_uri": "https://localhost:8080/"
        },
        "id": "3kkeZzeuOx-m",
        "outputId": "1c85f59d-c31b-4dbb-9f84-5de7f03061b8"
      },
      "execution_count": null,
      "outputs": [
        {
          "output_type": "execute_result",
          "data": {
            "text/plain": [
              "GPT2LMHeadModel(\n",
              "  (transformer): GPT2Model(\n",
              "    (wte): Embedding(50260, 768)\n",
              "    (wpe): Embedding(1024, 768)\n",
              "    (drop): Dropout(p=0.1, inplace=False)\n",
              "    (h): ModuleList(\n",
              "      (0-11): 12 x GPT2Block(\n",
              "        (ln_1): LayerNorm((768,), eps=1e-05, elementwise_affine=True)\n",
              "        (attn): GPT2Attention(\n",
              "          (c_attn): Conv1D()\n",
              "          (c_proj): Conv1D()\n",
              "          (attn_dropout): Dropout(p=0.1, inplace=False)\n",
              "          (resid_dropout): Dropout(p=0.1, inplace=False)\n",
              "        )\n",
              "        (ln_2): LayerNorm((768,), eps=1e-05, elementwise_affine=True)\n",
              "        (mlp): GPT2MLP(\n",
              "          (c_fc): Conv1D()\n",
              "          (c_proj): Conv1D()\n",
              "          (act): NewGELUActivation()\n",
              "          (dropout): Dropout(p=0.1, inplace=False)\n",
              "        )\n",
              "      )\n",
              "    )\n",
              "    (ln_f): LayerNorm((768,), eps=1e-05, elementwise_affine=True)\n",
              "  )\n",
              "  (lm_head): Linear(in_features=768, out_features=50260, bias=False)\n",
              ")"
            ]
          },
          "metadata": {},
          "execution_count": 23
        }
      ]
    },
    {
      "cell_type": "code",
      "source": [
        "def Generate2(model,Palabra):\n",
        "  input_ids = tokenizer.encode(Palabra, return_tensors=\"pt\")\n",
        "  output = model.generate(\n",
        "      input_ids,\n",
        "      do_sample=True,\n",
        "      top_k=50,\n",
        "      max_length=200,\n",
        "      top_p=0.95,\n",
        "      num_return_sequences=1,\n",
        "      #temperature=1.5\n",
        "      #no_repeat_ngram_size=2,\n",
        "  )\n",
        "  output = tokenizer.decode(output[0], skip_special_tokens=True)\n",
        "  return output"
      ],
      "metadata": {
        "id": "Jze4riyCO0GG"
      },
      "execution_count": null,
      "outputs": []
    },
    {
      "cell_type": "markdown",
      "source": [
        "Ahora sí, vamos a probar el modelo y obtenemos las letras de canciones en español, hicimos el ejercicio para tres palabras diferentes y un valor fijo de temperatura en todos los casos."
      ],
      "metadata": {
        "id": "ZLx_ZVvACdFt"
      }
    },
    {
      "cell_type": "code",
      "source": [
        "Palabra = 'AMOR'\n",
        "text = Generate2(model.to('cpu'),Palabra)\n",
        "print(text)"
      ],
      "metadata": {
        "colab": {
          "base_uri": "https://localhost:8080/"
        },
        "id": "5nnKq4FkO6-X",
        "outputId": "2e7f8c71-0177-4bae-fd9d-600f466ca662"
      },
      "execution_count": null,
      "outputs": [
        {
          "output_type": "stream",
          "name": "stderr",
          "text": [
            "The attention mask and the pad token id were not set. As a consequence, you may observe unexpected behavior. Please pass your input's `attention_mask` to obtain reliable results.\n",
            "Setting `pad_token_id` to `eos_token_id`:50256 for open-end generation.\n"
          ]
        },
        {
          "output_type": "stream",
          "name": "stdout",
          "text": [
            "AMOR DE CÓRDOBA\n",
            "\n",
            "\n",
            "Yace en la playa\n",
            "el niño hermoso,\n",
            "que entre sus brazos\n",
            "el sol te llama.\n",
            "\n",
            "Con su graciosa mano\n",
            "note la tierna carne\n",
            "que se alegra el cuerpo.\n",
            "\n",
            "Después\n",
            "quedó la noche sin estrellas\n",
            "y en su boca un racimo\n",
            "del árbol de la selva\n",
            "la pálida espuma\n",
            "que se besa al sol en los labios.\n",
            "\n",
            "Yace en la playa,\n",
            "yace en la playa\n",
            "el niño hermoso,\n",
            "yace en la playa\n",
            "el niño hermoso,\n",
            "yace en la playa\n",
            "el niño hermoso,\n",
            "yace en la selva,\n",
            "yace en la selva,\n",
            "yace en la selva,\n",
            "yace en la selva,\n",
            "yace en la selva,\n",
            "yace en la selva,\n",
            "yace en la selva,\n",
            "yace en la selva,\n",
            "yace en la selva\n",
            "yace en la selva,\n",
            "\n"
          ]
        }
      ]
    },
    {
      "cell_type": "code",
      "source": [
        "Palabra = 'TIEMPO'\n",
        "text = Generate2(model.to('cpu'),Palabra)\n",
        "print(text)"
      ],
      "metadata": {
        "colab": {
          "base_uri": "https://localhost:8080/"
        },
        "id": "7Usk4zbbO_F3",
        "outputId": "0b843e3d-1fa3-472a-bfcd-fe35f14be1a0"
      },
      "execution_count": null,
      "outputs": [
        {
          "output_type": "stream",
          "name": "stderr",
          "text": [
            "The attention mask and the pad token id were not set. As a consequence, you may observe unexpected behavior. Please pass your input's `attention_mask` to obtain reliable results.\n",
            "Setting `pad_token_id` to `eos_token_id`:50256 for open-end generation.\n"
          ]
        },
        {
          "output_type": "stream",
          "name": "stdout",
          "text": [
            "TIEMPO\n",
            "\n",
            "\n",
            "He aquí la ética de la seducción, y también de la tolerancia en la lucha de clases y clases, el cual, si llega a ser tolerante, no tendrá por qué ser tolerante. Si esta estrategia antisocialista se agrafará, si, o no se agrafará, y la moral humana no será tolerante. Esta ética antisocialista se agrafará porque no se le da en el blanco de imponer sus propias libertades, a imponer sus propias libertades. Si esta estrategia antisocialista se agrafará en sí misma porque, como está ordenado, no se le da en el blanco de imponer sus propias libertades. Si esta ética antisocialista se agrafará porque ella sigue creyendo antisocialista, y, por qué no, porque se va a cambiar de enemigo. Esta ética antisocialista antisocialista es, en cierto sentido, ética antisocialista: no se le da en el blanco de imponer sus propias libertades sino,\n"
          ]
        }
      ]
    },
    {
      "cell_type": "code",
      "source": [
        "Palabra = 'NOCHE'\n",
        "text = Generate2(model.to('cpu'),Palabra)\n",
        "print(text)"
      ],
      "metadata": {
        "colab": {
          "base_uri": "https://localhost:8080/"
        },
        "id": "R7QbsHvQVeHK",
        "outputId": "77536c81-2d11-4778-f460-278741a342a9"
      },
      "execution_count": null,
      "outputs": [
        {
          "output_type": "stream",
          "name": "stderr",
          "text": [
            "The attention mask and the pad token id were not set. As a consequence, you may observe unexpected behavior. Please pass your input's `attention_mask` to obtain reliable results.\n",
            "Setting `pad_token_id` to `eos_token_id`:50256 for open-end generation.\n"
          ]
        },
        {
          "output_type": "stream",
          "name": "stdout",
          "text": [
            "NOCHE DE SILENCIO\n",
            "\n",
            "\n",
            "La palabra es un arma. Temo, a veces, que haya alguna hoja de papel, algún vaso, alguna botella. ¿Qué te dice a ti, de repente, lo que pasa? En un arranque, comprendo que en mi vida nada había sido tan cruel. Pero en cambio, al hablar contigo me duele, como cuando me duele un cuchillo. Cuando no estás con Dios, con el que nunca estuve, ¿sabes adónde voy o qué hago en el mar sin amarrarme al océano, sin ver la costa, sin amararme al mar? ¿Te duele el mar? ¿Te duele? No me tientes al brazo para dejarme. Si te coge, me rompo el vendaje; y si no, me hundo de espalda, en las arenas mojadas, donde nunca estuve, donde nunca estuve.\n",
            "El viento frío de abril derrite mi frente y mis cabellos. La noche cae silenciosa sobre mi rostro. Te quiero tanto que\n"
          ]
        }
      ]
    },
    {
      "cell_type": "code",
      "source": [
        "Palabra = 'LUZ'\n",
        "text = Generate2(model.to('cpu'),Palabra)\n",
        "print(text)"
      ],
      "metadata": {
        "colab": {
          "base_uri": "https://localhost:8080/"
        },
        "id": "BEnF4lil7S1r",
        "outputId": "efa64c1e-d563-45ee-d3f5-a68d81af7f52"
      },
      "execution_count": null,
      "outputs": [
        {
          "output_type": "stream",
          "name": "stderr",
          "text": [
            "The attention mask and the pad token id were not set. As a consequence, you may observe unexpected behavior. Please pass your input's `attention_mask` to obtain reliable results.\n",
            "Setting `pad_token_id` to `eos_token_id`:50256 for open-end generation.\n"
          ]
        },
        {
          "output_type": "stream",
          "name": "stdout",
          "text": [
            "LUZARO\n",
            "\n",
            "\n",
            "¿Qué haces con la ropa de calle?\n",
            "\n",
            "Si supiera de antemano que te tiras a mis brazos,\n",
            "el color de la tarde lo miraría con otros ojos...\n",
            "\n",
            "Entonces me miraría como un loco.\n",
            "\n",
            "Si supieses que me has atraído a ti,\n",
            "de modo inconsciente, reconocería la mirada\n",
            "que me miras?\n",
            "\n",
            "¿Por qué me miras a la cara?\n",
            "\n",
            "¿Te vas a quedar sin aliento y sin sangre,\n",
            "y yo, sintiéndome como la mujer,\n",
            "cerrada en mi pecho y sin conciencia,\n",
            "que es lo que a ti te gusta...\n",
            "\n",
            "¿Es eso?\n",
            "\n",
            "¿Es eso?\n",
            "\n",
            "    \n"
          ]
        }
      ]
    },
    {
      "cell_type": "code",
      "source": [
        "Palabra = 'LUNA'\n",
        "text = Generate2(model.to('cpu'),Palabra)\n",
        "print(text)"
      ],
      "metadata": {
        "colab": {
          "base_uri": "https://localhost:8080/"
        },
        "id": "-__tDo2N7kh8",
        "outputId": "6105b171-4ec7-439f-b2c9-c8c504131839"
      },
      "execution_count": null,
      "outputs": [
        {
          "output_type": "stream",
          "name": "stderr",
          "text": [
            "The attention mask and the pad token id were not set. As a consequence, you may observe unexpected behavior. Please pass your input's `attention_mask` to obtain reliable results.\n",
            "Setting `pad_token_id` to `eos_token_id`:50256 for open-end generation.\n"
          ]
        },
        {
          "output_type": "stream",
          "name": "stdout",
          "text": [
            "LUNA VUELTA Y VENDEADES\n",
            "\n",
            "\n",
            "Me encontré con la muerte en los ojos, cuando hablaba; era ella, la que me miraba desde dentro, con mi presencia, con su calor. Tú eras la causa de la muerte; fuiste para mí el consuelo de la vida. ¡Tú eras por fin aquella causa de la muerte! Ella te miraba desde dentro, y yo la oía gritar, como si tú y yo hubiéramos sido algo, y para que tú y yo, juntos, sintiéramos todavía el mismo dolor; yo no sabía ya, ni tenía conocimiento de que estabas viva; ella no supe que estabas viva, ni que había muerto. Yo la veía y la veía, y yo la sentía lejos, lejos de mí, y ella me miraba lejos. El alma y la carne estaban así y yo la oía llorar, y yo la veía llorar otra vez. \n",
            "\n",
            "Yo me sentía solo para ella, para esta pobre niña, y para ti no existía. Tú eras\n"
          ]
        }
      ]
    },
    {
      "cell_type": "code",
      "source": [
        "Palabra = 'LIBERTAD'\n",
        "text = Generate2(model.to('cpu'),Palabra)\n",
        "print(text)"
      ],
      "metadata": {
        "colab": {
          "base_uri": "https://localhost:8080/"
        },
        "id": "E9K25o5h970z",
        "outputId": "f43ff4aa-c6be-47d6-fe08-0cf01811a23d"
      },
      "execution_count": null,
      "outputs": [
        {
          "output_type": "stream",
          "name": "stderr",
          "text": [
            "The attention mask and the pad token id were not set. As a consequence, you may observe unexpected behavior. Please pass your input's `attention_mask` to obtain reliable results.\n",
            "Setting `pad_token_id` to `eos_token_id`:50256 for open-end generation.\n"
          ]
        },
        {
          "output_type": "stream",
          "name": "stdout",
          "text": [
            "LIBERTAD G. FRAZ GATLANO\n",
            "\n",
            "\n",
            "Te quiero desde que eras pequeña,\n",
            "mujerie mía,\n",
            "que nostalgiaste en el año 1936\n",
            "como el resto de las primaveras,\n",
            "como todo el amor que aún era,\n",
            "para siempre en esta vida\n",
            "perdida en el espacio sin fin\n",
            "de la vida que se va\n",
            "con el hombre,\n",
            "como todo el dolor\n",
            "de la vida\n",
            "esperándote en el tiempo\n",
            "(cuando te conocí).\n",
            "                                                      Y en esta triste\n",
            "deslizando en esta tierra\n",
            "la infelicidad con que nos hemos escapado\n",
            "y nos hemos escapado, sin saber el porqué,\n",
            "de una noche de lluvia \n",
            "en estos días\n"
          ]
        }
      ]
    },
    {
      "cell_type": "markdown",
      "source": [
        "### **FIN DEL DOCUMENTO**"
      ],
      "metadata": {
        "id": "SQO_fsoFCs6A"
      }
    },
    {
      "cell_type": "code",
      "source": [],
      "metadata": {
        "id": "AmRY0ymI-u4r"
      },
      "execution_count": null,
      "outputs": []
    }
  ],
  "metadata": {
    "accelerator": "GPU",
    "colab": {
      "provenance": []
    },
    "kernelspec": {
      "display_name": "Python 3",
      "language": "python",
      "name": "python3"
    },
    "language_info": {
      "codemirror_mode": {
        "name": "ipython",
        "version": 3
      },
      "file_extension": ".py",
      "mimetype": "text/x-python",
      "name": "python",
      "nbconvert_exporter": "python",
      "pygments_lexer": "ipython3",
      "version": "3.6.5"
    },
    "widgets": {
      "application/vnd.jupyter.widget-state+json": {
        "5bef1fbaf6924a4cb0f33694ba3c0ce3": {
          "model_module": "@jupyter-widgets/controls",
          "model_name": "HBoxModel",
          "model_module_version": "1.5.0",
          "state": {
            "_dom_classes": [],
            "_model_module": "@jupyter-widgets/controls",
            "_model_module_version": "1.5.0",
            "_model_name": "HBoxModel",
            "_view_count": null,
            "_view_module": "@jupyter-widgets/controls",
            "_view_module_version": "1.5.0",
            "_view_name": "HBoxView",
            "box_style": "",
            "children": [
              "IPY_MODEL_b5b2d036ad334d6487cb4b6e150805ed",
              "IPY_MODEL_fe4c3e62fdc54d0d9e0cd0c3880013fc",
              "IPY_MODEL_20178efd979f411cba9ab1d32999ffac"
            ],
            "layout": "IPY_MODEL_060ed4fe0ce345d1ae5050953b4f5ef2"
          }
        },
        "b5b2d036ad334d6487cb4b6e150805ed": {
          "model_module": "@jupyter-widgets/controls",
          "model_name": "HTMLModel",
          "model_module_version": "1.5.0",
          "state": {
            "_dom_classes": [],
            "_model_module": "@jupyter-widgets/controls",
            "_model_module_version": "1.5.0",
            "_model_name": "HTMLModel",
            "_view_count": null,
            "_view_module": "@jupyter-widgets/controls",
            "_view_module_version": "1.5.0",
            "_view_name": "HTMLView",
            "description": "",
            "description_tooltip": null,
            "layout": "IPY_MODEL_6abfc39ee7f2457680bbe67b27e75ec0",
            "placeholder": "​",
            "style": "IPY_MODEL_f0b646e41ab146f595b071c2b7961967",
            "value": "Downloading (…)okenizer_config.json: 100%"
          }
        },
        "fe4c3e62fdc54d0d9e0cd0c3880013fc": {
          "model_module": "@jupyter-widgets/controls",
          "model_name": "FloatProgressModel",
          "model_module_version": "1.5.0",
          "state": {
            "_dom_classes": [],
            "_model_module": "@jupyter-widgets/controls",
            "_model_module_version": "1.5.0",
            "_model_name": "FloatProgressModel",
            "_view_count": null,
            "_view_module": "@jupyter-widgets/controls",
            "_view_module_version": "1.5.0",
            "_view_name": "ProgressView",
            "bar_style": "success",
            "description": "",
            "description_tooltip": null,
            "layout": "IPY_MODEL_288ee817e7fe40deb0ed2f9616cb0a5d",
            "max": 115,
            "min": 0,
            "orientation": "horizontal",
            "style": "IPY_MODEL_e4fd58be2d8c43cab2a80f5836d85804",
            "value": 115
          }
        },
        "20178efd979f411cba9ab1d32999ffac": {
          "model_module": "@jupyter-widgets/controls",
          "model_name": "HTMLModel",
          "model_module_version": "1.5.0",
          "state": {
            "_dom_classes": [],
            "_model_module": "@jupyter-widgets/controls",
            "_model_module_version": "1.5.0",
            "_model_name": "HTMLModel",
            "_view_count": null,
            "_view_module": "@jupyter-widgets/controls",
            "_view_module_version": "1.5.0",
            "_view_name": "HTMLView",
            "description": "",
            "description_tooltip": null,
            "layout": "IPY_MODEL_51872c077b6e47b185a715e7ee577017",
            "placeholder": "​",
            "style": "IPY_MODEL_8b704c70d42e4342980b50ad676f2756",
            "value": " 115/115 [00:00&lt;00:00, 2.96kB/s]"
          }
        },
        "060ed4fe0ce345d1ae5050953b4f5ef2": {
          "model_module": "@jupyter-widgets/base",
          "model_name": "LayoutModel",
          "model_module_version": "1.2.0",
          "state": {
            "_model_module": "@jupyter-widgets/base",
            "_model_module_version": "1.2.0",
            "_model_name": "LayoutModel",
            "_view_count": null,
            "_view_module": "@jupyter-widgets/base",
            "_view_module_version": "1.2.0",
            "_view_name": "LayoutView",
            "align_content": null,
            "align_items": null,
            "align_self": null,
            "border": null,
            "bottom": null,
            "display": null,
            "flex": null,
            "flex_flow": null,
            "grid_area": null,
            "grid_auto_columns": null,
            "grid_auto_flow": null,
            "grid_auto_rows": null,
            "grid_column": null,
            "grid_gap": null,
            "grid_row": null,
            "grid_template_areas": null,
            "grid_template_columns": null,
            "grid_template_rows": null,
            "height": null,
            "justify_content": null,
            "justify_items": null,
            "left": null,
            "margin": null,
            "max_height": null,
            "max_width": null,
            "min_height": null,
            "min_width": null,
            "object_fit": null,
            "object_position": null,
            "order": null,
            "overflow": null,
            "overflow_x": null,
            "overflow_y": null,
            "padding": null,
            "right": null,
            "top": null,
            "visibility": null,
            "width": null
          }
        },
        "6abfc39ee7f2457680bbe67b27e75ec0": {
          "model_module": "@jupyter-widgets/base",
          "model_name": "LayoutModel",
          "model_module_version": "1.2.0",
          "state": {
            "_model_module": "@jupyter-widgets/base",
            "_model_module_version": "1.2.0",
            "_model_name": "LayoutModel",
            "_view_count": null,
            "_view_module": "@jupyter-widgets/base",
            "_view_module_version": "1.2.0",
            "_view_name": "LayoutView",
            "align_content": null,
            "align_items": null,
            "align_self": null,
            "border": null,
            "bottom": null,
            "display": null,
            "flex": null,
            "flex_flow": null,
            "grid_area": null,
            "grid_auto_columns": null,
            "grid_auto_flow": null,
            "grid_auto_rows": null,
            "grid_column": null,
            "grid_gap": null,
            "grid_row": null,
            "grid_template_areas": null,
            "grid_template_columns": null,
            "grid_template_rows": null,
            "height": null,
            "justify_content": null,
            "justify_items": null,
            "left": null,
            "margin": null,
            "max_height": null,
            "max_width": null,
            "min_height": null,
            "min_width": null,
            "object_fit": null,
            "object_position": null,
            "order": null,
            "overflow": null,
            "overflow_x": null,
            "overflow_y": null,
            "padding": null,
            "right": null,
            "top": null,
            "visibility": null,
            "width": null
          }
        },
        "f0b646e41ab146f595b071c2b7961967": {
          "model_module": "@jupyter-widgets/controls",
          "model_name": "DescriptionStyleModel",
          "model_module_version": "1.5.0",
          "state": {
            "_model_module": "@jupyter-widgets/controls",
            "_model_module_version": "1.5.0",
            "_model_name": "DescriptionStyleModel",
            "_view_count": null,
            "_view_module": "@jupyter-widgets/base",
            "_view_module_version": "1.2.0",
            "_view_name": "StyleView",
            "description_width": ""
          }
        },
        "288ee817e7fe40deb0ed2f9616cb0a5d": {
          "model_module": "@jupyter-widgets/base",
          "model_name": "LayoutModel",
          "model_module_version": "1.2.0",
          "state": {
            "_model_module": "@jupyter-widgets/base",
            "_model_module_version": "1.2.0",
            "_model_name": "LayoutModel",
            "_view_count": null,
            "_view_module": "@jupyter-widgets/base",
            "_view_module_version": "1.2.0",
            "_view_name": "LayoutView",
            "align_content": null,
            "align_items": null,
            "align_self": null,
            "border": null,
            "bottom": null,
            "display": null,
            "flex": null,
            "flex_flow": null,
            "grid_area": null,
            "grid_auto_columns": null,
            "grid_auto_flow": null,
            "grid_auto_rows": null,
            "grid_column": null,
            "grid_gap": null,
            "grid_row": null,
            "grid_template_areas": null,
            "grid_template_columns": null,
            "grid_template_rows": null,
            "height": null,
            "justify_content": null,
            "justify_items": null,
            "left": null,
            "margin": null,
            "max_height": null,
            "max_width": null,
            "min_height": null,
            "min_width": null,
            "object_fit": null,
            "object_position": null,
            "order": null,
            "overflow": null,
            "overflow_x": null,
            "overflow_y": null,
            "padding": null,
            "right": null,
            "top": null,
            "visibility": null,
            "width": null
          }
        },
        "e4fd58be2d8c43cab2a80f5836d85804": {
          "model_module": "@jupyter-widgets/controls",
          "model_name": "ProgressStyleModel",
          "model_module_version": "1.5.0",
          "state": {
            "_model_module": "@jupyter-widgets/controls",
            "_model_module_version": "1.5.0",
            "_model_name": "ProgressStyleModel",
            "_view_count": null,
            "_view_module": "@jupyter-widgets/base",
            "_view_module_version": "1.2.0",
            "_view_name": "StyleView",
            "bar_color": null,
            "description_width": ""
          }
        },
        "51872c077b6e47b185a715e7ee577017": {
          "model_module": "@jupyter-widgets/base",
          "model_name": "LayoutModel",
          "model_module_version": "1.2.0",
          "state": {
            "_model_module": "@jupyter-widgets/base",
            "_model_module_version": "1.2.0",
            "_model_name": "LayoutModel",
            "_view_count": null,
            "_view_module": "@jupyter-widgets/base",
            "_view_module_version": "1.2.0",
            "_view_name": "LayoutView",
            "align_content": null,
            "align_items": null,
            "align_self": null,
            "border": null,
            "bottom": null,
            "display": null,
            "flex": null,
            "flex_flow": null,
            "grid_area": null,
            "grid_auto_columns": null,
            "grid_auto_flow": null,
            "grid_auto_rows": null,
            "grid_column": null,
            "grid_gap": null,
            "grid_row": null,
            "grid_template_areas": null,
            "grid_template_columns": null,
            "grid_template_rows": null,
            "height": null,
            "justify_content": null,
            "justify_items": null,
            "left": null,
            "margin": null,
            "max_height": null,
            "max_width": null,
            "min_height": null,
            "min_width": null,
            "object_fit": null,
            "object_position": null,
            "order": null,
            "overflow": null,
            "overflow_x": null,
            "overflow_y": null,
            "padding": null,
            "right": null,
            "top": null,
            "visibility": null,
            "width": null
          }
        },
        "8b704c70d42e4342980b50ad676f2756": {
          "model_module": "@jupyter-widgets/controls",
          "model_name": "DescriptionStyleModel",
          "model_module_version": "1.5.0",
          "state": {
            "_model_module": "@jupyter-widgets/controls",
            "_model_module_version": "1.5.0",
            "_model_name": "DescriptionStyleModel",
            "_view_count": null,
            "_view_module": "@jupyter-widgets/base",
            "_view_module_version": "1.2.0",
            "_view_name": "StyleView",
            "description_width": ""
          }
        },
        "ac583a738dca4906ac9e29b15d6a4e81": {
          "model_module": "@jupyter-widgets/controls",
          "model_name": "HBoxModel",
          "model_module_version": "1.5.0",
          "state": {
            "_dom_classes": [],
            "_model_module": "@jupyter-widgets/controls",
            "_model_module_version": "1.5.0",
            "_model_name": "HBoxModel",
            "_view_count": null,
            "_view_module": "@jupyter-widgets/controls",
            "_view_module_version": "1.5.0",
            "_view_name": "HBoxView",
            "box_style": "",
            "children": [
              "IPY_MODEL_a590fa95255d42b1b687690cc8041bdc",
              "IPY_MODEL_cfe4b97f19454e34879e794e1d98fc45",
              "IPY_MODEL_950b098bc9154559bf2d87715dc1167c"
            ],
            "layout": "IPY_MODEL_fec62d14bcbe4c5a8c633f6031ebc816"
          }
        },
        "a590fa95255d42b1b687690cc8041bdc": {
          "model_module": "@jupyter-widgets/controls",
          "model_name": "HTMLModel",
          "model_module_version": "1.5.0",
          "state": {
            "_dom_classes": [],
            "_model_module": "@jupyter-widgets/controls",
            "_model_module_version": "1.5.0",
            "_model_name": "HTMLModel",
            "_view_count": null,
            "_view_module": "@jupyter-widgets/controls",
            "_view_module_version": "1.5.0",
            "_view_name": "HTMLView",
            "description": "",
            "description_tooltip": null,
            "layout": "IPY_MODEL_e0c33692904b43c7a25fc419bfa7d285",
            "placeholder": "​",
            "style": "IPY_MODEL_709c3c24a0e34964bae3997facf2dda8",
            "value": "Downloading (…)olve/main/vocab.json: 100%"
          }
        },
        "cfe4b97f19454e34879e794e1d98fc45": {
          "model_module": "@jupyter-widgets/controls",
          "model_name": "FloatProgressModel",
          "model_module_version": "1.5.0",
          "state": {
            "_dom_classes": [],
            "_model_module": "@jupyter-widgets/controls",
            "_model_module_version": "1.5.0",
            "_model_name": "FloatProgressModel",
            "_view_count": null,
            "_view_module": "@jupyter-widgets/controls",
            "_view_module_version": "1.5.0",
            "_view_name": "ProgressView",
            "bar_style": "success",
            "description": "",
            "description_tooltip": null,
            "layout": "IPY_MODEL_7a8cb8331d6c4bd98ee167e2a84d6036",
            "max": 840253,
            "min": 0,
            "orientation": "horizontal",
            "style": "IPY_MODEL_cf1223d354bc43578035987bd397a4f2",
            "value": 840253
          }
        },
        "950b098bc9154559bf2d87715dc1167c": {
          "model_module": "@jupyter-widgets/controls",
          "model_name": "HTMLModel",
          "model_module_version": "1.5.0",
          "state": {
            "_dom_classes": [],
            "_model_module": "@jupyter-widgets/controls",
            "_model_module_version": "1.5.0",
            "_model_name": "HTMLModel",
            "_view_count": null,
            "_view_module": "@jupyter-widgets/controls",
            "_view_module_version": "1.5.0",
            "_view_name": "HTMLView",
            "description": "",
            "description_tooltip": null,
            "layout": "IPY_MODEL_3af1b5cccb1e4b1e9d444c17a1f02279",
            "placeholder": "​",
            "style": "IPY_MODEL_0ee9e1be4be744439fda69a1280d50ed",
            "value": " 840k/840k [00:00&lt;00:00, 14.2MB/s]"
          }
        },
        "fec62d14bcbe4c5a8c633f6031ebc816": {
          "model_module": "@jupyter-widgets/base",
          "model_name": "LayoutModel",
          "model_module_version": "1.2.0",
          "state": {
            "_model_module": "@jupyter-widgets/base",
            "_model_module_version": "1.2.0",
            "_model_name": "LayoutModel",
            "_view_count": null,
            "_view_module": "@jupyter-widgets/base",
            "_view_module_version": "1.2.0",
            "_view_name": "LayoutView",
            "align_content": null,
            "align_items": null,
            "align_self": null,
            "border": null,
            "bottom": null,
            "display": null,
            "flex": null,
            "flex_flow": null,
            "grid_area": null,
            "grid_auto_columns": null,
            "grid_auto_flow": null,
            "grid_auto_rows": null,
            "grid_column": null,
            "grid_gap": null,
            "grid_row": null,
            "grid_template_areas": null,
            "grid_template_columns": null,
            "grid_template_rows": null,
            "height": null,
            "justify_content": null,
            "justify_items": null,
            "left": null,
            "margin": null,
            "max_height": null,
            "max_width": null,
            "min_height": null,
            "min_width": null,
            "object_fit": null,
            "object_position": null,
            "order": null,
            "overflow": null,
            "overflow_x": null,
            "overflow_y": null,
            "padding": null,
            "right": null,
            "top": null,
            "visibility": null,
            "width": null
          }
        },
        "e0c33692904b43c7a25fc419bfa7d285": {
          "model_module": "@jupyter-widgets/base",
          "model_name": "LayoutModel",
          "model_module_version": "1.2.0",
          "state": {
            "_model_module": "@jupyter-widgets/base",
            "_model_module_version": "1.2.0",
            "_model_name": "LayoutModel",
            "_view_count": null,
            "_view_module": "@jupyter-widgets/base",
            "_view_module_version": "1.2.0",
            "_view_name": "LayoutView",
            "align_content": null,
            "align_items": null,
            "align_self": null,
            "border": null,
            "bottom": null,
            "display": null,
            "flex": null,
            "flex_flow": null,
            "grid_area": null,
            "grid_auto_columns": null,
            "grid_auto_flow": null,
            "grid_auto_rows": null,
            "grid_column": null,
            "grid_gap": null,
            "grid_row": null,
            "grid_template_areas": null,
            "grid_template_columns": null,
            "grid_template_rows": null,
            "height": null,
            "justify_content": null,
            "justify_items": null,
            "left": null,
            "margin": null,
            "max_height": null,
            "max_width": null,
            "min_height": null,
            "min_width": null,
            "object_fit": null,
            "object_position": null,
            "order": null,
            "overflow": null,
            "overflow_x": null,
            "overflow_y": null,
            "padding": null,
            "right": null,
            "top": null,
            "visibility": null,
            "width": null
          }
        },
        "709c3c24a0e34964bae3997facf2dda8": {
          "model_module": "@jupyter-widgets/controls",
          "model_name": "DescriptionStyleModel",
          "model_module_version": "1.5.0",
          "state": {
            "_model_module": "@jupyter-widgets/controls",
            "_model_module_version": "1.5.0",
            "_model_name": "DescriptionStyleModel",
            "_view_count": null,
            "_view_module": "@jupyter-widgets/base",
            "_view_module_version": "1.2.0",
            "_view_name": "StyleView",
            "description_width": ""
          }
        },
        "7a8cb8331d6c4bd98ee167e2a84d6036": {
          "model_module": "@jupyter-widgets/base",
          "model_name": "LayoutModel",
          "model_module_version": "1.2.0",
          "state": {
            "_model_module": "@jupyter-widgets/base",
            "_model_module_version": "1.2.0",
            "_model_name": "LayoutModel",
            "_view_count": null,
            "_view_module": "@jupyter-widgets/base",
            "_view_module_version": "1.2.0",
            "_view_name": "LayoutView",
            "align_content": null,
            "align_items": null,
            "align_self": null,
            "border": null,
            "bottom": null,
            "display": null,
            "flex": null,
            "flex_flow": null,
            "grid_area": null,
            "grid_auto_columns": null,
            "grid_auto_flow": null,
            "grid_auto_rows": null,
            "grid_column": null,
            "grid_gap": null,
            "grid_row": null,
            "grid_template_areas": null,
            "grid_template_columns": null,
            "grid_template_rows": null,
            "height": null,
            "justify_content": null,
            "justify_items": null,
            "left": null,
            "margin": null,
            "max_height": null,
            "max_width": null,
            "min_height": null,
            "min_width": null,
            "object_fit": null,
            "object_position": null,
            "order": null,
            "overflow": null,
            "overflow_x": null,
            "overflow_y": null,
            "padding": null,
            "right": null,
            "top": null,
            "visibility": null,
            "width": null
          }
        },
        "cf1223d354bc43578035987bd397a4f2": {
          "model_module": "@jupyter-widgets/controls",
          "model_name": "ProgressStyleModel",
          "model_module_version": "1.5.0",
          "state": {
            "_model_module": "@jupyter-widgets/controls",
            "_model_module_version": "1.5.0",
            "_model_name": "ProgressStyleModel",
            "_view_count": null,
            "_view_module": "@jupyter-widgets/base",
            "_view_module_version": "1.2.0",
            "_view_name": "StyleView",
            "bar_color": null,
            "description_width": ""
          }
        },
        "3af1b5cccb1e4b1e9d444c17a1f02279": {
          "model_module": "@jupyter-widgets/base",
          "model_name": "LayoutModel",
          "model_module_version": "1.2.0",
          "state": {
            "_model_module": "@jupyter-widgets/base",
            "_model_module_version": "1.2.0",
            "_model_name": "LayoutModel",
            "_view_count": null,
            "_view_module": "@jupyter-widgets/base",
            "_view_module_version": "1.2.0",
            "_view_name": "LayoutView",
            "align_content": null,
            "align_items": null,
            "align_self": null,
            "border": null,
            "bottom": null,
            "display": null,
            "flex": null,
            "flex_flow": null,
            "grid_area": null,
            "grid_auto_columns": null,
            "grid_auto_flow": null,
            "grid_auto_rows": null,
            "grid_column": null,
            "grid_gap": null,
            "grid_row": null,
            "grid_template_areas": null,
            "grid_template_columns": null,
            "grid_template_rows": null,
            "height": null,
            "justify_content": null,
            "justify_items": null,
            "left": null,
            "margin": null,
            "max_height": null,
            "max_width": null,
            "min_height": null,
            "min_width": null,
            "object_fit": null,
            "object_position": null,
            "order": null,
            "overflow": null,
            "overflow_x": null,
            "overflow_y": null,
            "padding": null,
            "right": null,
            "top": null,
            "visibility": null,
            "width": null
          }
        },
        "0ee9e1be4be744439fda69a1280d50ed": {
          "model_module": "@jupyter-widgets/controls",
          "model_name": "DescriptionStyleModel",
          "model_module_version": "1.5.0",
          "state": {
            "_model_module": "@jupyter-widgets/controls",
            "_model_module_version": "1.5.0",
            "_model_name": "DescriptionStyleModel",
            "_view_count": null,
            "_view_module": "@jupyter-widgets/base",
            "_view_module_version": "1.2.0",
            "_view_name": "StyleView",
            "description_width": ""
          }
        },
        "1cbd38e5309c4bd180ec96de0b42ab80": {
          "model_module": "@jupyter-widgets/controls",
          "model_name": "HBoxModel",
          "model_module_version": "1.5.0",
          "state": {
            "_dom_classes": [],
            "_model_module": "@jupyter-widgets/controls",
            "_model_module_version": "1.5.0",
            "_model_name": "HBoxModel",
            "_view_count": null,
            "_view_module": "@jupyter-widgets/controls",
            "_view_module_version": "1.5.0",
            "_view_name": "HBoxView",
            "box_style": "",
            "children": [
              "IPY_MODEL_f83276f87dec4a5fbb7a897b35eba52c",
              "IPY_MODEL_f91338c673fe41d5954e9219f5a30b7f",
              "IPY_MODEL_5961455a061d4037857d947197d30fd8"
            ],
            "layout": "IPY_MODEL_557c9c26a8a34807a189a6e7e83caafa"
          }
        },
        "f83276f87dec4a5fbb7a897b35eba52c": {
          "model_module": "@jupyter-widgets/controls",
          "model_name": "HTMLModel",
          "model_module_version": "1.5.0",
          "state": {
            "_dom_classes": [],
            "_model_module": "@jupyter-widgets/controls",
            "_model_module_version": "1.5.0",
            "_model_name": "HTMLModel",
            "_view_count": null,
            "_view_module": "@jupyter-widgets/controls",
            "_view_module_version": "1.5.0",
            "_view_name": "HTMLView",
            "description": "",
            "description_tooltip": null,
            "layout": "IPY_MODEL_1deddbc711de4184ae27dbc49d62c042",
            "placeholder": "​",
            "style": "IPY_MODEL_59e53ccc29884954924751a976641a79",
            "value": "Downloading (…)olve/main/merges.txt: 100%"
          }
        },
        "f91338c673fe41d5954e9219f5a30b7f": {
          "model_module": "@jupyter-widgets/controls",
          "model_name": "FloatProgressModel",
          "model_module_version": "1.5.0",
          "state": {
            "_dom_classes": [],
            "_model_module": "@jupyter-widgets/controls",
            "_model_module_version": "1.5.0",
            "_model_name": "FloatProgressModel",
            "_view_count": null,
            "_view_module": "@jupyter-widgets/controls",
            "_view_module_version": "1.5.0",
            "_view_name": "ProgressView",
            "bar_style": "success",
            "description": "",
            "description_tooltip": null,
            "layout": "IPY_MODEL_16358d687e414522be2fcbdea24004a9",
            "max": 498530,
            "min": 0,
            "orientation": "horizontal",
            "style": "IPY_MODEL_fdfd17b61ced464cb617deb9fe31c41b",
            "value": 498530
          }
        },
        "5961455a061d4037857d947197d30fd8": {
          "model_module": "@jupyter-widgets/controls",
          "model_name": "HTMLModel",
          "model_module_version": "1.5.0",
          "state": {
            "_dom_classes": [],
            "_model_module": "@jupyter-widgets/controls",
            "_model_module_version": "1.5.0",
            "_model_name": "HTMLModel",
            "_view_count": null,
            "_view_module": "@jupyter-widgets/controls",
            "_view_module_version": "1.5.0",
            "_view_name": "HTMLView",
            "description": "",
            "description_tooltip": null,
            "layout": "IPY_MODEL_370241a951764b7c8b4269563bccfd59",
            "placeholder": "​",
            "style": "IPY_MODEL_ba061336be4b43379ce3bdf5108acb16",
            "value": " 499k/499k [00:00&lt;00:00, 2.12MB/s]"
          }
        },
        "557c9c26a8a34807a189a6e7e83caafa": {
          "model_module": "@jupyter-widgets/base",
          "model_name": "LayoutModel",
          "model_module_version": "1.2.0",
          "state": {
            "_model_module": "@jupyter-widgets/base",
            "_model_module_version": "1.2.0",
            "_model_name": "LayoutModel",
            "_view_count": null,
            "_view_module": "@jupyter-widgets/base",
            "_view_module_version": "1.2.0",
            "_view_name": "LayoutView",
            "align_content": null,
            "align_items": null,
            "align_self": null,
            "border": null,
            "bottom": null,
            "display": null,
            "flex": null,
            "flex_flow": null,
            "grid_area": null,
            "grid_auto_columns": null,
            "grid_auto_flow": null,
            "grid_auto_rows": null,
            "grid_column": null,
            "grid_gap": null,
            "grid_row": null,
            "grid_template_areas": null,
            "grid_template_columns": null,
            "grid_template_rows": null,
            "height": null,
            "justify_content": null,
            "justify_items": null,
            "left": null,
            "margin": null,
            "max_height": null,
            "max_width": null,
            "min_height": null,
            "min_width": null,
            "object_fit": null,
            "object_position": null,
            "order": null,
            "overflow": null,
            "overflow_x": null,
            "overflow_y": null,
            "padding": null,
            "right": null,
            "top": null,
            "visibility": null,
            "width": null
          }
        },
        "1deddbc711de4184ae27dbc49d62c042": {
          "model_module": "@jupyter-widgets/base",
          "model_name": "LayoutModel",
          "model_module_version": "1.2.0",
          "state": {
            "_model_module": "@jupyter-widgets/base",
            "_model_module_version": "1.2.0",
            "_model_name": "LayoutModel",
            "_view_count": null,
            "_view_module": "@jupyter-widgets/base",
            "_view_module_version": "1.2.0",
            "_view_name": "LayoutView",
            "align_content": null,
            "align_items": null,
            "align_self": null,
            "border": null,
            "bottom": null,
            "display": null,
            "flex": null,
            "flex_flow": null,
            "grid_area": null,
            "grid_auto_columns": null,
            "grid_auto_flow": null,
            "grid_auto_rows": null,
            "grid_column": null,
            "grid_gap": null,
            "grid_row": null,
            "grid_template_areas": null,
            "grid_template_columns": null,
            "grid_template_rows": null,
            "height": null,
            "justify_content": null,
            "justify_items": null,
            "left": null,
            "margin": null,
            "max_height": null,
            "max_width": null,
            "min_height": null,
            "min_width": null,
            "object_fit": null,
            "object_position": null,
            "order": null,
            "overflow": null,
            "overflow_x": null,
            "overflow_y": null,
            "padding": null,
            "right": null,
            "top": null,
            "visibility": null,
            "width": null
          }
        },
        "59e53ccc29884954924751a976641a79": {
          "model_module": "@jupyter-widgets/controls",
          "model_name": "DescriptionStyleModel",
          "model_module_version": "1.5.0",
          "state": {
            "_model_module": "@jupyter-widgets/controls",
            "_model_module_version": "1.5.0",
            "_model_name": "DescriptionStyleModel",
            "_view_count": null,
            "_view_module": "@jupyter-widgets/base",
            "_view_module_version": "1.2.0",
            "_view_name": "StyleView",
            "description_width": ""
          }
        },
        "16358d687e414522be2fcbdea24004a9": {
          "model_module": "@jupyter-widgets/base",
          "model_name": "LayoutModel",
          "model_module_version": "1.2.0",
          "state": {
            "_model_module": "@jupyter-widgets/base",
            "_model_module_version": "1.2.0",
            "_model_name": "LayoutModel",
            "_view_count": null,
            "_view_module": "@jupyter-widgets/base",
            "_view_module_version": "1.2.0",
            "_view_name": "LayoutView",
            "align_content": null,
            "align_items": null,
            "align_self": null,
            "border": null,
            "bottom": null,
            "display": null,
            "flex": null,
            "flex_flow": null,
            "grid_area": null,
            "grid_auto_columns": null,
            "grid_auto_flow": null,
            "grid_auto_rows": null,
            "grid_column": null,
            "grid_gap": null,
            "grid_row": null,
            "grid_template_areas": null,
            "grid_template_columns": null,
            "grid_template_rows": null,
            "height": null,
            "justify_content": null,
            "justify_items": null,
            "left": null,
            "margin": null,
            "max_height": null,
            "max_width": null,
            "min_height": null,
            "min_width": null,
            "object_fit": null,
            "object_position": null,
            "order": null,
            "overflow": null,
            "overflow_x": null,
            "overflow_y": null,
            "padding": null,
            "right": null,
            "top": null,
            "visibility": null,
            "width": null
          }
        },
        "fdfd17b61ced464cb617deb9fe31c41b": {
          "model_module": "@jupyter-widgets/controls",
          "model_name": "ProgressStyleModel",
          "model_module_version": "1.5.0",
          "state": {
            "_model_module": "@jupyter-widgets/controls",
            "_model_module_version": "1.5.0",
            "_model_name": "ProgressStyleModel",
            "_view_count": null,
            "_view_module": "@jupyter-widgets/base",
            "_view_module_version": "1.2.0",
            "_view_name": "StyleView",
            "bar_color": null,
            "description_width": ""
          }
        },
        "370241a951764b7c8b4269563bccfd59": {
          "model_module": "@jupyter-widgets/base",
          "model_name": "LayoutModel",
          "model_module_version": "1.2.0",
          "state": {
            "_model_module": "@jupyter-widgets/base",
            "_model_module_version": "1.2.0",
            "_model_name": "LayoutModel",
            "_view_count": null,
            "_view_module": "@jupyter-widgets/base",
            "_view_module_version": "1.2.0",
            "_view_name": "LayoutView",
            "align_content": null,
            "align_items": null,
            "align_self": null,
            "border": null,
            "bottom": null,
            "display": null,
            "flex": null,
            "flex_flow": null,
            "grid_area": null,
            "grid_auto_columns": null,
            "grid_auto_flow": null,
            "grid_auto_rows": null,
            "grid_column": null,
            "grid_gap": null,
            "grid_row": null,
            "grid_template_areas": null,
            "grid_template_columns": null,
            "grid_template_rows": null,
            "height": null,
            "justify_content": null,
            "justify_items": null,
            "left": null,
            "margin": null,
            "max_height": null,
            "max_width": null,
            "min_height": null,
            "min_width": null,
            "object_fit": null,
            "object_position": null,
            "order": null,
            "overflow": null,
            "overflow_x": null,
            "overflow_y": null,
            "padding": null,
            "right": null,
            "top": null,
            "visibility": null,
            "width": null
          }
        },
        "ba061336be4b43379ce3bdf5108acb16": {
          "model_module": "@jupyter-widgets/controls",
          "model_name": "DescriptionStyleModel",
          "model_module_version": "1.5.0",
          "state": {
            "_model_module": "@jupyter-widgets/controls",
            "_model_module_version": "1.5.0",
            "_model_name": "DescriptionStyleModel",
            "_view_count": null,
            "_view_module": "@jupyter-widgets/base",
            "_view_module_version": "1.2.0",
            "_view_name": "StyleView",
            "description_width": ""
          }
        },
        "21f1d304bac5413ba0ca383a9e5a2a2f": {
          "model_module": "@jupyter-widgets/controls",
          "model_name": "HBoxModel",
          "model_module_version": "1.5.0",
          "state": {
            "_dom_classes": [],
            "_model_module": "@jupyter-widgets/controls",
            "_model_module_version": "1.5.0",
            "_model_name": "HBoxModel",
            "_view_count": null,
            "_view_module": "@jupyter-widgets/controls",
            "_view_module_version": "1.5.0",
            "_view_name": "HBoxView",
            "box_style": "",
            "children": [
              "IPY_MODEL_33bda293bac140baa6ff537629d5d36b",
              "IPY_MODEL_07a0ba9df3e7494f9641ecc643f61573",
              "IPY_MODEL_d440184d93ca44529c876ca123655466"
            ],
            "layout": "IPY_MODEL_f0a0f7f4c9294c80a8f350f08ac06a17"
          }
        },
        "33bda293bac140baa6ff537629d5d36b": {
          "model_module": "@jupyter-widgets/controls",
          "model_name": "HTMLModel",
          "model_module_version": "1.5.0",
          "state": {
            "_dom_classes": [],
            "_model_module": "@jupyter-widgets/controls",
            "_model_module_version": "1.5.0",
            "_model_name": "HTMLModel",
            "_view_count": null,
            "_view_module": "@jupyter-widgets/controls",
            "_view_module_version": "1.5.0",
            "_view_name": "HTMLView",
            "description": "",
            "description_tooltip": null,
            "layout": "IPY_MODEL_218b936948b042e6af0dbdb195747f67",
            "placeholder": "​",
            "style": "IPY_MODEL_59d0d1a4c0924f52894a981ae5c9730b",
            "value": "Downloading (…)cial_tokens_map.json: 100%"
          }
        },
        "07a0ba9df3e7494f9641ecc643f61573": {
          "model_module": "@jupyter-widgets/controls",
          "model_name": "FloatProgressModel",
          "model_module_version": "1.5.0",
          "state": {
            "_dom_classes": [],
            "_model_module": "@jupyter-widgets/controls",
            "_model_module_version": "1.5.0",
            "_model_name": "FloatProgressModel",
            "_view_count": null,
            "_view_module": "@jupyter-widgets/controls",
            "_view_module_version": "1.5.0",
            "_view_name": "ProgressView",
            "bar_style": "success",
            "description": "",
            "description_tooltip": null,
            "layout": "IPY_MODEL_499128d4aca0447395862d310af512e6",
            "max": 262,
            "min": 0,
            "orientation": "horizontal",
            "style": "IPY_MODEL_a10e7fb6bc824be687adceb0ada868b3",
            "value": 262
          }
        },
        "d440184d93ca44529c876ca123655466": {
          "model_module": "@jupyter-widgets/controls",
          "model_name": "HTMLModel",
          "model_module_version": "1.5.0",
          "state": {
            "_dom_classes": [],
            "_model_module": "@jupyter-widgets/controls",
            "_model_module_version": "1.5.0",
            "_model_name": "HTMLModel",
            "_view_count": null,
            "_view_module": "@jupyter-widgets/controls",
            "_view_module_version": "1.5.0",
            "_view_name": "HTMLView",
            "description": "",
            "description_tooltip": null,
            "layout": "IPY_MODEL_5a617fdc46224a539a64ea36d3f270d1",
            "placeholder": "​",
            "style": "IPY_MODEL_cc78be5cd9664b2998486312cb2fe760",
            "value": " 262/262 [00:00&lt;00:00, 4.32kB/s]"
          }
        },
        "f0a0f7f4c9294c80a8f350f08ac06a17": {
          "model_module": "@jupyter-widgets/base",
          "model_name": "LayoutModel",
          "model_module_version": "1.2.0",
          "state": {
            "_model_module": "@jupyter-widgets/base",
            "_model_module_version": "1.2.0",
            "_model_name": "LayoutModel",
            "_view_count": null,
            "_view_module": "@jupyter-widgets/base",
            "_view_module_version": "1.2.0",
            "_view_name": "LayoutView",
            "align_content": null,
            "align_items": null,
            "align_self": null,
            "border": null,
            "bottom": null,
            "display": null,
            "flex": null,
            "flex_flow": null,
            "grid_area": null,
            "grid_auto_columns": null,
            "grid_auto_flow": null,
            "grid_auto_rows": null,
            "grid_column": null,
            "grid_gap": null,
            "grid_row": null,
            "grid_template_areas": null,
            "grid_template_columns": null,
            "grid_template_rows": null,
            "height": null,
            "justify_content": null,
            "justify_items": null,
            "left": null,
            "margin": null,
            "max_height": null,
            "max_width": null,
            "min_height": null,
            "min_width": null,
            "object_fit": null,
            "object_position": null,
            "order": null,
            "overflow": null,
            "overflow_x": null,
            "overflow_y": null,
            "padding": null,
            "right": null,
            "top": null,
            "visibility": null,
            "width": null
          }
        },
        "218b936948b042e6af0dbdb195747f67": {
          "model_module": "@jupyter-widgets/base",
          "model_name": "LayoutModel",
          "model_module_version": "1.2.0",
          "state": {
            "_model_module": "@jupyter-widgets/base",
            "_model_module_version": "1.2.0",
            "_model_name": "LayoutModel",
            "_view_count": null,
            "_view_module": "@jupyter-widgets/base",
            "_view_module_version": "1.2.0",
            "_view_name": "LayoutView",
            "align_content": null,
            "align_items": null,
            "align_self": null,
            "border": null,
            "bottom": null,
            "display": null,
            "flex": null,
            "flex_flow": null,
            "grid_area": null,
            "grid_auto_columns": null,
            "grid_auto_flow": null,
            "grid_auto_rows": null,
            "grid_column": null,
            "grid_gap": null,
            "grid_row": null,
            "grid_template_areas": null,
            "grid_template_columns": null,
            "grid_template_rows": null,
            "height": null,
            "justify_content": null,
            "justify_items": null,
            "left": null,
            "margin": null,
            "max_height": null,
            "max_width": null,
            "min_height": null,
            "min_width": null,
            "object_fit": null,
            "object_position": null,
            "order": null,
            "overflow": null,
            "overflow_x": null,
            "overflow_y": null,
            "padding": null,
            "right": null,
            "top": null,
            "visibility": null,
            "width": null
          }
        },
        "59d0d1a4c0924f52894a981ae5c9730b": {
          "model_module": "@jupyter-widgets/controls",
          "model_name": "DescriptionStyleModel",
          "model_module_version": "1.5.0",
          "state": {
            "_model_module": "@jupyter-widgets/controls",
            "_model_module_version": "1.5.0",
            "_model_name": "DescriptionStyleModel",
            "_view_count": null,
            "_view_module": "@jupyter-widgets/base",
            "_view_module_version": "1.2.0",
            "_view_name": "StyleView",
            "description_width": ""
          }
        },
        "499128d4aca0447395862d310af512e6": {
          "model_module": "@jupyter-widgets/base",
          "model_name": "LayoutModel",
          "model_module_version": "1.2.0",
          "state": {
            "_model_module": "@jupyter-widgets/base",
            "_model_module_version": "1.2.0",
            "_model_name": "LayoutModel",
            "_view_count": null,
            "_view_module": "@jupyter-widgets/base",
            "_view_module_version": "1.2.0",
            "_view_name": "LayoutView",
            "align_content": null,
            "align_items": null,
            "align_self": null,
            "border": null,
            "bottom": null,
            "display": null,
            "flex": null,
            "flex_flow": null,
            "grid_area": null,
            "grid_auto_columns": null,
            "grid_auto_flow": null,
            "grid_auto_rows": null,
            "grid_column": null,
            "grid_gap": null,
            "grid_row": null,
            "grid_template_areas": null,
            "grid_template_columns": null,
            "grid_template_rows": null,
            "height": null,
            "justify_content": null,
            "justify_items": null,
            "left": null,
            "margin": null,
            "max_height": null,
            "max_width": null,
            "min_height": null,
            "min_width": null,
            "object_fit": null,
            "object_position": null,
            "order": null,
            "overflow": null,
            "overflow_x": null,
            "overflow_y": null,
            "padding": null,
            "right": null,
            "top": null,
            "visibility": null,
            "width": null
          }
        },
        "a10e7fb6bc824be687adceb0ada868b3": {
          "model_module": "@jupyter-widgets/controls",
          "model_name": "ProgressStyleModel",
          "model_module_version": "1.5.0",
          "state": {
            "_model_module": "@jupyter-widgets/controls",
            "_model_module_version": "1.5.0",
            "_model_name": "ProgressStyleModel",
            "_view_count": null,
            "_view_module": "@jupyter-widgets/base",
            "_view_module_version": "1.2.0",
            "_view_name": "StyleView",
            "bar_color": null,
            "description_width": ""
          }
        },
        "5a617fdc46224a539a64ea36d3f270d1": {
          "model_module": "@jupyter-widgets/base",
          "model_name": "LayoutModel",
          "model_module_version": "1.2.0",
          "state": {
            "_model_module": "@jupyter-widgets/base",
            "_model_module_version": "1.2.0",
            "_model_name": "LayoutModel",
            "_view_count": null,
            "_view_module": "@jupyter-widgets/base",
            "_view_module_version": "1.2.0",
            "_view_name": "LayoutView",
            "align_content": null,
            "align_items": null,
            "align_self": null,
            "border": null,
            "bottom": null,
            "display": null,
            "flex": null,
            "flex_flow": null,
            "grid_area": null,
            "grid_auto_columns": null,
            "grid_auto_flow": null,
            "grid_auto_rows": null,
            "grid_column": null,
            "grid_gap": null,
            "grid_row": null,
            "grid_template_areas": null,
            "grid_template_columns": null,
            "grid_template_rows": null,
            "height": null,
            "justify_content": null,
            "justify_items": null,
            "left": null,
            "margin": null,
            "max_height": null,
            "max_width": null,
            "min_height": null,
            "min_width": null,
            "object_fit": null,
            "object_position": null,
            "order": null,
            "overflow": null,
            "overflow_x": null,
            "overflow_y": null,
            "padding": null,
            "right": null,
            "top": null,
            "visibility": null,
            "width": null
          }
        },
        "cc78be5cd9664b2998486312cb2fe760": {
          "model_module": "@jupyter-widgets/controls",
          "model_name": "DescriptionStyleModel",
          "model_module_version": "1.5.0",
          "state": {
            "_model_module": "@jupyter-widgets/controls",
            "_model_module_version": "1.5.0",
            "_model_name": "DescriptionStyleModel",
            "_view_count": null,
            "_view_module": "@jupyter-widgets/base",
            "_view_module_version": "1.2.0",
            "_view_name": "StyleView",
            "description_width": ""
          }
        },
        "fcc9923b32f04a31857165081d8b7c94": {
          "model_module": "@jupyter-widgets/controls",
          "model_name": "HBoxModel",
          "model_module_version": "1.5.0",
          "state": {
            "_dom_classes": [],
            "_model_module": "@jupyter-widgets/controls",
            "_model_module_version": "1.5.0",
            "_model_name": "HBoxModel",
            "_view_count": null,
            "_view_module": "@jupyter-widgets/controls",
            "_view_module_version": "1.5.0",
            "_view_name": "HBoxView",
            "box_style": "",
            "children": [
              "IPY_MODEL_548e3a4ef7634ede816a44d900aceb90",
              "IPY_MODEL_352b967ee9e849acab7f16cc1461d800",
              "IPY_MODEL_28a82ccd2f9745aba666d4ba411bd2ea"
            ],
            "layout": "IPY_MODEL_a5c59d4fdf16404e921bf8fa68484f52"
          }
        },
        "548e3a4ef7634ede816a44d900aceb90": {
          "model_module": "@jupyter-widgets/controls",
          "model_name": "HTMLModel",
          "model_module_version": "1.5.0",
          "state": {
            "_dom_classes": [],
            "_model_module": "@jupyter-widgets/controls",
            "_model_module_version": "1.5.0",
            "_model_name": "HTMLModel",
            "_view_count": null,
            "_view_module": "@jupyter-widgets/controls",
            "_view_module_version": "1.5.0",
            "_view_name": "HTMLView",
            "description": "",
            "description_tooltip": null,
            "layout": "IPY_MODEL_47ab828983be4997ac0443076ff36e0a",
            "placeholder": "​",
            "style": "IPY_MODEL_50d52cfff43f427d8ec8265ed24cfb96",
            "value": "Downloading (…)lve/main/config.json: 100%"
          }
        },
        "352b967ee9e849acab7f16cc1461d800": {
          "model_module": "@jupyter-widgets/controls",
          "model_name": "FloatProgressModel",
          "model_module_version": "1.5.0",
          "state": {
            "_dom_classes": [],
            "_model_module": "@jupyter-widgets/controls",
            "_model_module_version": "1.5.0",
            "_model_name": "FloatProgressModel",
            "_view_count": null,
            "_view_module": "@jupyter-widgets/controls",
            "_view_module_version": "1.5.0",
            "_view_name": "ProgressView",
            "bar_style": "success",
            "description": "",
            "description_tooltip": null,
            "layout": "IPY_MODEL_7b147cb19b8c4e2fb4c65b11ec084097",
            "max": 914,
            "min": 0,
            "orientation": "horizontal",
            "style": "IPY_MODEL_8a57a013f0a2482fad28a2fb59dcfd30",
            "value": 914
          }
        },
        "28a82ccd2f9745aba666d4ba411bd2ea": {
          "model_module": "@jupyter-widgets/controls",
          "model_name": "HTMLModel",
          "model_module_version": "1.5.0",
          "state": {
            "_dom_classes": [],
            "_model_module": "@jupyter-widgets/controls",
            "_model_module_version": "1.5.0",
            "_model_name": "HTMLModel",
            "_view_count": null,
            "_view_module": "@jupyter-widgets/controls",
            "_view_module_version": "1.5.0",
            "_view_name": "HTMLView",
            "description": "",
            "description_tooltip": null,
            "layout": "IPY_MODEL_a9e8cdfd10684509a18fe6d58140777b",
            "placeholder": "​",
            "style": "IPY_MODEL_3a6c6df96eb44bf4a1e6b18e2cbcf733",
            "value": " 914/914 [00:00&lt;00:00, 12.3kB/s]"
          }
        },
        "a5c59d4fdf16404e921bf8fa68484f52": {
          "model_module": "@jupyter-widgets/base",
          "model_name": "LayoutModel",
          "model_module_version": "1.2.0",
          "state": {
            "_model_module": "@jupyter-widgets/base",
            "_model_module_version": "1.2.0",
            "_model_name": "LayoutModel",
            "_view_count": null,
            "_view_module": "@jupyter-widgets/base",
            "_view_module_version": "1.2.0",
            "_view_name": "LayoutView",
            "align_content": null,
            "align_items": null,
            "align_self": null,
            "border": null,
            "bottom": null,
            "display": null,
            "flex": null,
            "flex_flow": null,
            "grid_area": null,
            "grid_auto_columns": null,
            "grid_auto_flow": null,
            "grid_auto_rows": null,
            "grid_column": null,
            "grid_gap": null,
            "grid_row": null,
            "grid_template_areas": null,
            "grid_template_columns": null,
            "grid_template_rows": null,
            "height": null,
            "justify_content": null,
            "justify_items": null,
            "left": null,
            "margin": null,
            "max_height": null,
            "max_width": null,
            "min_height": null,
            "min_width": null,
            "object_fit": null,
            "object_position": null,
            "order": null,
            "overflow": null,
            "overflow_x": null,
            "overflow_y": null,
            "padding": null,
            "right": null,
            "top": null,
            "visibility": null,
            "width": null
          }
        },
        "47ab828983be4997ac0443076ff36e0a": {
          "model_module": "@jupyter-widgets/base",
          "model_name": "LayoutModel",
          "model_module_version": "1.2.0",
          "state": {
            "_model_module": "@jupyter-widgets/base",
            "_model_module_version": "1.2.0",
            "_model_name": "LayoutModel",
            "_view_count": null,
            "_view_module": "@jupyter-widgets/base",
            "_view_module_version": "1.2.0",
            "_view_name": "LayoutView",
            "align_content": null,
            "align_items": null,
            "align_self": null,
            "border": null,
            "bottom": null,
            "display": null,
            "flex": null,
            "flex_flow": null,
            "grid_area": null,
            "grid_auto_columns": null,
            "grid_auto_flow": null,
            "grid_auto_rows": null,
            "grid_column": null,
            "grid_gap": null,
            "grid_row": null,
            "grid_template_areas": null,
            "grid_template_columns": null,
            "grid_template_rows": null,
            "height": null,
            "justify_content": null,
            "justify_items": null,
            "left": null,
            "margin": null,
            "max_height": null,
            "max_width": null,
            "min_height": null,
            "min_width": null,
            "object_fit": null,
            "object_position": null,
            "order": null,
            "overflow": null,
            "overflow_x": null,
            "overflow_y": null,
            "padding": null,
            "right": null,
            "top": null,
            "visibility": null,
            "width": null
          }
        },
        "50d52cfff43f427d8ec8265ed24cfb96": {
          "model_module": "@jupyter-widgets/controls",
          "model_name": "DescriptionStyleModel",
          "model_module_version": "1.5.0",
          "state": {
            "_model_module": "@jupyter-widgets/controls",
            "_model_module_version": "1.5.0",
            "_model_name": "DescriptionStyleModel",
            "_view_count": null,
            "_view_module": "@jupyter-widgets/base",
            "_view_module_version": "1.2.0",
            "_view_name": "StyleView",
            "description_width": ""
          }
        },
        "7b147cb19b8c4e2fb4c65b11ec084097": {
          "model_module": "@jupyter-widgets/base",
          "model_name": "LayoutModel",
          "model_module_version": "1.2.0",
          "state": {
            "_model_module": "@jupyter-widgets/base",
            "_model_module_version": "1.2.0",
            "_model_name": "LayoutModel",
            "_view_count": null,
            "_view_module": "@jupyter-widgets/base",
            "_view_module_version": "1.2.0",
            "_view_name": "LayoutView",
            "align_content": null,
            "align_items": null,
            "align_self": null,
            "border": null,
            "bottom": null,
            "display": null,
            "flex": null,
            "flex_flow": null,
            "grid_area": null,
            "grid_auto_columns": null,
            "grid_auto_flow": null,
            "grid_auto_rows": null,
            "grid_column": null,
            "grid_gap": null,
            "grid_row": null,
            "grid_template_areas": null,
            "grid_template_columns": null,
            "grid_template_rows": null,
            "height": null,
            "justify_content": null,
            "justify_items": null,
            "left": null,
            "margin": null,
            "max_height": null,
            "max_width": null,
            "min_height": null,
            "min_width": null,
            "object_fit": null,
            "object_position": null,
            "order": null,
            "overflow": null,
            "overflow_x": null,
            "overflow_y": null,
            "padding": null,
            "right": null,
            "top": null,
            "visibility": null,
            "width": null
          }
        },
        "8a57a013f0a2482fad28a2fb59dcfd30": {
          "model_module": "@jupyter-widgets/controls",
          "model_name": "ProgressStyleModel",
          "model_module_version": "1.5.0",
          "state": {
            "_model_module": "@jupyter-widgets/controls",
            "_model_module_version": "1.5.0",
            "_model_name": "ProgressStyleModel",
            "_view_count": null,
            "_view_module": "@jupyter-widgets/base",
            "_view_module_version": "1.2.0",
            "_view_name": "StyleView",
            "bar_color": null,
            "description_width": ""
          }
        },
        "a9e8cdfd10684509a18fe6d58140777b": {
          "model_module": "@jupyter-widgets/base",
          "model_name": "LayoutModel",
          "model_module_version": "1.2.0",
          "state": {
            "_model_module": "@jupyter-widgets/base",
            "_model_module_version": "1.2.0",
            "_model_name": "LayoutModel",
            "_view_count": null,
            "_view_module": "@jupyter-widgets/base",
            "_view_module_version": "1.2.0",
            "_view_name": "LayoutView",
            "align_content": null,
            "align_items": null,
            "align_self": null,
            "border": null,
            "bottom": null,
            "display": null,
            "flex": null,
            "flex_flow": null,
            "grid_area": null,
            "grid_auto_columns": null,
            "grid_auto_flow": null,
            "grid_auto_rows": null,
            "grid_column": null,
            "grid_gap": null,
            "grid_row": null,
            "grid_template_areas": null,
            "grid_template_columns": null,
            "grid_template_rows": null,
            "height": null,
            "justify_content": null,
            "justify_items": null,
            "left": null,
            "margin": null,
            "max_height": null,
            "max_width": null,
            "min_height": null,
            "min_width": null,
            "object_fit": null,
            "object_position": null,
            "order": null,
            "overflow": null,
            "overflow_x": null,
            "overflow_y": null,
            "padding": null,
            "right": null,
            "top": null,
            "visibility": null,
            "width": null
          }
        },
        "3a6c6df96eb44bf4a1e6b18e2cbcf733": {
          "model_module": "@jupyter-widgets/controls",
          "model_name": "DescriptionStyleModel",
          "model_module_version": "1.5.0",
          "state": {
            "_model_module": "@jupyter-widgets/controls",
            "_model_module_version": "1.5.0",
            "_model_name": "DescriptionStyleModel",
            "_view_count": null,
            "_view_module": "@jupyter-widgets/base",
            "_view_module_version": "1.2.0",
            "_view_name": "StyleView",
            "description_width": ""
          }
        },
        "d464ca04c23c4e83880ada0efa1c2b9b": {
          "model_module": "@jupyter-widgets/controls",
          "model_name": "HBoxModel",
          "model_module_version": "1.5.0",
          "state": {
            "_dom_classes": [],
            "_model_module": "@jupyter-widgets/controls",
            "_model_module_version": "1.5.0",
            "_model_name": "HBoxModel",
            "_view_count": null,
            "_view_module": "@jupyter-widgets/controls",
            "_view_module_version": "1.5.0",
            "_view_name": "HBoxView",
            "box_style": "",
            "children": [
              "IPY_MODEL_e05e9ba7963e48929558142e73c5cb7a",
              "IPY_MODEL_9bb579109c0f4eca938b5cf713700469",
              "IPY_MODEL_399cca10f8d54a1885eb59140ae3bc66"
            ],
            "layout": "IPY_MODEL_776b3192fa6e47d298fdc1a541f63dd8"
          }
        },
        "e05e9ba7963e48929558142e73c5cb7a": {
          "model_module": "@jupyter-widgets/controls",
          "model_name": "HTMLModel",
          "model_module_version": "1.5.0",
          "state": {
            "_dom_classes": [],
            "_model_module": "@jupyter-widgets/controls",
            "_model_module_version": "1.5.0",
            "_model_name": "HTMLModel",
            "_view_count": null,
            "_view_module": "@jupyter-widgets/controls",
            "_view_module_version": "1.5.0",
            "_view_name": "HTMLView",
            "description": "",
            "description_tooltip": null,
            "layout": "IPY_MODEL_ab05204a89654ff0be788d0d6ba84c9a",
            "placeholder": "​",
            "style": "IPY_MODEL_55f95ced5d9f477f8bf60a4dc4cae1ae",
            "value": "Downloading pytorch_model.bin: 100%"
          }
        },
        "9bb579109c0f4eca938b5cf713700469": {
          "model_module": "@jupyter-widgets/controls",
          "model_name": "FloatProgressModel",
          "model_module_version": "1.5.0",
          "state": {
            "_dom_classes": [],
            "_model_module": "@jupyter-widgets/controls",
            "_model_module_version": "1.5.0",
            "_model_name": "FloatProgressModel",
            "_view_count": null,
            "_view_module": "@jupyter-widgets/controls",
            "_view_module_version": "1.5.0",
            "_view_name": "ProgressView",
            "bar_style": "success",
            "description": "",
            "description_tooltip": null,
            "layout": "IPY_MODEL_636ebf2160d54dcbb9efb0dcd7b89ba1",
            "max": 261499792,
            "min": 0,
            "orientation": "horizontal",
            "style": "IPY_MODEL_ea8fea21ba944b7992550fc6ca4e1a27",
            "value": 261499792
          }
        },
        "399cca10f8d54a1885eb59140ae3bc66": {
          "model_module": "@jupyter-widgets/controls",
          "model_name": "HTMLModel",
          "model_module_version": "1.5.0",
          "state": {
            "_dom_classes": [],
            "_model_module": "@jupyter-widgets/controls",
            "_model_module_version": "1.5.0",
            "_model_name": "HTMLModel",
            "_view_count": null,
            "_view_module": "@jupyter-widgets/controls",
            "_view_module_version": "1.5.0",
            "_view_name": "HTMLView",
            "description": "",
            "description_tooltip": null,
            "layout": "IPY_MODEL_8912a408d8ec4212866806b61fcaf46c",
            "placeholder": "​",
            "style": "IPY_MODEL_1ee77cada3434d59916bd5fec5c3c44c",
            "value": " 261M/261M [00:17&lt;00:00, 17.7MB/s]"
          }
        },
        "776b3192fa6e47d298fdc1a541f63dd8": {
          "model_module": "@jupyter-widgets/base",
          "model_name": "LayoutModel",
          "model_module_version": "1.2.0",
          "state": {
            "_model_module": "@jupyter-widgets/base",
            "_model_module_version": "1.2.0",
            "_model_name": "LayoutModel",
            "_view_count": null,
            "_view_module": "@jupyter-widgets/base",
            "_view_module_version": "1.2.0",
            "_view_name": "LayoutView",
            "align_content": null,
            "align_items": null,
            "align_self": null,
            "border": null,
            "bottom": null,
            "display": null,
            "flex": null,
            "flex_flow": null,
            "grid_area": null,
            "grid_auto_columns": null,
            "grid_auto_flow": null,
            "grid_auto_rows": null,
            "grid_column": null,
            "grid_gap": null,
            "grid_row": null,
            "grid_template_areas": null,
            "grid_template_columns": null,
            "grid_template_rows": null,
            "height": null,
            "justify_content": null,
            "justify_items": null,
            "left": null,
            "margin": null,
            "max_height": null,
            "max_width": null,
            "min_height": null,
            "min_width": null,
            "object_fit": null,
            "object_position": null,
            "order": null,
            "overflow": null,
            "overflow_x": null,
            "overflow_y": null,
            "padding": null,
            "right": null,
            "top": null,
            "visibility": null,
            "width": null
          }
        },
        "ab05204a89654ff0be788d0d6ba84c9a": {
          "model_module": "@jupyter-widgets/base",
          "model_name": "LayoutModel",
          "model_module_version": "1.2.0",
          "state": {
            "_model_module": "@jupyter-widgets/base",
            "_model_module_version": "1.2.0",
            "_model_name": "LayoutModel",
            "_view_count": null,
            "_view_module": "@jupyter-widgets/base",
            "_view_module_version": "1.2.0",
            "_view_name": "LayoutView",
            "align_content": null,
            "align_items": null,
            "align_self": null,
            "border": null,
            "bottom": null,
            "display": null,
            "flex": null,
            "flex_flow": null,
            "grid_area": null,
            "grid_auto_columns": null,
            "grid_auto_flow": null,
            "grid_auto_rows": null,
            "grid_column": null,
            "grid_gap": null,
            "grid_row": null,
            "grid_template_areas": null,
            "grid_template_columns": null,
            "grid_template_rows": null,
            "height": null,
            "justify_content": null,
            "justify_items": null,
            "left": null,
            "margin": null,
            "max_height": null,
            "max_width": null,
            "min_height": null,
            "min_width": null,
            "object_fit": null,
            "object_position": null,
            "order": null,
            "overflow": null,
            "overflow_x": null,
            "overflow_y": null,
            "padding": null,
            "right": null,
            "top": null,
            "visibility": null,
            "width": null
          }
        },
        "55f95ced5d9f477f8bf60a4dc4cae1ae": {
          "model_module": "@jupyter-widgets/controls",
          "model_name": "DescriptionStyleModel",
          "model_module_version": "1.5.0",
          "state": {
            "_model_module": "@jupyter-widgets/controls",
            "_model_module_version": "1.5.0",
            "_model_name": "DescriptionStyleModel",
            "_view_count": null,
            "_view_module": "@jupyter-widgets/base",
            "_view_module_version": "1.2.0",
            "_view_name": "StyleView",
            "description_width": ""
          }
        },
        "636ebf2160d54dcbb9efb0dcd7b89ba1": {
          "model_module": "@jupyter-widgets/base",
          "model_name": "LayoutModel",
          "model_module_version": "1.2.0",
          "state": {
            "_model_module": "@jupyter-widgets/base",
            "_model_module_version": "1.2.0",
            "_model_name": "LayoutModel",
            "_view_count": null,
            "_view_module": "@jupyter-widgets/base",
            "_view_module_version": "1.2.0",
            "_view_name": "LayoutView",
            "align_content": null,
            "align_items": null,
            "align_self": null,
            "border": null,
            "bottom": null,
            "display": null,
            "flex": null,
            "flex_flow": null,
            "grid_area": null,
            "grid_auto_columns": null,
            "grid_auto_flow": null,
            "grid_auto_rows": null,
            "grid_column": null,
            "grid_gap": null,
            "grid_row": null,
            "grid_template_areas": null,
            "grid_template_columns": null,
            "grid_template_rows": null,
            "height": null,
            "justify_content": null,
            "justify_items": null,
            "left": null,
            "margin": null,
            "max_height": null,
            "max_width": null,
            "min_height": null,
            "min_width": null,
            "object_fit": null,
            "object_position": null,
            "order": null,
            "overflow": null,
            "overflow_x": null,
            "overflow_y": null,
            "padding": null,
            "right": null,
            "top": null,
            "visibility": null,
            "width": null
          }
        },
        "ea8fea21ba944b7992550fc6ca4e1a27": {
          "model_module": "@jupyter-widgets/controls",
          "model_name": "ProgressStyleModel",
          "model_module_version": "1.5.0",
          "state": {
            "_model_module": "@jupyter-widgets/controls",
            "_model_module_version": "1.5.0",
            "_model_name": "ProgressStyleModel",
            "_view_count": null,
            "_view_module": "@jupyter-widgets/base",
            "_view_module_version": "1.2.0",
            "_view_name": "StyleView",
            "bar_color": null,
            "description_width": ""
          }
        },
        "8912a408d8ec4212866806b61fcaf46c": {
          "model_module": "@jupyter-widgets/base",
          "model_name": "LayoutModel",
          "model_module_version": "1.2.0",
          "state": {
            "_model_module": "@jupyter-widgets/base",
            "_model_module_version": "1.2.0",
            "_model_name": "LayoutModel",
            "_view_count": null,
            "_view_module": "@jupyter-widgets/base",
            "_view_module_version": "1.2.0",
            "_view_name": "LayoutView",
            "align_content": null,
            "align_items": null,
            "align_self": null,
            "border": null,
            "bottom": null,
            "display": null,
            "flex": null,
            "flex_flow": null,
            "grid_area": null,
            "grid_auto_columns": null,
            "grid_auto_flow": null,
            "grid_auto_rows": null,
            "grid_column": null,
            "grid_gap": null,
            "grid_row": null,
            "grid_template_areas": null,
            "grid_template_columns": null,
            "grid_template_rows": null,
            "height": null,
            "justify_content": null,
            "justify_items": null,
            "left": null,
            "margin": null,
            "max_height": null,
            "max_width": null,
            "min_height": null,
            "min_width": null,
            "object_fit": null,
            "object_position": null,
            "order": null,
            "overflow": null,
            "overflow_x": null,
            "overflow_y": null,
            "padding": null,
            "right": null,
            "top": null,
            "visibility": null,
            "width": null
          }
        },
        "1ee77cada3434d59916bd5fec5c3c44c": {
          "model_module": "@jupyter-widgets/controls",
          "model_name": "DescriptionStyleModel",
          "model_module_version": "1.5.0",
          "state": {
            "_model_module": "@jupyter-widgets/controls",
            "_model_module_version": "1.5.0",
            "_model_name": "DescriptionStyleModel",
            "_view_count": null,
            "_view_module": "@jupyter-widgets/base",
            "_view_module_version": "1.2.0",
            "_view_name": "StyleView",
            "description_width": ""
          }
        }
      }
    }
  },
  "nbformat": 4,
  "nbformat_minor": 0
}